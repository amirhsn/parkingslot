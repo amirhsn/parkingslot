{
 "cells": [
  {
   "cell_type": "code",
   "execution_count": 92,
   "metadata": {},
   "outputs": [],
   "source": [
    "#Import modul\n",
    "from PIL import Image                                   \n",
    "import cv2                                              \n",
    "import numpy as np                                      \n",
    "import matplotlib.pyplot as plt "
   ]
  },
  {
   "cell_type": "code",
   "execution_count": 93,
   "metadata": {},
   "outputs": [],
   "source": [
    "#Load images\n",
    "image = cv2.imread(\"data/CNR/samples/cam9.jpg\")\n",
    "image = cv2.resize(image, (image.shape[1],image.shape[0]), interpolation = cv2.INTER_AREA)\n",
    "plottedImage = image.copy()\n",
    "#cv2.imshow(\"Image\",plottedImage)\n",
    "#cv2.waitKey(0)\n",
    "#cv2.destroyAllWindows()"
   ]
  },
  {
   "cell_type": "code",
   "execution_count": 94,
   "metadata": {},
   "outputs": [],
   "source": [
    "#Load koodinat npy\n",
    "ROI_slot = np.load('data/CNR/coordinate/cam9mul.npy',allow_pickle=True)"
   ]
  },
  {
   "cell_type": "code",
   "execution_count": 95,
   "metadata": {},
   "outputs": [
    {
     "data": {
      "text/plain": [
       "array([list([[[None, None], [None, None], [None, None], [None, None]], [[None, None], [None, None], [None, None], [None, None]], [[None, None], [None, None], [None, None], [None, None]], [[None, None], [None, None], [None, None], [None, None]], [[None, None], [None, None], [None, None], [None, None]], [[None, None], [None, None], [None, None], [None, None]], [[None, None], [None, None], [None, None], [None, None]], [[None, None], [None, None], [None, None], [None, None]], [[None, None], [None, None], [None, None], [None, None]], [[None, None], [None, None], [None, None], [None, None]], [[None, None], [None, None], [None, None], [None, None]], [[None, None], [None, None], [None, None], [None, None]], [[None, None], [None, None], [None, None], [None, None]], [[None, None], [None, None], [None, None], [None, None]], [[None, None], [None, None], [None, None], [None, None]], [[None, None], [None, None], [None, None], [None, None]], [[None, None], [None, None], [None, None], [None, None]], [[None, None], [None, None], [None, None], [None, None]], [[None, None], [None, None], [None, None], [None, None]], [[None, None], [None, None], [None, None], [None, None]], [[None, None], [None, None], [None, None], [None, None]], [[None, None], [None, None], [None, None], [None, None]], [[None, None], [None, None], [None, None], [None, None]], [[None, None], [None, None], [None, None], [None, None]], [[None, None], [None, None], [None, None], [None, None]], [[None, None], [None, None], [None, None], [None, None]], [[None, None], [None, None], [None, None], [None, None]], [[998, 50], [998, 100], [968, 98], [971, 41]], [[968, 98], [971, 41], [916, 42], [905, 92]], [[916, 42], [905, 92], [846, 78], [861, 33]], [[846, 78], [861, 33], [802, 30], [787, 69]], [[802, 30], [787, 69], [722, 73], [747, 27]], [[722, 73], [747, 27], [697, 22], [670, 69]], [[697, 22], [670, 69], [616, 68], [645, 21]], [[616, 68], [645, 21], [594, 18], [562, 62]]]),\n",
       "       list([[[None, None], [None, None], [None, None], [None, None]], [[None, None], [None, None], [None, None], [None, None]], [[None, None], [None, None], [None, None], [None, None]], [[None, None], [None, None], [None, None], [None, None]], [[None, None], [None, None], [None, None], [None, None]], [[None, None], [None, None], [None, None], [None, None]], [[None, None], [None, None], [None, None], [None, None]], [[None, None], [None, None], [None, None], [None, None]], [[None, None], [None, None], [None, None], [None, None]], [[None, None], [None, None], [None, None], [None, None]], [[None, None], [None, None], [None, None], [None, None]], [[None, None], [None, None], [None, None], [None, None]], [[None, None], [None, None], [None, None], [None, None]], [[None, None], [None, None], [None, None], [None, None]], [[None, None], [None, None], [None, None], [None, None]], [[None, None], [None, None], [None, None], [None, None]], [[None, None], [None, None], [None, None], [None, None]], [[None, None], [None, None], [None, None], [None, None]], [[None, None], [None, None], [None, None], [None, None]], [[None, None], [None, None], [None, None], [None, None]], [[None, None], [None, None], [None, None], [None, None]], [[None, None], [None, None], [None, None], [None, None]], [[None, None], [None, None], [None, None], [None, None]], [[None, None], [None, None], [None, None], [None, None]], [[None, None], [None, None], [None, None], [None, None]], [[None, None], [None, None], [None, None], [None, None]], [[None, None], [None, None], [None, None], [None, None]], [[998, 120], [998, 188], [951, 186], [961, 117]], [[951, 186], [961, 117], [891, 121], [878, 173]], [[891, 121], [878, 173], [796, 165], [819, 107]], [[796, 165], [819, 107], [741, 103], [728, 158]], [[741, 103], [728, 158], [661, 150], [684, 101]], [[661, 150], [684, 101], [614, 99], [594, 149]], [[614, 99], [594, 149], [536, 137], [559, 94]], [[536, 137], [559, 94], [495, 88], [455, 132]]]),\n",
       "       list([[[None, None], [None, None], [None, None], [None, None]], [[None, None], [None, None], [None, None], [None, None]], [[None, None], [None, None], [None, None], [None, None]], [[None, None], [None, None], [None, None], [None, None]], [[None, None], [None, None], [None, None], [None, None]], [[None, None], [None, None], [None, None], [None, None]], [[None, None], [None, None], [None, None], [None, None]], [[None, None], [None, None], [None, None], [None, None]], [[None, None], [None, None], [None, None], [None, None]], [[None, None], [None, None], [None, None], [None, None]], [[None, None], [None, None], [None, None], [None, None]], [[None, None], [None, None], [None, None], [None, None]], [[None, None], [None, None], [None, None], [None, None]], [[None, None], [None, None], [None, None], [None, None]], [[None, None], [None, None], [None, None], [None, None]], [[None, None], [None, None], [None, None], [None, None]], [[None, None], [None, None], [None, None], [None, None]], [[None, None], [None, None], [None, None], [None, None]], [[None, None], [None, None], [None, None], [None, None]], [[None, None], [None, None], [None, None], [None, None]], [[None, None], [None, None], [None, None], [None, None]], [[None, None], [None, None], [None, None], [None, None]], [[None, None], [None, None], [None, None], [None, None]], [[None, None], [None, None], [None, None], [None, None]], [[None, None], [None, None], [None, None], [None, None]], [[None, None], [None, None], [None, None], [None, None]], [[None, None], [None, None], [None, None], [None, None]], [[None, None], [None, None], [None, None], [None, None]], [[None, None], [None, None], [None, None], [None, None]], [[None, None], [None, None], [None, None], [None, None]], [[997, 202], [998, 280], [950, 271], [958, 196]], [[950, 271], [958, 196], [862, 190], [848, 259]], [[862, 190], [848, 259], [754, 245], [770, 179]], [[754, 245], [770, 179], [685, 175], [658, 238]], [[685, 175], [658, 238], [584, 222], [611, 166]], [[584, 222], [611, 166], [536, 156], [510, 216]], [[536, 156], [510, 216], [436, 201], [470, 144]], [[436, 201], [470, 144], [414, 141], [367, 187]]]),\n",
       "       list([[[None, None], [None, None], [None, None], [None, None]], [[None, None], [None, None], [None, None], [None, None]], [[None, None], [None, None], [None, None], [None, None]], [[None, None], [None, None], [None, None], [None, None]], [[None, None], [None, None], [None, None], [None, None]], [[None, None], [None, None], [None, None], [None, None]], [[None, None], [None, None], [None, None], [None, None]], [[None, None], [None, None], [None, None], [None, None]], [[None, None], [None, None], [None, None], [None, None]], [[None, None], [None, None], [None, None], [None, None]], [[None, None], [None, None], [None, None], [None, None]], [[None, None], [None, None], [None, None], [None, None]], [[None, None], [None, None], [None, None], [None, None]], [[None, None], [None, None], [None, None], [None, None]], [[None, None], [None, None], [None, None], [None, None]], [[None, None], [None, None], [None, None], [None, None]], [[None, None], [None, None], [None, None], [None, None]], [[None, None], [None, None], [None, None], [None, None]], [[None, None], [None, None], [None, None], [None, None]], [[None, None], [None, None], [None, None], [None, None]], [[None, None], [None, None], [None, None], [None, None]], [[None, None], [None, None], [None, None], [None, None]], [[None, None], [None, None], [None, None], [None, None]], [[None, None], [None, None], [None, None], [None, None]], [[None, None], [None, None], [None, None], [None, None]], [[None, None], [None, None], [None, None], [None, None]], [[None, None], [None, None], [None, None], [None, None]], [[None, None], [None, None], [None, None], [None, None]], [[None, None], [None, None], [None, None], [None, None]], [[None, None], [None, None], [None, None], [None, None]], [[None, None], [None, None], [None, None], [None, None]], [[None, None], [None, None], [None, None], [None, None]], [[None, None], [None, None], [None, None], [None, None]], [[None, None], [None, None], [None, None], [None, None]], [[None, None], [None, None], [None, None], [None, None]], [[None, None], [None, None], [None, None], [None, None]], [[None, None], [None, None], [None, None], [None, None]], [[999, 434], [996, 590], [926, 576], [934, 424]], [[926, 576], [934, 424], [809, 406], [779, 551]], [[809, 406], [779, 551], [619, 514], [679, 374]], [[619, 514], [679, 374], [580, 359], [495, 488]], [[580, 359], [495, 488], [377, 451], [457, 336]], [[377, 451], [457, 336], [378, 320], [281, 429]], [[378, 320], [281, 429], [169, 410], [302, 305]], [[169, 410], [302, 305], [212, 293], [82, 384]]]),\n",
       "       list([[[800, 716], [791, 740], [476, 743], [531, 638]], [[476, 743], [531, 638], [250, 554], [183, 639]], [[250, 554], [183, 639], [2, 575], [29, 474]]])],\n",
       "      dtype=object)"
      ]
     },
     "execution_count": 95,
     "metadata": {},
     "output_type": "execute_result"
    }
   ],
   "source": [
    "ROI_slot"
   ]
  },
  {
   "cell_type": "code",
   "execution_count": 97,
   "metadata": {},
   "outputs": [
    {
     "name": "stdout",
     "output_type": "stream",
     "text": [
      "[[None, None], [None, None], [None, None], [None, None]]\n",
      "[[None, None], [None, None], [None, None], [None, None]]\n",
      "[[None, None], [None, None], [None, None], [None, None]]\n",
      "[[None, None], [None, None], [None, None], [None, None]]\n",
      "[[None, None], [None, None], [None, None], [None, None]]\n",
      "[[None, None], [None, None], [None, None], [None, None]]\n",
      "[[None, None], [None, None], [None, None], [None, None]]\n",
      "[[None, None], [None, None], [None, None], [None, None]]\n",
      "[[None, None], [None, None], [None, None], [None, None]]\n",
      "[[None, None], [None, None], [None, None], [None, None]]\n",
      "[[None, None], [None, None], [None, None], [None, None]]\n",
      "[[None, None], [None, None], [None, None], [None, None]]\n",
      "[[None, None], [None, None], [None, None], [None, None]]\n",
      "[[None, None], [None, None], [None, None], [None, None]]\n",
      "[[None, None], [None, None], [None, None], [None, None]]\n",
      "[[None, None], [None, None], [None, None], [None, None]]\n",
      "[[None, None], [None, None], [None, None], [None, None]]\n",
      "[[None, None], [None, None], [None, None], [None, None]]\n",
      "[[None, None], [None, None], [None, None], [None, None]]\n",
      "[[None, None], [None, None], [None, None], [None, None]]\n",
      "[[None, None], [None, None], [None, None], [None, None]]\n",
      "[[None, None], [None, None], [None, None], [None, None]]\n",
      "[[None, None], [None, None], [None, None], [None, None]]\n",
      "[[None, None], [None, None], [None, None], [None, None]]\n",
      "[[None, None], [None, None], [None, None], [None, None]]\n",
      "[[None, None], [None, None], [None, None], [None, None]]\n",
      "[[None, None], [None, None], [None, None], [None, None]]\n",
      "[[998, 120], [998, 188], [951, 186], [961, 117]]\n",
      "[[951, 186], [961, 117], [891, 121], [878, 173]]\n",
      "[[891, 121], [878, 173], [796, 165], [819, 107]]\n",
      "[[796, 165], [819, 107], [741, 103], [728, 158]]\n",
      "[[741, 103], [728, 158], [661, 150], [684, 101]]\n",
      "[[661, 150], [684, 101], [614, 99], [594, 149]]\n",
      "[[614, 99], [594, 149], [536, 137], [559, 94]]\n",
      "[[536, 137], [559, 94], [495, 88], [455, 132]]\n"
     ]
    }
   ],
   "source": [
    "for i in ROI_slot[1]:\n",
    "    print(i)"
   ]
  },
  {
   "cell_type": "code",
   "execution_count": 98,
   "metadata": {},
   "outputs": [],
   "source": [
    "#Plotting\n",
    "for row in range(len(ROI_slot)):\n",
    "    for slots in range(len(ROI_slot[row])):\n",
    "        for titik in range (len(ROI_slot[row][slots])):\n",
    "            if ROI_slot[row][slots][titik][0] == None:\n",
    "                pass\n",
    "            else:\n",
    "                x1 = ROI_slot[row][slots][titik][0]\n",
    "                y1 = ROI_slot[row][slots][titik][1]\n",
    "                if titik==3:\n",
    "                    x2 = ROI_slot[row][slots][0][0]\n",
    "                    y2 = ROI_slot[row][slots][0][1]\n",
    "                else:\n",
    "                    x2 = ROI_slot[row][slots][titik+1][0]\n",
    "                    y2 = ROI_slot[row][slots][titik+1][1]\n",
    "                cv2.line(plottedImage,(x1,y1),(x2,y2),(0,0,255),1)"
   ]
  },
  {
   "cell_type": "code",
   "execution_count": 99,
   "metadata": {},
   "outputs": [],
   "source": [
    "cv2.imshow(\"Image\",plottedImage)\n",
    "cv2.waitKey(0)\n",
    "cv2.destroyAllWindows()"
   ]
  },
  {
   "cell_type": "code",
   "execution_count": null,
   "metadata": {},
   "outputs": [],
   "source": []
  }
 ],
 "metadata": {
  "kernelspec": {
   "display_name": "Python 3",
   "language": "python",
   "name": "python3"
  },
  "language_info": {
   "codemirror_mode": {
    "name": "ipython",
    "version": 3
   },
   "file_extension": ".py",
   "mimetype": "text/x-python",
   "name": "python",
   "nbconvert_exporter": "python",
   "pygments_lexer": "ipython3",
   "version": "3.8.5"
  }
 },
 "nbformat": 4,
 "nbformat_minor": 4
}
