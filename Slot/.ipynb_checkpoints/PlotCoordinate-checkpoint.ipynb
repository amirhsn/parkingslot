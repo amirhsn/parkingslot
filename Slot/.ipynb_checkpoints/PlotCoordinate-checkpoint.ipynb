{
 "cells": [
  {
   "cell_type": "code",
   "execution_count": 33,
   "metadata": {},
   "outputs": [],
   "source": [
    "#Import modul\n",
    "from PIL import Image                                   \n",
    "import cv2                                              \n",
    "import numpy as np                                      \n",
    "import matplotlib.pyplot as plt "
   ]
  },
  {
   "cell_type": "code",
   "execution_count": 34,
   "metadata": {},
   "outputs": [],
   "source": [
    "#Load images\n",
    "image = cv2.imread(\"data/CNR/samples/cam2.jpg\")\n",
    "image = cv2.resize(image, (image.shape[1],image.shape[0]), interpolation = cv2.INTER_AREA)\n",
    "plottedImage = image.copy()"
   ]
  },
  {
   "cell_type": "code",
   "execution_count": 35,
   "metadata": {},
   "outputs": [],
   "source": [
    "#Load koodinat npy\n",
    "ROI_slot = np.load('data/CNR/coordinate/cam2.npy',allow_pickle=True)"
   ]
  },
  {
   "cell_type": "code",
   "execution_count": 36,
   "metadata": {},
   "outputs": [
    {
     "data": {
      "text/plain": [
       "array([list([[[114, 137], [186, 85], [109, 70], [32, 127]], [[109, 70], [32, 127], [3, 91], [33, 67]]]),\n",
       "       list([[[632, 465], [642, 320], [533, 309], [497, 448]], [[533, 309], [497, 448], [357, 430], [418, 295]], [[357, 430], [418, 295], [302, 277], [244, 413]], [[302, 277], [244, 413], [103, 390], [201, 265]], [[103, 390], [201, 265], [98, 253], [0, 351]], [[98, 253], [0, 351], [3, 240], [9, 240]]]),\n",
       "       list([[[2, 517], [3, 626], [289, 676], [330, 569]], [[289, 676], [330, 569], [664, 628], [662, 731]], [[664, 628], [662, 731], [998, 735], [997, 670]]])],\n",
       "      dtype=object)"
      ]
     },
     "execution_count": 36,
     "metadata": {},
     "output_type": "execute_result"
    }
   ],
   "source": [
    "ROI_slot"
   ]
  },
  {
   "cell_type": "code",
   "execution_count": 37,
   "metadata": {},
   "outputs": [
    {
     "data": {
      "text/plain": [
       "[[114, 137], [186, 85], [109, 70], [32, 127]]"
      ]
     },
     "execution_count": 37,
     "metadata": {},
     "output_type": "execute_result"
    }
   ],
   "source": [
    "len(ROI_slot[0][0])\n",
    "ROI_slot[0][0]"
   ]
  },
  {
   "cell_type": "code",
   "execution_count": 38,
   "metadata": {},
   "outputs": [],
   "source": [
    "#Plotting\n",
    "for row in range(len(ROI_slot)):\n",
    "    for slots in range(len(ROI_slot[row])):\n",
    "        for titik in range (len(ROI_slot[row][slots])):\n",
    "            x1 = ROI_slot[row][slots][titik][0]\n",
    "            y1 = ROI_slot[row][slots][titik][1]\n",
    "            if titik==3:\n",
    "                x2 = ROI_slot[row][slots][0][0]\n",
    "                y2 = ROI_slot[row][slots][0][1]\n",
    "            else:\n",
    "                x2 = ROI_slot[row][slots][titik+1][0]\n",
    "                y2 = ROI_slot[row][slots][titik+1][1]\n",
    "            cv2.line(plottedImage,(x1,y1),(x2,y2),(0,0,255),1)"
   ]
  },
  {
   "cell_type": "code",
   "execution_count": 39,
   "metadata": {},
   "outputs": [],
   "source": [
    "cv2.imshow(\"Image\",plottedImage)\n",
    "cv2.waitKey(0)\n",
    "cv2.destroyAllWindows()"
   ]
  },
  {
   "cell_type": "code",
   "execution_count": null,
   "metadata": {},
   "outputs": [],
   "source": []
  }
 ],
 "metadata": {
  "kernelspec": {
   "display_name": "Python 3",
   "language": "python",
   "name": "python3"
  },
  "language_info": {
   "codemirror_mode": {
    "name": "ipython",
    "version": 3
   },
   "file_extension": ".py",
   "mimetype": "text/x-python",
   "name": "python",
   "nbconvert_exporter": "python",
   "pygments_lexer": "ipython3",
   "version": "3.8.5"
  }
 },
 "nbformat": 4,
 "nbformat_minor": 4
}
