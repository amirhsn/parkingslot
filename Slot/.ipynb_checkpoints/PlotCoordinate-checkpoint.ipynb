{
 "cells": [
  {
   "cell_type": "code",
   "execution_count": 1,
   "metadata": {},
   "outputs": [],
   "source": [
    "#Import modul\n",
    "from PIL import Image                                   \n",
    "import cv2                                              \n",
    "import numpy as np                                      \n",
    "import matplotlib.pyplot as plt "
   ]
  },
  {
   "cell_type": "code",
   "execution_count": 2,
   "metadata": {},
   "outputs": [],
   "source": [
    "#Load images\n",
    "image = cv2.imread(\"Gambar/tes4.jpg\")\n",
    "image = cv2.resize(image, (1024,600), interpolation = cv2.INTER_AREA)\n",
    "plottedImage = image.copy()"
   ]
  },
  {
   "cell_type": "code",
   "execution_count": 3,
   "metadata": {},
   "outputs": [],
   "source": [
    "#Load koodinat npy\n",
    "ROI_slot = np.load('Tes.npy',allow_pickle=True)"
   ]
  },
  {
   "cell_type": "code",
   "execution_count": 4,
   "metadata": {},
   "outputs": [
    {
     "data": {
      "text/plain": [
       "array([list([[[622, 65], [620, 41], [561, 40], [558, 64]], [[561, 40], [558, 64], [499, 68], [507, 41]], [[499, 68], [507, 41], [446, 39], [431, 65]], [[446, 39], [431, 65], [378, 64], [389, 40]], [[378, 64], [389, 40], [336, 38], [325, 61]], [[336, 38], [325, 61], [274, 58], [283, 38]], [[274, 58], [283, 38], [235, 36], [221, 57]], [[235, 36], [221, 57], [162, 57], [179, 35]], [[162, 57], [179, 35], [134, 33], [112, 54]], [[134, 33], [112, 54], [50, 55], [67, 33]], [[50, 55], [67, 33], [23, 32], [1, 57]]]),\n",
       "       list([[[629, 128], [625, 91], [554, 91], [549, 130]], [[554, 91], [549, 130], [481, 126], [489, 92]], [[481, 126], [489, 92], [413, 89], [401, 122]], [[413, 89], [401, 122], [328, 121], [340, 89]], [[328, 121], [340, 89], [272, 86], [255, 121]], [[272, 86], [255, 121], [185, 118], [197, 84]], [[185, 118], [197, 84], [137, 81], [100, 120]], [[137, 81], [100, 120], [32, 118], [58, 81]], [[32, 118], [58, 81], [8, 80], [2, 119]]]),\n",
       "       list([[[1020, 207], [978, 156], [894, 160], [937, 213]], [[894, 160], [937, 213], [835, 213], [804, 163]], [[835, 213], [804, 163], [720, 159], [730, 213]], [[720, 159], [730, 213], [637, 211], [631, 162]], [[637, 211], [631, 162], [541, 158], [534, 208]], [[541, 158], [534, 208], [444, 206], [456, 159]], [[444, 206], [456, 159], [372, 154], [350, 203]], [[372, 154], [350, 203], [260, 200], [287, 154]], [[260, 200], [287, 154], [200, 151], [169, 202]], [[200, 151], [169, 202], [68, 198], [113, 150]], [[68, 198], [113, 150], [33, 143], [4, 198]]]),\n",
       "       list([[[1021, 427], [1018, 316], [917, 312], [972, 429]], [[917, 312], [972, 429], [846, 428], [791, 312]], [[846, 428], [791, 312], [647, 307], [655, 420]], [[647, 307], [655, 420], [508, 417], [517, 310]], [[508, 417], [517, 310], [401, 304], [353, 415]], [[401, 304], [353, 415], [208, 408], [279, 299]], [[208, 408], [279, 299], [162, 297], [68, 402]], [[162, 297], [68, 402], [2, 403], [46, 300]]]),\n",
       "       list([[[1020, 598], [1016, 545], [713, 549], [717, 595]], [[713, 549], [717, 595], [333, 597], [350, 539]], [[333, 597], [350, 539], [28, 520], [2, 594]]])],\n",
       "      dtype=object)"
      ]
     },
     "execution_count": 4,
     "metadata": {},
     "output_type": "execute_result"
    }
   ],
   "source": [
    "ROI_slot"
   ]
  },
  {
   "cell_type": "code",
   "execution_count": 5,
   "metadata": {},
   "outputs": [
    {
     "data": {
      "text/plain": [
       "[[622, 65], [620, 41], [561, 40], [558, 64]]"
      ]
     },
     "execution_count": 5,
     "metadata": {},
     "output_type": "execute_result"
    }
   ],
   "source": [
    "len(ROI_slot[0][0])\n",
    "ROI_slot[0][0]"
   ]
  },
  {
   "cell_type": "code",
   "execution_count": 6,
   "metadata": {},
   "outputs": [],
   "source": [
    "for row in range(len(ROI_slot)):\n",
    "    for slots in range(len(ROI_slot[row])):\n",
    "        for titik in range (len(ROI_slot[row][slots])):\n",
    "            x1 = ROI_slot[row][slots][titik][0]\n",
    "            y1 = ROI_slot[row][slots][titik][1]\n",
    "            if titik==3:\n",
    "                x2 = ROI_slot[row][slots][0][0]\n",
    "                y2 = ROI_slot[row][slots][0][1]\n",
    "            else:\n",
    "                x2 = ROI_slot[row][slots][titik+1][0]\n",
    "                y2 = ROI_slot[row][slots][titik+1][1]\n",
    "            cv2.line(plottedImage,(x1,y1),(x2,y2),(0,0,255),2)"
   ]
  },
  {
   "cell_type": "code",
   "execution_count": 7,
   "metadata": {},
   "outputs": [
    {
     "data": {
      "text/plain": [
       "<function destroyAllWindows>"
      ]
     },
     "execution_count": 7,
     "metadata": {},
     "output_type": "execute_result"
    }
   ],
   "source": [
    "cv2.imshow(\"Image\",plottedImage)\n",
    "cv2.waitKey(0)\n",
    "cv2.destroyAllWindows()"
   ]
  },
  {
   "cell_type": "code",
   "execution_count": null,
   "metadata": {},
   "outputs": [],
   "source": []
  }
 ],
 "metadata": {
  "kernelspec": {
   "display_name": "Python 3",
   "language": "python",
   "name": "python3"
  },
  "language_info": {
   "codemirror_mode": {
    "name": "ipython",
    "version": 3
   },
   "file_extension": ".py",
   "mimetype": "text/x-python",
   "name": "python",
   "nbconvert_exporter": "python",
   "pygments_lexer": "ipython3",
   "version": "3.8.5"
  }
 },
 "nbformat": 4,
 "nbformat_minor": 4
}
