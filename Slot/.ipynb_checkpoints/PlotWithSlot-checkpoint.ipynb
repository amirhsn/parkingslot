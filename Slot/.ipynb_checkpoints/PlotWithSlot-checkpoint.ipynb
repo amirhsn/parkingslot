{
 "cells": [
  {
   "cell_type": "code",
   "execution_count": 10,
   "metadata": {},
   "outputs": [],
   "source": [
    "#Import modul\n",
    "from PIL import Image                                   \n",
    "import cv2                                              \n",
    "import numpy as np                                      \n",
    "import matplotlib.pyplot as plt "
   ]
  },
  {
   "cell_type": "code",
   "execution_count": 11,
   "metadata": {},
   "outputs": [],
   "source": [
    "#Load images\n",
    "image = cv2.imread(\"data/CNR/samples/cam8.jpg\")\n",
    "image = cv2.resize(image, (image.shape[1],image.shape[0]), interpolation = cv2.INTER_AREA)\n",
    "plottedImage = image.copy()\n",
    "font = cv2.FONT_HERSHEY_SIMPLEX\n",
    "fontScale = 0.35"
   ]
  },
  {
   "cell_type": "code",
   "execution_count": 12,
   "metadata": {},
   "outputs": [
    {
     "data": {
      "text/plain": [
       "[[[None, None], [None, None], [None, None], [None, None]],\n",
       " [[None, None], [None, None], [None, None], [None, None]],\n",
       " [[None, None], [None, None], [None, None], [None, None]],\n",
       " [[None, None], [None, None], [None, None], [None, None]],\n",
       " [[None, None], [None, None], [None, None], [None, None]],\n",
       " [[None, None], [None, None], [None, None], [None, None]],\n",
       " [[None, None], [None, None], [None, None], [None, None]],\n",
       " [[None, None], [None, None], [None, None], [None, None]],\n",
       " [[None, None], [None, None], [None, None], [None, None]],\n",
       " [[None, None], [None, None], [None, None], [None, None]],\n",
       " [[None, None], [None, None], [None, None], [None, None]],\n",
       " [[None, None], [None, None], [None, None], [None, None]],\n",
       " [[None, None], [None, None], [None, None], [None, None]],\n",
       " [[None, None], [None, None], [None, None], [None, None]],\n",
       " [[None, None], [None, None], [None, None], [None, None]],\n",
       " [[None, None], [None, None], [None, None], [None, None]],\n",
       " [[999, 91], [971, 60], [929, 62], [949, 92]],\n",
       " [[929, 62], [949, 92], [891, 92], [873, 63]],\n",
       " [[891, 92], [873, 63], [824, 64], [837, 91]],\n",
       " [[824, 64], [837, 91], [787, 92], [770, 64]],\n",
       " [[787, 92], [770, 64], [718, 64], [727, 91]],\n",
       " [[718, 64], [727, 91], [671, 91], [661, 65]],\n",
       " [[671, 91], [661, 65], [609, 60], [616, 89]],\n",
       " [[609, 60], [616, 89], [569, 85], [560, 65]],\n",
       " [[569, 85], [560, 65], [506, 65], [506, 95]],\n",
       " [[506, 65], [506, 95], [449, 93], [451, 67]],\n",
       " [[449, 93], [451, 67], [393, 66], [391, 89]],\n",
       " [[393, 66], [391, 89], [339, 89], [345, 68]],\n",
       " [[339, 89], [345, 68], [297, 68], [281, 90]],\n",
       " [[297, 68], [281, 90], [222, 90], [237, 67]],\n",
       " [[222, 90], [237, 67], [188, 67], [166, 90]],\n",
       " [[188, 67], [166, 90], [109, 90], [130, 67]],\n",
       " [[109, 90], [130, 67], [76, 65], [57, 87]],\n",
       " [[76, 65], [57, 87], [8, 87], [18, 64]]]"
      ]
     },
     "execution_count": 12,
     "metadata": {},
     "output_type": "execute_result"
    }
   ],
   "source": [
    "#Load koodinat npy\n",
    "ROI_slot = np.load('data/CNR/coordinate/cam8mul.npy',allow_pickle=True)\n",
    "ROI_slot[0]"
   ]
  },
  {
   "cell_type": "code",
   "execution_count": 13,
   "metadata": {},
   "outputs": [
    {
     "data": {
      "text/plain": [
       "[[None, None], [None, None], [None, None], [None, None]]"
      ]
     },
     "execution_count": 13,
     "metadata": {},
     "output_type": "execute_result"
    }
   ],
   "source": [
    "ROI_slot[0][12]"
   ]
  },
  {
   "cell_type": "code",
   "execution_count": 14,
   "metadata": {},
   "outputs": [
    {
     "data": {
      "text/plain": [
       "list"
      ]
     },
     "execution_count": 14,
     "metadata": {},
     "output_type": "execute_result"
    }
   ],
   "source": [
    "type(min(ROI_slot[0][12]))"
   ]
  },
  {
   "cell_type": "code",
   "execution_count": 15,
   "metadata": {},
   "outputs": [],
   "source": [
    "#Plotting\n",
    "for row in range(4):\n",
    "    for slots in range(len(ROI_slot[row])):\n",
    "        for titik in range (len(ROI_slot[row][slots])):\n",
    "            if ROI_slot[row][slots][titik][0] == None:\n",
    "                pass\n",
    "            else:\n",
    "                x1 = ROI_slot[row][slots][titik][0]\n",
    "                y1 = ROI_slot[row][slots][titik][1]\n",
    "                if titik==3:\n",
    "                    x2 = ROI_slot[row][slots][0][0]\n",
    "                    y2 = ROI_slot[row][slots][0][1]\n",
    "                else:\n",
    "                    x2 = ROI_slot[row][slots][titik+1][0]\n",
    "                    y2 = ROI_slot[row][slots][titik+1][1]    \n",
    "                cv2.line(plottedImage,(x1,y1),(x2,y2),(0,0,255),1)\n",
    "                org = tuple(min(ROI_slot[row][slots]))\n",
    "                slotId = \"(\"+str(row+1)+\"-\"+str(slots+1)+\")\"\n",
    "                cv2.putText(plottedImage, slotId, org, font, fontScale, (255,255,255), 1)"
   ]
  },
  {
   "cell_type": "code",
   "execution_count": null,
   "metadata": {},
   "outputs": [],
   "source": [
    "cv2.imshow(\"Image\",plottedImage)\n",
    "cv2.waitKey(0)\n",
    "cv2.destroyAllWindows()"
   ]
  },
  {
   "cell_type": "code",
   "execution_count": 31,
   "metadata": {},
   "outputs": [],
   "source": [
    "#save\n",
    "#fileName = \"data/CNR/hasil1/cam9mul.jpg\"\n",
    "#cv2.imwrite(fileName, plottedImage)"
   ]
  }
 ],
 "metadata": {
  "kernelspec": {
   "display_name": "Python 3",
   "language": "python",
   "name": "python3"
  },
  "language_info": {
   "codemirror_mode": {
    "name": "ipython",
    "version": 3
   },
   "file_extension": ".py",
   "mimetype": "text/x-python",
   "name": "python",
   "nbconvert_exporter": "python",
   "pygments_lexer": "ipython3",
   "version": "3.8.5"
  }
 },
 "nbformat": 4,
 "nbformat_minor": 4
}
