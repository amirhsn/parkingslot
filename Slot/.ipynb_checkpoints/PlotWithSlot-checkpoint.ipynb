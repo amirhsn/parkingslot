{
 "cells": [
  {
   "cell_type": "code",
   "execution_count": 188,
   "metadata": {},
   "outputs": [],
   "source": [
    "#Import modul\n",
    "from PIL import Image                                   \n",
    "import cv2                                              \n",
    "import numpy as np                                      \n",
    "import matplotlib.pyplot as plt "
   ]
  },
  {
   "cell_type": "code",
   "execution_count": 189,
   "metadata": {},
   "outputs": [],
   "source": [
    "#Load images\n",
    "image = cv2.imread(\"data/CNR/samples/cam1.jpg\")\n",
    "image = cv2.resize(image, (image.shape[1],image.shape[0]), interpolation = cv2.INTER_AREA)\n",
    "plottedImage = image.copy()\n",
    "font = cv2.FONT_HERSHEY_SIMPLEX\n",
    "fontScale = 0.35"
   ]
  },
  {
   "cell_type": "code",
   "execution_count": 190,
   "metadata": {},
   "outputs": [
    {
     "data": {
      "text/plain": [
       "[[[None, None], [None, None], [None, None], [None, None]],\n",
       " [[None, None], [None, None], [None, None], [None, None]],\n",
       " [[None, None], [None, None], [None, None], [None, None]],\n",
       " [[None, None], [None, None], [None, None], [None, None]],\n",
       " [[None, None], [None, None], [None, None], [None, None]],\n",
       " [[None, None], [None, None], [None, None], [None, None]],\n",
       " [[None, None], [None, None], [None, None], [None, None]],\n",
       " [[None, None], [None, None], [None, None], [None, None]],\n",
       " [[None, None], [None, None], [None, None], [None, None]],\n",
       " [[None, None], [None, None], [None, None], [None, None]],\n",
       " [[None, None], [None, None], [None, None], [None, None]],\n",
       " [[None, None], [None, None], [None, None], [None, None]],\n",
       " [[None, None], [None, None], [None, None], [None, None]],\n",
       " [[None, None], [None, None], [None, None], [None, None]],\n",
       " [[None, None], [None, None], [None, None], [None, None]],\n",
       " [[None, None], [None, None], [None, None], [None, None]],\n",
       " [[None, None], [None, None], [None, None], [None, None]],\n",
       " [[None, None], [None, None], [None, None], [None, None]],\n",
       " [[None, None], [None, None], [None, None], [None, None]],\n",
       " [[None, None], [None, None], [None, None], [None, None]],\n",
       " [[None, None], [None, None], [None, None], [None, None]],\n",
       " [[None, None], [None, None], [None, None], [None, None]],\n",
       " [[None, None], [None, None], [None, None], [None, None]],\n",
       " [[None, None], [None, None], [None, None], [None, None]],\n",
       " [[None, None], [None, None], [None, None], [None, None]],\n",
       " [[None, None], [None, None], [None, None], [None, None]],\n",
       " [[None, None], [None, None], [None, None], [None, None]],\n",
       " [[998, 50], [998, 100], [968, 98], [971, 41]],\n",
       " [[968, 98], [971, 41], [916, 42], [905, 92]],\n",
       " [[916, 42], [905, 92], [846, 78], [861, 33]],\n",
       " [[846, 78], [861, 33], [802, 30], [787, 69]],\n",
       " [[802, 30], [787, 69], [722, 73], [747, 27]],\n",
       " [[722, 73], [747, 27], [697, 22], [670, 69]],\n",
       " [[697, 22], [670, 69], [616, 68], [645, 21]],\n",
       " [[616, 68], [645, 21], [594, 18], [562, 62]]]"
      ]
     },
     "execution_count": 190,
     "metadata": {},
     "output_type": "execute_result"
    }
   ],
   "source": [
    "#Load koodinat npy\n",
    "ROI_slot = np.load('data/CNR/coordinate/cam1.npy',allow_pickle=True)\n",
    "ROI_slot[0]"
   ]
  },
  {
   "cell_type": "code",
   "execution_count": 191,
   "metadata": {},
   "outputs": [
    {
     "data": {
      "text/plain": [
       "[[None, None], [None, None], [None, None], [None, None]]"
      ]
     },
     "execution_count": 191,
     "metadata": {},
     "output_type": "execute_result"
    }
   ],
   "source": [
    "ROI_slot[0][12]"
   ]
  },
  {
   "cell_type": "code",
   "execution_count": 192,
   "metadata": {},
   "outputs": [
    {
     "data": {
      "text/plain": [
       "list"
      ]
     },
     "execution_count": 192,
     "metadata": {},
     "output_type": "execute_result"
    }
   ],
   "source": [
    "type(min(ROI_slot[0][12]))"
   ]
  },
  {
   "cell_type": "code",
   "execution_count": 193,
   "metadata": {},
   "outputs": [],
   "source": [
    "#Plotting\n",
    "for row in range(4):\n",
    "    for slots in range(len(ROI_slot[row])):\n",
    "        for titik in range (len(ROI_slot[row][slots])):\n",
    "            if ROI_slot[row][slots][titik][0] == None:\n",
    "                pass\n",
    "            else:\n",
    "                x1 = ROI_slot[row][slots][titik][0]\n",
    "                y1 = ROI_slot[row][slots][titik][1]\n",
    "                if titik==3:\n",
    "                    x2 = ROI_slot[row][slots][0][0]\n",
    "                    y2 = ROI_slot[row][slots][0][1]\n",
    "                else:\n",
    "                    x2 = ROI_slot[row][slots][titik+1][0]\n",
    "                    y2 = ROI_slot[row][slots][titik+1][1]    \n",
    "                cv2.line(plottedImage,(x1,y1),(x2,y2),(0,0,255),1)\n",
    "                org = tuple(min(ROI_slot[row][slots]))\n",
    "                slotId = \"(\"+str(row+1)+\"-\"+str(slots+1)+\")\"\n",
    "                cv2.putText(plottedImage, slotId, org, font, fontScale, (255,255,255), 1)"
   ]
  },
  {
   "cell_type": "code",
   "execution_count": 194,
   "metadata": {},
   "outputs": [],
   "source": [
    "cv2.imshow(\"Image\",plottedImage)\n",
    "cv2.waitKey(0)\n",
    "cv2.destroyAllWindows()"
   ]
  },
  {
   "cell_type": "code",
   "execution_count": 195,
   "metadata": {},
   "outputs": [
    {
     "data": {
      "text/plain": [
       "True"
      ]
     },
     "execution_count": 195,
     "metadata": {},
     "output_type": "execute_result"
    }
   ],
   "source": [
    "#save\n",
    "#fileName = \"data/CNR/hasil1/cam9mul.jpg\"\n",
    "#cv2.imwrite(fileName, plottedImage)"
   ]
  }
 ],
 "metadata": {
  "kernelspec": {
   "display_name": "Python 3",
   "language": "python",
   "name": "python3"
  },
  "language_info": {
   "codemirror_mode": {
    "name": "ipython",
    "version": 3
   },
   "file_extension": ".py",
   "mimetype": "text/x-python",
   "name": "python",
   "nbconvert_exporter": "python",
   "pygments_lexer": "ipython3",
   "version": "3.8.5"
  }
 },
 "nbformat": 4,
 "nbformat_minor": 4
}
