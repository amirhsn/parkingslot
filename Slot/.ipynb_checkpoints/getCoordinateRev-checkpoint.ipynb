{
 "cells": [
  {
   "cell_type": "code",
   "execution_count": 1,
   "metadata": {},
   "outputs": [],
   "source": [
    "#Import modul\n",
    "from PIL import Image                                   \n",
    "import cv2                                              \n",
    "import numpy as np                                      \n",
    "import matplotlib.pyplot as plt "
   ]
  },
  {
   "cell_type": "code",
   "execution_count": 2,
   "metadata": {},
   "outputs": [
    {
     "data": {
      "text/plain": [
       "'C:\\\\Users\\\\Changcut\\\\Desktop\\\\ParkingSlot\\\\Slot'"
      ]
     },
     "execution_count": 2,
     "metadata": {},
     "output_type": "execute_result"
    }
   ],
   "source": [
    "import os\n",
    "os.getcwd()"
   ]
  },
  {
   "cell_type": "code",
   "execution_count": 3,
   "metadata": {},
   "outputs": [],
   "source": [
    "image = cv2.imread(\"Gambar/Tes1.jpg\") \n",
    "image = cv2.resize(image, (1024,600), interpolation = cv2.INTER_AREA) \n",
    "state = 0 \n",
    "sum_rows = 0 \n",
    "sum_slots = []  \n",
    "font = cv2.FONT_HERSHEY_PLAIN "
   ]
  },
  {
   "cell_type": "code",
   "execution_count": 4,
   "metadata": {},
   "outputs": [],
   "source": [
    "ROI_slot =[]  \n",
    "imges = image.copy() \n",
    "original_clone = image.copy()  \n",
    "clone = Image.fromarray(original_clone)"
   ]
  },
  {
   "cell_type": "code",
   "execution_count": 5,
   "metadata": {},
   "outputs": [],
   "source": [
    "#PAKE INI\n",
    "def coordinate(event,x,y,flags,param):\n",
    "    global point,click,keyPoint,tAwal,tAkhir,indexClick\n",
    "    \n",
    "    if event==cv2.EVENT_LBUTTONDOWN:\n",
    "        point=(x,y)\n",
    "        keyPoint.append(point)\n",
    "        print(keyPoint)\n",
    "        click = click + 1\n",
    "        if click==1:\n",
    "            tAkhir = tAwal + 1\n",
    "            cv2.line(image,keyPoint[tAwal],keyPoint[tAkhir],(0,0,255),2)\n",
    "        elif click==2:\n",
    "            tAwal = tAkhir\n",
    "            tAkhir = tAkhir + 1\n",
    "            cv2.line(image,keyPoint[tAwal],keyPoint[tAkhir],(0,0,255),2)\n",
    "        elif click==3:\n",
    "            tAwal = tAkhir\n",
    "            tAkhir = tAkhir + 1\n",
    "            cv2.line(image,keyPoint[tAwal],keyPoint[tAkhir],(0,0,255),2)\n",
    "            cv2.line(image,keyPoint[tAwal-2],keyPoint[tAkhir],(0,0,255),2)\n",
    "            click = 1\n",
    "            "
   ]
  },
  {
   "cell_type": "code",
   "execution_count": 6,
   "metadata": {},
   "outputs": [],
   "source": [
    "#Ambil jumlah lahan dan slot parkir\n",
    "while True:                                             \n",
    "    # display the image and wait for a keypress \n",
    "    one = str(sum_rows) \n",
    "    two = str(sum_slots) \n",
    "    three = str(state+1) \n",
    "    cv2.putText(image,(one+\"=\"+two), (100,100), font, 2, (0,0,255),1) \n",
    "    cv2.putText(image,three, (30,30), font, 2, (0,0,255),1) \n",
    "    cv2.imshow(\"Image\",image)                          \n",
    "    key = cv2.waitKey(1) & 0xFF                         \n",
    "    if key == ord(\"p\"):  \n",
    "        sum_rows = sum_rows +1 \n",
    "        sum_slots.append(0) \n",
    "        image = original_clone.copy() \n",
    "    if key == ord(\"l\"): \n",
    "        state=state+1 \n",
    "        if state==sum_rows: \n",
    "            state = 0 \n",
    "        image = original_clone.copy() \n",
    "    if key == ord(\"o\"): \n",
    "        sum_slots[state] = sum_slots[state] +1 \n",
    "        image = original_clone.copy() \n",
    "    elif key == ord(\"c\"):                               \n",
    "        break                                           \n",
    "cv2.destroyAllWindows()"
   ]
  },
  {
   "cell_type": "code",
   "execution_count": 7,
   "metadata": {},
   "outputs": [
    {
     "name": "stdout",
     "output_type": "stream",
     "text": [
      "[(781, 393)]\n",
      "[(781, 393), (729, 288)]\n",
      "[(781, 393), (729, 288), (536, 267)]\n",
      "[(781, 393), (729, 288), (536, 267), (423, 329)]\n",
      "[(781, 393), (729, 288), (536, 267), (423, 329), (235, 296)]\n",
      "[(781, 393), (729, 288), (536, 267), (423, 329), (235, 296), (403, 257)]\n",
      "[(781, 393), (729, 288), (536, 267), (423, 329), (235, 296), (403, 257), (305, 249)]\n",
      "[(781, 393), (729, 288), (536, 267), (423, 329), (235, 296), (403, 257), (305, 249), (110, 277)]\n"
     ]
    }
   ],
   "source": [
    "#Mulai plot slot\n",
    "image = original_clone.copy()\n",
    "for row in range(sum_rows):\n",
    "    point = []\n",
    "    keyPoint = []\n",
    "    click = -1\n",
    "    tAkhir = 0\n",
    "    tAwal = 0\n",
    "\n",
    "    cv2.namedWindow('image')\n",
    "    cv2.setMouseCallback('image',coordinate)\n",
    "\n",
    "    while True:\n",
    "        cv2.imshow('image',image)\n",
    "        if cv2.waitKey(1) & 0xFF == ord('c'):\n",
    "            break\n",
    "    cv2.destroyAllWindows()\n",
    "    \n",
    "    ROI_slot.append([])\n",
    "    for i in range(sum_slots[row]):\n",
    "        ROI_slot[row].append([])\n",
    "        ROI_slot[row][i].append([keyPoint[0+i+i][0],keyPoint[0+i+i][1]])\n",
    "        ROI_slot[row][i].append([keyPoint[1+i+i][0],keyPoint[1+i+i][1]])\n",
    "        ROI_slot[row][i].append([keyPoint[2+i+i][0],keyPoint[2+i+i][1]])\n",
    "        ROI_slot[row][i].append([keyPoint[3+i+i][0],keyPoint[3+i+i][1]])"
   ]
  },
  {
   "cell_type": "code",
   "execution_count": 11,
   "metadata": {},
   "outputs": [
    {
     "data": {
      "text/plain": [
       "[[[[781, 393], [729, 288], [536, 267], [423, 329]],\n",
       "  [[536, 267], [423, 329], [235, 296], [403, 257]],\n",
       "  [[235, 296], [403, 257], [305, 249], [110, 277]]]]"
      ]
     },
     "execution_count": 11,
     "metadata": {},
     "output_type": "execute_result"
    }
   ],
   "source": [
    "ROI_slot"
   ]
  },
  {
   "cell_type": "code",
   "execution_count": 15,
   "metadata": {},
   "outputs": [
    {
     "name": "stdout",
     "output_type": "stream",
     "text": [
      "[[[[779 391]\n",
      "   [730 288]\n",
      "   [538 269]\n",
      "   [424 328]]\n",
      "\n",
      "  [[538 269]\n",
      "   [424 328]\n",
      "   [238 296]\n",
      "   [402 257]]\n",
      "\n",
      "  [[238 296]\n",
      "   [402 257]\n",
      "   [307 249]\n",
      "   [113 276]]\n",
      "\n",
      "  [[307 249]\n",
      "   [113 276]\n",
      "   [ 34 265]\n",
      "   [221 245]]\n",
      "\n",
      "  [[ 34 265]\n",
      "   [221 245]\n",
      "   [158 240]\n",
      "   [  4 253]]\n",
      "\n",
      "  [[158 240]\n",
      "   [  4 253]\n",
      "   [  2 244]\n",
      "   [108 236]]]]\n"
     ]
    }
   ],
   "source": [
    "import numpy as np\n",
    "\n",
    "arr = np.array(ROI_slot)\n",
    "print(arr)"
   ]
  },
  {
   "cell_type": "code",
   "execution_count": 17,
   "metadata": {},
   "outputs": [],
   "source": [
    "#Export ke npy\n",
    "from numpy import save\n",
    "\n",
    "save(\"Tes.npy\",arr)"
   ]
  },
  {
   "cell_type": "code",
   "execution_count": null,
   "metadata": {},
   "outputs": [],
   "source": []
  }
 ],
 "metadata": {
  "kernelspec": {
   "display_name": "Python 3",
   "language": "python",
   "name": "python3"
  },
  "language_info": {
   "codemirror_mode": {
    "name": "ipython",
    "version": 3
   },
   "file_extension": ".py",
   "mimetype": "text/x-python",
   "name": "python",
   "nbconvert_exporter": "python",
   "pygments_lexer": "ipython3",
   "version": "3.8.5"
  }
 },
 "nbformat": 4,
 "nbformat_minor": 4
}
