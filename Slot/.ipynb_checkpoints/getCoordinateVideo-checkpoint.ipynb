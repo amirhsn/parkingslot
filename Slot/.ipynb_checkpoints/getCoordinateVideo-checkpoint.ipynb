{
 "cells": [
  {
   "cell_type": "code",
   "execution_count": 9,
   "metadata": {},
   "outputs": [],
   "source": [
    "#Import modul\n",
    "from PIL import Image                                   \n",
    "import cv2                                              \n",
    "import numpy as np                                      \n",
    "import matplotlib.pyplot as plt "
   ]
  },
  {
   "cell_type": "code",
   "execution_count": 10,
   "metadata": {},
   "outputs": [],
   "source": [
    "cap = cv2.VideoCapture(\"data/Polban/samples/vid1.mp4\")\n",
    "while(cap.isOpened()):\n",
    "    ret, frame = cap.read()\n",
    "    if ret == False:\n",
    "        break\n",
    "    cv2.imwrite(\"data/Polban/samples/vid1Frame.jpg\",frame)\n",
    "cap.release()\n",
    "cv2.destroyAllWindows()"
   ]
  },
  {
   "cell_type": "code",
   "execution_count": 18,
   "metadata": {},
   "outputs": [],
   "source": [
    "vid1Frame = cv2.imread(\"data/Polban/samples/vid1Frame.jpg\")\n",
    "vid1Frame = cv2.resize(vid1Frame, (vid1Frame.shape[1],vid1Frame.shape[0]), interpolation = cv2.INTER_AREA) \n",
    "cv2.imshow('Frame',vid1Frame)\n",
    "cv2.waitKey(0)\n",
    "cv2.destroyAllWindows()"
   ]
  },
  {
   "cell_type": "code",
   "execution_count": 19,
   "metadata": {},
   "outputs": [
    {
     "data": {
      "text/plain": [
       "(600, 1024, 3)"
      ]
     },
     "execution_count": 19,
     "metadata": {},
     "output_type": "execute_result"
    }
   ],
   "source": [
    "vid1Frame.shape"
   ]
  },
  {
   "cell_type": "code",
   "execution_count": 20,
   "metadata": {},
   "outputs": [],
   "source": [
    "state = 0 \n",
    "sum_rows = 0 \n",
    "sum_slots = []  \n",
    "font = cv2.FONT_HERSHEY_PLAIN \n",
    "\n",
    "ROI_slot =[]\n",
    "original_clone = vid1Frame.copy()"
   ]
  },
  {
   "cell_type": "code",
   "execution_count": 21,
   "metadata": {},
   "outputs": [],
   "source": [
    "#PAKE INI\n",
    "def coordinate(event,x,y,flags,param):\n",
    "    global point,click,keyPoint,tAwal,tAkhir,indexClick\n",
    "    \n",
    "    if event==cv2.EVENT_LBUTTONDOWN:\n",
    "        point=(x,y)\n",
    "        keyPoint.append(point)\n",
    "        print(keyPoint)\n",
    "        click = click + 1\n",
    "        if click==1:\n",
    "            tAkhir = tAwal + 1\n",
    "            cv2.line(vid1Frame,keyPoint[tAwal],keyPoint[tAkhir],(0,0,255),2)\n",
    "        elif click==2:\n",
    "            tAwal = tAkhir\n",
    "            tAkhir = tAkhir + 1\n",
    "            cv2.line(vid1Frame,keyPoint[tAwal],keyPoint[tAkhir],(0,0,255),2)\n",
    "        elif click==3:\n",
    "            tAwal = tAkhir\n",
    "            tAkhir = tAkhir + 1\n",
    "            cv2.line(vid1Frame,keyPoint[tAwal],keyPoint[tAkhir],(0,0,255),2)\n",
    "            cv2.line(vid1Frame,keyPoint[tAwal-2],keyPoint[tAkhir],(0,0,255),2)\n",
    "            click = 1"
   ]
  },
  {
   "cell_type": "code",
   "execution_count": 22,
   "metadata": {},
   "outputs": [],
   "source": [
    "#Ambil jumlah lahan dan slot parkir\n",
    "while True:                                             \n",
    "    # display the image and wait for a keypress \n",
    "    one = str(sum_rows) \n",
    "    two = str(sum_slots) \n",
    "    three = str(state+1) \n",
    "    cv2.putText(vid1Frame,(one+\"=\"+two), (100,100), font, 2, (0,0,255),1) \n",
    "    cv2.putText(vid1Frame,three, (30,30), font, 2, (0,0,255),1) \n",
    "    cv2.imshow(\"Frame\",vid1Frame)                          \n",
    "    key = cv2.waitKey(1) & 0xFF                         \n",
    "    if key == ord(\"p\"):  \n",
    "        sum_rows = sum_rows +1 \n",
    "        sum_slots.append(0) \n",
    "        vid1Frame = original_clone.copy() \n",
    "    if key == ord(\"l\"): \n",
    "        state=state+1 \n",
    "        if state==sum_rows: \n",
    "            state = 0 \n",
    "        vid1Frame = original_clone.copy() \n",
    "    if key == ord(\"o\"): \n",
    "        sum_slots[state] = sum_slots[state] +1 \n",
    "        vid1Frame = original_clone.copy() \n",
    "    elif key == ord(\"c\"):                               \n",
    "        break                                           \n",
    "cv2.destroyAllWindows()"
   ]
  },
  {
   "cell_type": "code",
   "execution_count": 23,
   "metadata": {},
   "outputs": [
    {
     "name": "stdout",
     "output_type": "stream",
     "text": [
      "[(2, 440)]\n",
      "[(2, 440), (88, 354)]\n",
      "[(2, 440), (88, 354), (233, 341)]\n",
      "[(2, 440), (88, 354), (233, 341), (108, 442)]\n",
      "[(2, 440), (88, 354), (233, 341), (108, 442), (277, 412)]\n",
      "[(2, 440), (88, 354), (233, 341), (108, 442), (277, 412), (368, 318)]\n",
      "[(2, 440), (88, 354), (233, 341), (108, 442), (277, 412), (368, 318), (506, 293)]\n",
      "[(2, 440), (88, 354), (233, 341), (108, 442), (277, 412), (368, 318), (506, 293), (459, 375)]\n",
      "[(2, 440), (88, 354), (233, 341), (108, 442), (277, 412), (368, 318), (506, 293), (459, 375), (623, 343)]\n",
      "[(2, 440), (88, 354), (233, 341), (108, 442), (277, 412), (368, 318), (506, 293), (459, 375), (623, 343), (627, 272)]\n",
      "[(2, 440), (88, 354), (233, 341), (108, 442), (277, 412), (368, 318), (506, 293), (459, 375), (623, 343), (627, 272), (737, 256)]\n",
      "[(2, 440), (88, 354), (233, 341), (108, 442), (277, 412), (368, 318), (506, 293), (459, 375), (623, 343), (627, 272), (737, 256), (770, 311)]\n",
      "[(2, 440), (88, 354), (233, 341), (108, 442), (277, 412), (368, 318), (506, 293), (459, 375), (623, 343), (627, 272), (737, 256), (770, 311), (889, 283)]\n",
      "[(2, 440), (88, 354), (233, 341), (108, 442), (277, 412), (368, 318), (506, 293), (459, 375), (623, 343), (627, 272), (737, 256), (770, 311), (889, 283), (833, 238)]\n",
      "[(2, 440), (88, 354), (233, 341), (108, 442), (277, 412), (368, 318), (506, 293), (459, 375), (623, 343), (627, 272), (737, 256), (770, 311), (889, 283), (833, 238), (913, 219)]\n",
      "[(2, 440), (88, 354), (233, 341), (108, 442), (277, 412), (368, 318), (506, 293), (459, 375), (623, 343), (627, 272), (737, 256), (770, 311), (889, 283), (833, 238), (913, 219), (986, 261)]\n",
      "[(2, 440), (88, 354), (233, 341), (108, 442), (277, 412), (368, 318), (506, 293), (459, 375), (623, 343), (627, 272), (737, 256), (770, 311), (889, 283), (833, 238), (913, 219), (986, 261), (1023, 250)]\n",
      "[(2, 440), (88, 354), (233, 341), (108, 442), (277, 412), (368, 318), (506, 293), (459, 375), (623, 343), (627, 272), (737, 256), (770, 311), (889, 283), (833, 238), (913, 219), (986, 261), (1023, 250), (991, 210)]\n"
     ]
    }
   ],
   "source": [
    "#Mulai plot slot\n",
    "vid1Frame = original_clone.copy()\n",
    "for row in range(sum_rows):\n",
    "    point = []\n",
    "    keyPoint = []\n",
    "    click = -1\n",
    "    tAkhir = 0\n",
    "    tAwal = 0\n",
    "\n",
    "    cv2.namedWindow('frame')\n",
    "    cv2.setMouseCallback('frame',coordinate)\n",
    "\n",
    "    while True:\n",
    "        cv2.imshow('frame',vid1Frame)\n",
    "        if cv2.waitKey(1) & 0xFF == ord('c'):\n",
    "            break\n",
    "    cv2.destroyAllWindows()\n",
    "    \n",
    "    ROI_slot.append([])\n",
    "    for i in range(sum_slots[row]):\n",
    "        ROI_slot[row].append([])\n",
    "        ROI_slot[row][i].append([keyPoint[0+i+i][0],keyPoint[0+i+i][1]])\n",
    "        ROI_slot[row][i].append([keyPoint[1+i+i][0],keyPoint[1+i+i][1]])\n",
    "        ROI_slot[row][i].append([keyPoint[2+i+i][0],keyPoint[2+i+i][1]])\n",
    "        ROI_slot[row][i].append([keyPoint[3+i+i][0],keyPoint[3+i+i][1]])"
   ]
  },
  {
   "cell_type": "code",
   "execution_count": 24,
   "metadata": {},
   "outputs": [
    {
     "data": {
      "text/plain": [
       "[[[[2, 440], [88, 354], [233, 341], [108, 442]],\n",
       "  [[233, 341], [108, 442], [277, 412], [368, 318]],\n",
       "  [[277, 412], [368, 318], [506, 293], [459, 375]],\n",
       "  [[506, 293], [459, 375], [623, 343], [627, 272]],\n",
       "  [[623, 343], [627, 272], [737, 256], [770, 311]],\n",
       "  [[737, 256], [770, 311], [889, 283], [833, 238]],\n",
       "  [[889, 283], [833, 238], [913, 219], [986, 261]],\n",
       "  [[913, 219], [986, 261], [1023, 250], [991, 210]]]]"
      ]
     },
     "execution_count": 24,
     "metadata": {},
     "output_type": "execute_result"
    }
   ],
   "source": [
    "ROI_slot"
   ]
  },
  {
   "cell_type": "code",
   "execution_count": 25,
   "metadata": {},
   "outputs": [
    {
     "name": "stdout",
     "output_type": "stream",
     "text": [
      "[[[[   2  440]\n",
      "   [  88  354]\n",
      "   [ 233  341]\n",
      "   [ 108  442]]\n",
      "\n",
      "  [[ 233  341]\n",
      "   [ 108  442]\n",
      "   [ 277  412]\n",
      "   [ 368  318]]\n",
      "\n",
      "  [[ 277  412]\n",
      "   [ 368  318]\n",
      "   [ 506  293]\n",
      "   [ 459  375]]\n",
      "\n",
      "  [[ 506  293]\n",
      "   [ 459  375]\n",
      "   [ 623  343]\n",
      "   [ 627  272]]\n",
      "\n",
      "  [[ 623  343]\n",
      "   [ 627  272]\n",
      "   [ 737  256]\n",
      "   [ 770  311]]\n",
      "\n",
      "  [[ 737  256]\n",
      "   [ 770  311]\n",
      "   [ 889  283]\n",
      "   [ 833  238]]\n",
      "\n",
      "  [[ 889  283]\n",
      "   [ 833  238]\n",
      "   [ 913  219]\n",
      "   [ 986  261]]\n",
      "\n",
      "  [[ 913  219]\n",
      "   [ 986  261]\n",
      "   [1023  250]\n",
      "   [ 991  210]]]]\n"
     ]
    }
   ],
   "source": [
    "import numpy as np\n",
    "\n",
    "arr = np.array(ROI_slot)\n",
    "print(arr)"
   ]
  },
  {
   "cell_type": "code",
   "execution_count": 26,
   "metadata": {},
   "outputs": [],
   "source": [
    "#Export ke npy\n",
    "from numpy import save\n",
    "\n",
    "save(\"data/Polban/coordinate/vid1.npy\",arr)"
   ]
  },
  {
   "cell_type": "code",
   "execution_count": null,
   "metadata": {},
   "outputs": [],
   "source": []
  }
 ],
 "metadata": {
  "kernelspec": {
   "display_name": "Python 3",
   "language": "python",
   "name": "python3"
  },
  "language_info": {
   "codemirror_mode": {
    "name": "ipython",
    "version": 3
   },
   "file_extension": ".py",
   "mimetype": "text/x-python",
   "name": "python",
   "nbconvert_exporter": "python",
   "pygments_lexer": "ipython3",
   "version": "3.8.5"
  }
 },
 "nbformat": 4,
 "nbformat_minor": 4
}
