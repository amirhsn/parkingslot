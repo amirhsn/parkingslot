{
 "cells": [
  {
   "cell_type": "code",
   "execution_count": null,
   "metadata": {},
   "outputs": [],
   "source": [
    "import cv2\n",
    "import numpy as np"
   ]
  },
  {
   "cell_type": "code",
   "execution_count": null,
   "metadata": {},
   "outputs": [],
   "source": [
    "#Load ROI_slot\n",
    "ROI_slot = np.load(\"data/Polban/coordinate/vid1.npy\",allow_pickle=True)"
   ]
  },
  {
   "cell_type": "code",
   "execution_count": null,
   "metadata": {},
   "outputs": [],
   "source": [
    "ROI_slot[0][1][0]"
   ]
  },
  {
   "cell_type": "code",
   "execution_count": null,
   "metadata": {},
   "outputs": [],
   "source": [
    "#Fungsi plotting\n",
    "def plotNow():\n",
    "    for row in range(len(ROI_slot)):\n",
    "        for slots in range(len(ROI_slot[row])):\n",
    "            for titik in range (len(ROI_slot[row][slots])):\n",
    "                x1 = ROI_slot[row][slots][titik][0]\n",
    "                y1 = ROI_slot[row][slots][titik][1]\n",
    "                if titik==3:\n",
    "                    x2 = ROI_slot[row][slots][0][0]\n",
    "                    y2 = ROI_slot[row][slots][0][1]\n",
    "                else:\n",
    "                    x2 = ROI_slot[row][slots][titik+1][0]\n",
    "                    y2 = ROI_slot[row][slots][titik+1][1]\n",
    "                cv2.line(frame,(x1,y1),(x2,y2),(0,0,255),2)"
   ]
  },
  {
   "cell_type": "code",
   "execution_count": null,
   "metadata": {},
   "outputs": [],
   "source": [
    "#Load video dan dapatkan frame by frame\n",
    "cv2.namedWindow(\"frame\")\n",
    "vc = cv2.VideoCapture(\"data/Polban/samples/vid1.mp4\")\n",
    "#frame_width = int(vc.get(3))\n",
    "#frame_height = int(vc.get(4))\n",
    "#result = cv2.VideoWriter('result.mp4', cv2.VideoWriter_fourcc(*'MP4V'), 20.0, (frame_width,frame_height))\n",
    "\n",
    "if vc.isOpened(): # try to get the first frame\n",
    "    ret, frame = vc.read()\n",
    "else:\n",
    "    ret = False\n",
    "\n",
    "while ret:\n",
    "    cv2.imshow(\"frame\", frame)\n",
    "    ret, frame = vc.read()\n",
    "    key = cv2.waitKey(20)\n",
    "    if key == 27: # exit on ESC\n",
    "        break\n",
    "    else:\n",
    "        plotNow()\n",
    "#        result.write(frame)\n",
    "        \n",
    "\n",
    "vc.release()\n",
    "cv2.destroyWindow(\"frame\") \n",
    "print(\"Video hasil plot sukses disimpan\")"
   ]
  },
  {
   "cell_type": "code",
   "execution_count": null,
   "metadata": {},
   "outputs": [],
   "source": []
  }
 ],
 "metadata": {
  "kernelspec": {
   "display_name": "Python 3",
   "language": "python",
   "name": "python3"
  },
  "language_info": {
   "codemirror_mode": {
    "name": "ipython",
    "version": 3
   },
   "file_extension": ".py",
   "mimetype": "text/x-python",
   "name": "python",
   "nbconvert_exporter": "python",
   "pygments_lexer": "ipython3",
   "version": "3.8.5"
  }
 },
 "nbformat": 4,
 "nbformat_minor": 4
}
