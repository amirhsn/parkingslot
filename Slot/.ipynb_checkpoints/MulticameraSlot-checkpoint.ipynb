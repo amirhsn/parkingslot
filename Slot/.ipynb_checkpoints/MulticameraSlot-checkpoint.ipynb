{
 "cells": [
  {
   "cell_type": "code",
   "execution_count": 2,
   "metadata": {},
   "outputs": [],
   "source": [
    "#Import modul\n",
    "from PIL import Image                                   \n",
    "import cv2                                              \n",
    "import numpy as np                                      \n",
    "import matplotlib.pyplot as plt "
   ]
  },
  {
   "cell_type": "code",
   "execution_count": null,
   "metadata": {},
   "outputs": [],
   "source": [
    "#Load koodinat npy\n",
    "ROI_slot_1 = np.load('data/CNR/coordinate/cam1.npy',allow_pickle=True)\n",
    "ROI_slot_6 = np.load('data/CNR/coordinate/cam6.npy',allow_pickle=True)\n",
    "ROI_slot_7 = np.load('data/CNR/coordinate/cam7.npy',allow_pickle=True)\n",
    "ROI_slot_8 = np.load('data/CNR/coordinate/cam8.npy',allow_pickle=True)\n",
    "ROI_slot_9 = np.load('data/CNR/coordinate/cam9.npy',allow_pickle=True)"
   ]
  },
  {
   "cell_type": "code",
   "execution_count": null,
   "metadata": {},
   "outputs": [],
   "source": [
    "#Untuk cam\n",
    "def shiftSlot(slotCamera,baris1,baris2,baris3,baris4):\n",
    "    blankArray = [[None, None], [None, None], [None, None], [None, None]]\n",
    "    ROI_slot_mul = slotCamera\n",
    "    for i in range(baris1):\n",
    "        ROI_slot_mul[0].insert(0,blankArray)\n",
    "    for i in range(baris2):\n",
    "        ROI_slot_mul[1].insert(0,blankArray)\n",
    "    for i in range(baris3):\n",
    "        ROI_slot_mul[2].insert(0,blankArray)\n",
    "    for i in range(baris4):\n",
    "        ROI_slot_mul[3].insert(0,blankArray)    "
   ]
  },
  {
   "cell_type": "code",
   "execution_count": null,
   "metadata": {},
   "outputs": [],
   "source": [
    "ROI_slot_9"
   ]
  },
  {
   "cell_type": "code",
   "execution_count": null,
   "metadata": {},
   "outputs": [],
   "source": [
    "#shiftSlot(ROI_slot_6,7,5,10,18)\n",
    "#shiftSlot(ROI_slot_7,13,11,17,25)\n",
    "#shiftSlot(ROI_slot_8,16,18,23,31)\n",
    "#shiftSlot(ROI_slot_9,27,27,30,37)"
   ]
  },
  {
   "cell_type": "code",
   "execution_count": null,
   "metadata": {},
   "outputs": [],
   "source": [
    "#Export ke npy\n",
    "#from numpy import save\n",
    "\n",
    "#save(\"data/CNR/coordinate/cam9mul.npy\",ROI_slot_9)"
   ]
  },
  {
   "cell_type": "code",
   "execution_count": 3,
   "metadata": {},
   "outputs": [],
   "source": [
    "ROI_slot_last = np.load('data/CNR/coordinate/cam6mul.npy',allow_pickle=True)"
   ]
  },
  {
   "cell_type": "code",
   "execution_count": 4,
   "metadata": {},
   "outputs": [
    {
     "data": {
      "text/plain": [
       "[[[None, None], [None, None], [None, None], [None, None]],\n",
       " [[None, None], [None, None], [None, None], [None, None]],\n",
       " [[None, None], [None, None], [None, None], [None, None]],\n",
       " [[None, None], [None, None], [None, None], [None, None]],\n",
       " [[None, None], [None, None], [None, None], [None, None]],\n",
       " [[None, None], [None, None], [None, None], [None, None]],\n",
       " [[None, None], [None, None], [None, None], [None, None]],\n",
       " [[820, 67], [801, 40], [747, 40], [758, 71]],\n",
       " [[747, 40], [758, 71], [691, 70], [683, 44]],\n",
       " [[691, 70], [683, 44], [631, 44], [632, 71]],\n",
       " [[631, 44], [632, 71], [576, 71], [576, 48]],\n",
       " [[576, 71], [576, 48], [524, 48], [524, 72]],\n",
       " [[524, 48], [524, 72], [471, 72], [475, 50]],\n",
       " [[471, 72], [475, 50], [421, 51], [413, 67]],\n",
       " [[421, 51], [413, 67], [358, 69], [360, 49]],\n",
       " [[358, 69], [360, 49], [317, 49], [307, 67]],\n",
       " [[317, 49], [307, 67], [253, 68], [260, 53]],\n",
       " [[253, 68], [260, 53], [215, 50], [196, 73]],\n",
       " [[215, 50], [196, 73], [141, 71], [157, 50]],\n",
       " [[141, 71], [157, 50], [114, 50], [86, 74]],\n",
       " [[114, 50], [86, 74], [30, 76], [52, 50]],\n",
       " [[30, 76], [52, 50], [3, 50], [2, 74]]]"
      ]
     },
     "execution_count": 4,
     "metadata": {},
     "output_type": "execute_result"
    }
   ],
   "source": [
    "ROI_slot_last[0]"
   ]
  },
  {
   "cell_type": "code",
   "execution_count": 5,
   "metadata": {},
   "outputs": [],
   "source": [
    "#CEK AWAL\n",
    "ROI_slot = ROI_slot_last\n",
    "#Load images\n",
    "image = cv2.imread(\"data/CNR/samples/cam6.jpg\")\n",
    "image = cv2.resize(image, (image.shape[1],image.shape[0]), interpolation = cv2.INTER_AREA)\n",
    "plottedImage = image.copy()\n",
    "\n",
    "def cobaPlot1(row,slots):\n",
    "    for titik in range (len(ROI_slot[row][slots])):\n",
    "        x1 = ROI_slot[row][slots][titik][0]\n",
    "        y1 = ROI_slot[row][slots][titik][1]\n",
    "        if titik==3:\n",
    "            x2 = ROI_slot[row][slots][0][0]\n",
    "            y2 = ROI_slot[row][slots][0][1]\n",
    "        else:\n",
    "            x2 = ROI_slot[row][slots][titik+1][0]\n",
    "            y2 = ROI_slot[row][slots][titik+1][1]\n",
    "        cv2.line(plottedImage,(x1,y1),(x2,y2),(0,0,255),2)"
   ]
  },
  {
   "cell_type": "code",
   "execution_count": null,
   "metadata": {},
   "outputs": [],
   "source": [
    "cobaPlot1(3,17)\n",
    "\n",
    "cv2.imshow(\"Image\",plottedImage)\n",
    "cv2.waitKey(0)\n",
    "cv2.destroyAllWindows()"
   ]
  },
  {
   "cell_type": "code",
   "execution_count": null,
   "metadata": {},
   "outputs": [],
   "source": []
  }
 ],
 "metadata": {
  "kernelspec": {
   "display_name": "Python 3",
   "language": "python",
   "name": "python3"
  },
  "language_info": {
   "codemirror_mode": {
    "name": "ipython",
    "version": 3
   },
   "file_extension": ".py",
   "mimetype": "text/x-python",
   "name": "python",
   "nbconvert_exporter": "python",
   "pygments_lexer": "ipython3",
   "version": "3.8.5"
  }
 },
 "nbformat": 4,
 "nbformat_minor": 4
}
