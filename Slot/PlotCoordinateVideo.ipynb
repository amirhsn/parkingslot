{
 "cells": [
  {
   "cell_type": "code",
   "execution_count": 1,
   "metadata": {},
   "outputs": [],
   "source": [
    "import cv2\n",
    "import numpy as np"
   ]
  },
  {
   "cell_type": "code",
   "execution_count": 2,
   "metadata": {},
   "outputs": [],
   "source": [
    "#Load ROI_slot\n",
    "ROI_slot = np.load(\"data/Polban/coordinate/vid1.npy\",allow_pickle=True)"
   ]
  },
  {
   "cell_type": "code",
   "execution_count": 3,
   "metadata": {
    "collapsed": true
   },
   "outputs": [
    {
     "data": {
      "text/plain": [
       "array([[[[   2,  440],\n",
       "         [  88,  354],\n",
       "         [ 233,  341],\n",
       "         [ 108,  442]],\n",
       "\n",
       "        [[ 233,  341],\n",
       "         [ 108,  442],\n",
       "         [ 277,  412],\n",
       "         [ 368,  318]],\n",
       "\n",
       "        [[ 277,  412],\n",
       "         [ 368,  318],\n",
       "         [ 506,  293],\n",
       "         [ 459,  375]],\n",
       "\n",
       "        [[ 506,  293],\n",
       "         [ 459,  375],\n",
       "         [ 623,  343],\n",
       "         [ 627,  272]],\n",
       "\n",
       "        [[ 623,  343],\n",
       "         [ 627,  272],\n",
       "         [ 737,  256],\n",
       "         [ 770,  311]],\n",
       "\n",
       "        [[ 737,  256],\n",
       "         [ 770,  311],\n",
       "         [ 889,  283],\n",
       "         [ 833,  238]],\n",
       "\n",
       "        [[ 889,  283],\n",
       "         [ 833,  238],\n",
       "         [ 913,  219],\n",
       "         [ 986,  261]],\n",
       "\n",
       "        [[ 913,  219],\n",
       "         [ 986,  261],\n",
       "         [1023,  250],\n",
       "         [ 991,  210]]]])"
      ]
     },
     "execution_count": 3,
     "metadata": {},
     "output_type": "execute_result"
    }
   ],
   "source": [
    "ROI_slot"
   ]
  },
  {
   "cell_type": "code",
   "execution_count": null,
   "metadata": {},
   "outputs": [],
   "source": [
    "#Load video dan dapatkan frame by frame\n",
    "cv2.namedWindow(\"frame\")\n",
    "vc = cv2.VideoCapture(0)"
   ]
  }
 ],
 "metadata": {
  "kernelspec": {
   "display_name": "Python 3",
   "language": "python",
   "name": "python3"
  },
  "language_info": {
   "codemirror_mode": {
    "name": "ipython",
    "version": 3
   },
   "file_extension": ".py",
   "mimetype": "text/x-python",
   "name": "python",
   "nbconvert_exporter": "python",
   "pygments_lexer": "ipython3",
   "version": "3.8.5"
  }
 },
 "nbformat": 4,
 "nbformat_minor": 4
}
