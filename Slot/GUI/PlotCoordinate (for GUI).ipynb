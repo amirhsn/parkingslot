{
 "cells": [
  {
   "cell_type": "code",
   "execution_count": 1,
   "metadata": {},
   "outputs": [],
   "source": [
    "#Import modul\n",
    "from PIL import Image                                   \n",
    "import cv2                                              \n",
    "import numpy as np                                      \n",
    "import matplotlib.pyplot as plt "
   ]
  },
  {
   "cell_type": "code",
   "execution_count": 2,
   "metadata": {},
   "outputs": [],
   "source": [
    "#Load images\n",
    "image = cv2.imread(\"tes1.jpg\")\n",
    "image = cv2.resize(image, (image.shape[1],image.shape[0]), interpolation = cv2.INTER_AREA)\n",
    "plottedImage = image.copy()\n",
    "#cv2.imshow(\"Image\",plottedImage)\n",
    "#cv2.waitKey(0)\n",
    "#cv2.destroyAllWindows()"
   ]
  },
  {
   "cell_type": "code",
   "execution_count": 3,
   "metadata": {},
   "outputs": [],
   "source": [
    "#Load koodinat npy\n",
    "ROI_slot = np.load('tes1.npy',allow_pickle=True)"
   ]
  },
  {
   "cell_type": "code",
   "execution_count": 4,
   "metadata": {},
   "outputs": [
    {
     "data": {
      "text/plain": [
       "array([list([[[502, 97], [505, 69], [453, 66], [449, 95]], [[453, 66], [449, 95], [392, 91], [400, 66]]]),\n",
       "       list([[[503, 257], [497, 200], [397, 199], [416, 232]], [[397, 199], [416, 232], [359, 246], [308, 213]], [[359, 246], [308, 213], [260, 203], [251, 257]]]),\n",
       "       list([[[509, 487], [498, 405], [374, 405], [378, 467]], [[374, 405], [378, 467], [255, 476], [261, 401]], [[255, 476], [261, 401], [186, 402], [171, 468]], [[186, 402], [171, 468], [95, 468], [98, 408]]])],\n",
       "      dtype=object)"
      ]
     },
     "execution_count": 4,
     "metadata": {},
     "output_type": "execute_result"
    }
   ],
   "source": [
    "ROI_slot"
   ]
  },
  {
   "cell_type": "code",
   "execution_count": 11,
   "metadata": {},
   "outputs": [
    {
     "data": {
      "text/plain": [
       "3"
      ]
     },
     "execution_count": 11,
     "metadata": {},
     "output_type": "execute_result"
    }
   ],
   "source": [
    "len(ROI_slot)"
   ]
  },
  {
   "cell_type": "code",
   "execution_count": 7,
   "metadata": {},
   "outputs": [],
   "source": [
    "#Plotting\n",
    "for row in range(len(ROI_slot)):\n",
    "    for slots in range(len(ROI_slot[row])):\n",
    "        for titik in range (len(ROI_slot[row][slots])):\n",
    "            if ROI_slot[row][slots][titik][0] == None:\n",
    "                pass\n",
    "            else:\n",
    "                x1 = ROI_slot[row][slots][titik][0]\n",
    "                y1 = ROI_slot[row][slots][titik][1]\n",
    "                if titik==3:\n",
    "                    x2 = ROI_slot[row][slots][0][0]\n",
    "                    y2 = ROI_slot[row][slots][0][1]\n",
    "                else:\n",
    "                    x2 = ROI_slot[row][slots][titik+1][0]\n",
    "                    y2 = ROI_slot[row][slots][titik+1][1]\n",
    "                cv2.line(plottedImage,(x1,y1),(x2,y2),(0,0,255),1)"
   ]
  },
  {
   "cell_type": "code",
   "execution_count": 8,
   "metadata": {},
   "outputs": [],
   "source": [
    "cv2.imshow(\"Image\",plottedImage)\n",
    "cv2.waitKey(0)\n",
    "cv2.destroyAllWindows()"
   ]
  },
  {
   "cell_type": "code",
   "execution_count": 14,
   "metadata": {},
   "outputs": [
    {
     "name": "stdout",
     "output_type": "stream",
     "text": [
      "(5,)\n"
     ]
    }
   ],
   "source": [
    "print(ROI_slot.shape)"
   ]
  },
  {
   "cell_type": "code",
   "execution_count": null,
   "metadata": {},
   "outputs": [],
   "source": []
  }
 ],
 "metadata": {
  "kernelspec": {
   "display_name": "Python 3",
   "language": "python",
   "name": "python3"
  },
  "language_info": {
   "codemirror_mode": {
    "name": "ipython",
    "version": 3
   },
   "file_extension": ".py",
   "mimetype": "text/x-python",
   "name": "python",
   "nbconvert_exporter": "python",
   "pygments_lexer": "ipython3",
   "version": "3.8.5"
  }
 },
 "nbformat": 4,
 "nbformat_minor": 4
}
