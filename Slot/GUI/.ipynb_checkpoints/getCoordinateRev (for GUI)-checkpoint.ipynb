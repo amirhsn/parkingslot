{
 "cells": [
  {
   "cell_type": "code",
   "execution_count": 29,
   "metadata": {},
   "outputs": [],
   "source": [
    "#Import modul\n",
    "from PIL import Image                                   \n",
    "import cv2                                              \n",
    "import numpy as np                                      \n",
    "import matplotlib.pyplot as plt "
   ]
  },
  {
   "cell_type": "code",
   "execution_count": 30,
   "metadata": {},
   "outputs": [
    {
     "data": {
      "text/plain": [
       "'C:\\\\Users\\\\LENOVO\\\\ParkingSlot\\\\Slot\\\\GUI'"
      ]
     },
     "execution_count": 30,
     "metadata": {},
     "output_type": "execute_result"
    }
   ],
   "source": [
    "import os\n",
    "os.getcwd()"
   ]
  },
  {
   "cell_type": "code",
   "execution_count": 31,
   "metadata": {},
   "outputs": [],
   "source": [
    "image = cv2.imread(\"tes1.jpg\") \n",
    "image = cv2.resize(image, (image.shape[1],image.shape[0]), interpolation = cv2.INTER_AREA) \n",
    "state = 0 \n",
    "sum_rows = 0 \n",
    "sum_slots = []  \n",
    "font = cv2.FONT_HERSHEY_PLAIN"
   ]
  },
  {
   "cell_type": "code",
   "execution_count": 32,
   "metadata": {},
   "outputs": [],
   "source": [
    "ROI_slot =[]  \n",
    "imges = image.copy() \n",
    "original_clone = image.copy()  \n",
    "clone = Image.fromarray(original_clone)"
   ]
  },
  {
   "cell_type": "code",
   "execution_count": 33,
   "metadata": {},
   "outputs": [],
   "source": [
    "#PAKE INI DULU\n",
    "#Variabel dibawah nanti dipakai pas dengan program GUI tkinter, dibawah ini sebagai sample dulu, dimensi pertama = row/shaf,\n",
    "#dan dimensi kedua = jumlah slot pada row/shaf tsb\n",
    "jumlahSlot = [2,3,4]"
   ]
  },
  {
   "cell_type": "code",
   "execution_count": 34,
   "metadata": {},
   "outputs": [],
   "source": [
    "#PAKE INI\n",
    "def coordinate(event,x,y,flags,param):\n",
    "    global point,click,keyPoint,tAwal,tAkhir,indexClick,rowIndicator\n",
    "    \n",
    "    if event==cv2.EVENT_LBUTTONDOWN:\n",
    "        rowIndicator = rowIndicator + 1\n",
    "        point=(x,y)\n",
    "        keyPoint.append(point)\n",
    "        print(keyPoint)\n",
    "        click = click + 1\n",
    "        if click==1:\n",
    "            tAkhir = tAwal + 1\n",
    "            cv2.line(image,keyPoint[tAwal],keyPoint[tAkhir],(0,0,255),2)\n",
    "        elif click==2:\n",
    "            tAwal = tAkhir\n",
    "            tAkhir = tAkhir + 1\n",
    "            cv2.line(image,keyPoint[tAwal],keyPoint[tAkhir],(0,0,255),2)\n",
    "        elif click==3:\n",
    "            tAwal = tAkhir\n",
    "            tAkhir = tAkhir + 1\n",
    "            cv2.line(image,keyPoint[tAwal],keyPoint[tAkhir],(0,0,255),2)\n",
    "            cv2.line(image,keyPoint[tAwal-2],keyPoint[tAkhir],(0,0,255),2)\n",
    "            click = 1\n",
    "        #Deteksi jika sudah memenuhi jumlah slot, maka move ke row/shaf berikutnya\n",
    "        #PAKAI ARITMATIKA a+(n-1)*b menjadi 2+2.n\n",
    "        if rowIndicator == (2+2*(jumlahSlot[row])):\n",
    "            print(rowIndicator)\n",
    "            print('DONE')"
   ]
  },
  {
   "cell_type": "code",
   "execution_count": 35,
   "metadata": {},
   "outputs": [
    {
     "name": "stdout",
     "output_type": "stream",
     "text": [
      "[(628, 310)]\n",
      "[(628, 310), (624, 233)]\n",
      "[(628, 310), (624, 233), (542, 230)]\n",
      "[(628, 310), (624, 233), (542, 230), (526, 286)]\n",
      "[(628, 310), (624, 233), (542, 230), (526, 286), (414, 278)]\n",
      "[(628, 310), (624, 233), (542, 230), (526, 286), (414, 278), (431, 218)]\n",
      "6\n",
      "DONE\n",
      "[(570, 443)]\n",
      "[(570, 443), (566, 378)]\n",
      "[(570, 443), (566, 378), (485, 372)]\n",
      "[(570, 443), (566, 378), (485, 372), (468, 454)]\n",
      "[(570, 443), (566, 378), (485, 372), (468, 454), (373, 436)]\n",
      "[(570, 443), (566, 378), (485, 372), (468, 454), (373, 436), (384, 359)]\n",
      "[(570, 443), (566, 378), (485, 372), (468, 454), (373, 436), (384, 359), (299, 362)]\n",
      "[(570, 443), (566, 378), (485, 372), (468, 454), (373, 436), (384, 359), (299, 362), (277, 428)]\n",
      "8\n",
      "DONE\n",
      "[(741, 555)]\n",
      "[(741, 555), (731, 494)]\n",
      "[(741, 555), (731, 494), (637, 497)]\n",
      "[(741, 555), (731, 494), (637, 497), (642, 552)]\n",
      "[(741, 555), (731, 494), (637, 497), (642, 552), (547, 552)]\n",
      "[(741, 555), (731, 494), (637, 497), (642, 552), (547, 552), (510, 488)]\n",
      "[(741, 555), (731, 494), (637, 497), (642, 552), (547, 552), (510, 488), (433, 516)]\n",
      "[(741, 555), (731, 494), (637, 497), (642, 552), (547, 552), (510, 488), (433, 516), (411, 546)]\n",
      "[(741, 555), (731, 494), (637, 497), (642, 552), (547, 552), (510, 488), (433, 516), (411, 546), (329, 556)]\n",
      "[(741, 555), (731, 494), (637, 497), (642, 552), (547, 552), (510, 488), (433, 516), (411, 546), (329, 556), (318, 492)]\n",
      "10\n",
      "DONE\n"
     ]
    }
   ],
   "source": [
    "#Mulai plot slot\n",
    "image = original_clone.copy()\n",
    "\n",
    "for row in range(len(jumlahSlot)):\n",
    "    #undoImage = image\n",
    "    #undoCheck = False\n",
    "    rowIndicator = 0\n",
    "    point = []\n",
    "    keyPoint = []\n",
    "    click = -1\n",
    "    tAkhir = 0\n",
    "    tAwal = 0\n",
    "\n",
    "    cv2.namedWindow('image')\n",
    "    cv2.setMouseCallback('image',coordinate)\n",
    "\n",
    "    while True:\n",
    "        cv2.imshow('image',image)\n",
    "        if cv2.waitKey(1) == ord('c'):\n",
    "            break\n",
    "        #elif cv2.waitKey(1) == ord('z'):\n",
    "        #    row = row-1\n",
    "        #    image = undoImage\n",
    "        #    undoCheck = True\n",
    "            \n",
    "    #if undoCheck == True:\n",
    "        #cv2.destroyAllWindows()\n",
    "        #break\n",
    "    #else:\n",
    "        #cv2.destroyAllWindows()\n",
    "    cv2.destroyAllWindows()\n",
    "    \n",
    "    ROI_slot.append([])\n",
    "    for i in range(jumlahSlot[row]):\n",
    "        ROI_slot[row].append([])\n",
    "        ROI_slot[row][i].append([keyPoint[0+i+i][0],keyPoint[0+i+i][1]])\n",
    "        ROI_slot[row][i].append([keyPoint[1+i+i][0],keyPoint[1+i+i][1]])\n",
    "        ROI_slot[row][i].append([keyPoint[2+i+i][0],keyPoint[2+i+i][1]])\n",
    "        ROI_slot[row][i].append([keyPoint[3+i+i][0],keyPoint[3+i+i][1]])\n",
    "    "
   ]
  },
  {
   "cell_type": "code",
   "execution_count": null,
   "metadata": {},
   "outputs": [],
   "source": [
    "type(ROI_slot)"
   ]
  },
  {
   "cell_type": "code",
   "execution_count": null,
   "metadata": {},
   "outputs": [],
   "source": [
    "import numpy as np\n",
    "\n",
    "arr = np.array(ROI_slot)\n",
    "print(arr)"
   ]
  },
  {
   "cell_type": "code",
   "execution_count": 35,
   "metadata": {},
   "outputs": [
    {
     "name": "stdout",
     "output_type": "stream",
     "text": [
      "(3,)\n"
     ]
    }
   ],
   "source": [
    "print(arr.shape)"
   ]
  },
  {
   "cell_type": "code",
   "execution_count": 36,
   "metadata": {},
   "outputs": [
    {
     "data": {
      "text/plain": [
       "list"
      ]
     },
     "execution_count": 36,
     "metadata": {},
     "output_type": "execute_result"
    }
   ],
   "source": [
    "type(arr[0][0][0])"
   ]
  },
  {
   "cell_type": "code",
   "execution_count": 37,
   "metadata": {},
   "outputs": [],
   "source": [
    "#Export ke npy\n",
    "from numpy import save\n",
    "\n",
    "save(\"tes1.npy\",arr)"
   ]
  },
  {
   "cell_type": "code",
   "execution_count": null,
   "metadata": {},
   "outputs": [],
   "source": []
  }
 ],
 "metadata": {
  "kernelspec": {
   "display_name": "Python 3",
   "language": "python",
   "name": "python3"
  },
  "language_info": {
   "codemirror_mode": {
    "name": "ipython",
    "version": 3
   },
   "file_extension": ".py",
   "mimetype": "text/x-python",
   "name": "python",
   "nbconvert_exporter": "python",
   "pygments_lexer": "ipython3",
   "version": "3.8.5"
  }
 },
 "nbformat": 4,
 "nbformat_minor": 4
}
