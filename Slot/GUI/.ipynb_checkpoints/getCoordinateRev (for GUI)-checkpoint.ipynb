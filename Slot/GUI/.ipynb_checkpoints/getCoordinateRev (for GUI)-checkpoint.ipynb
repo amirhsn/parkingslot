{
 "cells": [
  {
   "cell_type": "code",
   "execution_count": 71,
   "metadata": {},
   "outputs": [],
   "source": [
    "#Import modul\n",
    "from PIL import Image                                   \n",
    "import cv2                                              \n",
    "import numpy as np                                      \n",
    "import matplotlib.pyplot as plt "
   ]
  },
  {
   "cell_type": "code",
   "execution_count": 72,
   "metadata": {},
   "outputs": [
    {
     "data": {
      "text/plain": [
       "'C:\\\\Users\\\\LENOVO\\\\ParkingSlot\\\\Slot\\\\GUI'"
      ]
     },
     "execution_count": 72,
     "metadata": {},
     "output_type": "execute_result"
    }
   ],
   "source": [
    "import os\n",
    "os.getcwd()"
   ]
  },
  {
   "cell_type": "code",
   "execution_count": 73,
   "metadata": {},
   "outputs": [],
   "source": [
    "image = cv2.imread(\"tes1.jpg\") \n",
    "image = cv2.resize(image, (image.shape[1],image.shape[0]), interpolation = cv2.INTER_AREA) \n",
    "state = 0 \n",
    "sum_rows = 0 \n",
    "sum_slots = []  \n",
    "font = cv2.FONT_HERSHEY_PLAIN"
   ]
  },
  {
   "cell_type": "code",
   "execution_count": 74,
   "metadata": {},
   "outputs": [],
   "source": [
    "ROI_slot =[]  \n",
    "imges = image.copy() \n",
    "original_clone = image.copy()  \n",
    "clone = Image.fromarray(original_clone)"
   ]
  },
  {
   "cell_type": "code",
   "execution_count": 75,
   "metadata": {},
   "outputs": [],
   "source": [
    "#PAKE INI DULU\n",
    "#Variabel dibawah nanti dipakai pas dengan program GUI tkinter, dibawah ini sebagai sample dulu, dimensi pertama = row/shaf,\n",
    "#dan dimensi kedua = jumlah slot pada row/shaf tsb\n",
    "jumlahSlot = [2,3,4]"
   ]
  },
  {
   "cell_type": "code",
   "execution_count": 76,
   "metadata": {},
   "outputs": [],
   "source": [
    "#PAKE INI\n",
    "def coordinate(event,x,y,flags,param):\n",
    "    global point,click,keyPoint,tAwal,tAkhir,indexClick,rowIndicator\n",
    "    \n",
    "    if event==cv2.EVENT_LBUTTONDOWN:\n",
    "        rowIndicator = rowIndicator + 1\n",
    "        point=(x,y)\n",
    "        keyPoint.append(point)\n",
    "        print(keyPoint)\n",
    "        click = click + 1\n",
    "        if click==1:\n",
    "            tAkhir = tAwal + 1\n",
    "            cv2.line(image,keyPoint[tAwal],keyPoint[tAkhir],(0,0,255),2)\n",
    "        elif click==2:\n",
    "            tAwal = tAkhir\n",
    "            tAkhir = tAkhir + 1\n",
    "            cv2.line(image,keyPoint[tAwal],keyPoint[tAkhir],(0,0,255),2)\n",
    "        elif click==3:\n",
    "            tAwal = tAkhir\n",
    "            tAkhir = tAkhir + 1\n",
    "            cv2.line(image,keyPoint[tAwal],keyPoint[tAkhir],(0,0,255),2)\n",
    "            cv2.line(image,keyPoint[tAwal-2],keyPoint[tAkhir],(0,0,255),2)\n",
    "            click = 1\n",
    "        #Deteksi jika sudah memenuhi jumlah slot, maka move ke row/shaf berikutnya\n",
    "        #PAKAI ARITMATIKA a+(n-1)*b menjadi 2+2.n\n",
    "        if rowIndicator == (2+2*(jumlahSlot[row])):\n",
    "            print(rowIndicator)\n",
    "            print('DONE')"
   ]
  },
  {
   "cell_type": "code",
   "execution_count": 77,
   "metadata": {},
   "outputs": [
    {
     "name": "stdout",
     "output_type": "stream",
     "text": [
      "[(305, 292)]\n",
      "[(305, 292), (301, 213)]\n",
      "[(305, 292), (301, 213), (463, 231)]\n",
      "[(305, 292), (301, 213), (463, 231), (445, 299)]\n",
      "[(305, 292), (301, 213), (463, 231), (445, 299), (585, 312)]\n",
      "[(305, 292), (301, 213), (463, 231), (445, 299), (585, 312), (605, 222)]\n",
      "6\n",
      "DONE\n",
      "[(346, 395)]\n",
      "[(346, 395), (372, 304)]\n",
      "[(346, 395), (372, 304), (525, 322)]\n",
      "[(346, 395), (372, 304), (525, 322), (511, 394)]\n",
      "[(346, 395), (372, 304), (525, 322), (511, 394), (606, 402)]\n",
      "[(346, 395), (372, 304), (525, 322), (511, 394), (606, 402), (612, 324)]\n",
      "[(346, 395), (372, 304), (525, 322), (511, 394), (606, 402), (612, 324), (694, 348)]\n",
      "[(346, 395), (372, 304), (525, 322), (511, 394), (606, 402), (612, 324), (694, 348), (681, 412)]\n",
      "8\n",
      "DONE\n"
     ]
    },
    {
     "ename": "IndexError",
     "evalue": "list index out of range",
     "output_type": "error",
     "traceback": [
      "\u001b[1;31m---------------------------------------------------------------------------\u001b[0m",
      "\u001b[1;31mIndexError\u001b[0m                                Traceback (most recent call last)",
      "\u001b[1;32m<ipython-input-77-b01af43d4e39>\u001b[0m in \u001b[0;36m<module>\u001b[1;34m\u001b[0m\n\u001b[0;32m     24\u001b[0m     \u001b[1;32mfor\u001b[0m \u001b[0mi\u001b[0m \u001b[1;32min\u001b[0m \u001b[0mrange\u001b[0m\u001b[1;33m(\u001b[0m\u001b[0mjumlahSlot\u001b[0m\u001b[1;33m[\u001b[0m\u001b[0mrow\u001b[0m\u001b[1;33m]\u001b[0m\u001b[1;33m)\u001b[0m\u001b[1;33m:\u001b[0m\u001b[1;33m\u001b[0m\u001b[1;33m\u001b[0m\u001b[0m\n\u001b[0;32m     25\u001b[0m         \u001b[0mROI_slot\u001b[0m\u001b[1;33m[\u001b[0m\u001b[0mrow\u001b[0m\u001b[1;33m]\u001b[0m\u001b[1;33m.\u001b[0m\u001b[0mappend\u001b[0m\u001b[1;33m(\u001b[0m\u001b[1;33m[\u001b[0m\u001b[1;33m]\u001b[0m\u001b[1;33m)\u001b[0m\u001b[1;33m\u001b[0m\u001b[1;33m\u001b[0m\u001b[0m\n\u001b[1;32m---> 26\u001b[1;33m         \u001b[0mROI_slot\u001b[0m\u001b[1;33m[\u001b[0m\u001b[0mrow\u001b[0m\u001b[1;33m]\u001b[0m\u001b[1;33m[\u001b[0m\u001b[0mi\u001b[0m\u001b[1;33m]\u001b[0m\u001b[1;33m.\u001b[0m\u001b[0mappend\u001b[0m\u001b[1;33m(\u001b[0m\u001b[1;33m[\u001b[0m\u001b[0mkeyPoint\u001b[0m\u001b[1;33m[\u001b[0m\u001b[1;36m0\u001b[0m\u001b[1;33m+\u001b[0m\u001b[0mi\u001b[0m\u001b[1;33m+\u001b[0m\u001b[0mi\u001b[0m\u001b[1;33m]\u001b[0m\u001b[1;33m[\u001b[0m\u001b[1;36m0\u001b[0m\u001b[1;33m]\u001b[0m\u001b[1;33m,\u001b[0m\u001b[0mkeyPoint\u001b[0m\u001b[1;33m[\u001b[0m\u001b[1;36m0\u001b[0m\u001b[1;33m+\u001b[0m\u001b[0mi\u001b[0m\u001b[1;33m+\u001b[0m\u001b[0mi\u001b[0m\u001b[1;33m]\u001b[0m\u001b[1;33m[\u001b[0m\u001b[1;36m1\u001b[0m\u001b[1;33m]\u001b[0m\u001b[1;33m]\u001b[0m\u001b[1;33m)\u001b[0m\u001b[1;33m\u001b[0m\u001b[1;33m\u001b[0m\u001b[0m\n\u001b[0m\u001b[0;32m     27\u001b[0m         \u001b[0mROI_slot\u001b[0m\u001b[1;33m[\u001b[0m\u001b[0mrow\u001b[0m\u001b[1;33m]\u001b[0m\u001b[1;33m[\u001b[0m\u001b[0mi\u001b[0m\u001b[1;33m]\u001b[0m\u001b[1;33m.\u001b[0m\u001b[0mappend\u001b[0m\u001b[1;33m(\u001b[0m\u001b[1;33m[\u001b[0m\u001b[0mkeyPoint\u001b[0m\u001b[1;33m[\u001b[0m\u001b[1;36m1\u001b[0m\u001b[1;33m+\u001b[0m\u001b[0mi\u001b[0m\u001b[1;33m+\u001b[0m\u001b[0mi\u001b[0m\u001b[1;33m]\u001b[0m\u001b[1;33m[\u001b[0m\u001b[1;36m0\u001b[0m\u001b[1;33m]\u001b[0m\u001b[1;33m,\u001b[0m\u001b[0mkeyPoint\u001b[0m\u001b[1;33m[\u001b[0m\u001b[1;36m1\u001b[0m\u001b[1;33m+\u001b[0m\u001b[0mi\u001b[0m\u001b[1;33m+\u001b[0m\u001b[0mi\u001b[0m\u001b[1;33m]\u001b[0m\u001b[1;33m[\u001b[0m\u001b[1;36m1\u001b[0m\u001b[1;33m]\u001b[0m\u001b[1;33m]\u001b[0m\u001b[1;33m)\u001b[0m\u001b[1;33m\u001b[0m\u001b[1;33m\u001b[0m\u001b[0m\n\u001b[0;32m     28\u001b[0m         \u001b[0mROI_slot\u001b[0m\u001b[1;33m[\u001b[0m\u001b[0mrow\u001b[0m\u001b[1;33m]\u001b[0m\u001b[1;33m[\u001b[0m\u001b[0mi\u001b[0m\u001b[1;33m]\u001b[0m\u001b[1;33m.\u001b[0m\u001b[0mappend\u001b[0m\u001b[1;33m(\u001b[0m\u001b[1;33m[\u001b[0m\u001b[0mkeyPoint\u001b[0m\u001b[1;33m[\u001b[0m\u001b[1;36m2\u001b[0m\u001b[1;33m+\u001b[0m\u001b[0mi\u001b[0m\u001b[1;33m+\u001b[0m\u001b[0mi\u001b[0m\u001b[1;33m]\u001b[0m\u001b[1;33m[\u001b[0m\u001b[1;36m0\u001b[0m\u001b[1;33m]\u001b[0m\u001b[1;33m,\u001b[0m\u001b[0mkeyPoint\u001b[0m\u001b[1;33m[\u001b[0m\u001b[1;36m2\u001b[0m\u001b[1;33m+\u001b[0m\u001b[0mi\u001b[0m\u001b[1;33m+\u001b[0m\u001b[0mi\u001b[0m\u001b[1;33m]\u001b[0m\u001b[1;33m[\u001b[0m\u001b[1;36m1\u001b[0m\u001b[1;33m]\u001b[0m\u001b[1;33m]\u001b[0m\u001b[1;33m)\u001b[0m\u001b[1;33m\u001b[0m\u001b[1;33m\u001b[0m\u001b[0m\n",
      "\u001b[1;31mIndexError\u001b[0m: list index out of range"
     ]
    }
   ],
   "source": [
    "#Mulai plot slot\n",
    "image = original_clone.copy()\n",
    "\n",
    "for row in range(len(jumlahSlot)):\n",
    "    rowIndicator = 0\n",
    "    point = []\n",
    "    keyPoint = []\n",
    "    click = -1\n",
    "    tAkhir = 0\n",
    "    tAwal = 0\n",
    "\n",
    "    cv2.namedWindow('image')\n",
    "    cv2.setMouseCallback('image',coordinate)\n",
    "\n",
    "    while True:\n",
    "        cv2.imshow('image',image)\n",
    "        key = cv2.waitKey(1) & 0xFF \n",
    "        if key == ord(\"c\"):\n",
    "            break\n",
    "    \n",
    "    cv2.destroyAllWindows()\n",
    "    \n",
    "    ROI_slot.append([])\n",
    "    for i in range(jumlahSlot[row]):\n",
    "        ROI_slot[row].append([])\n",
    "        ROI_slot[row][i].append([keyPoint[0+i+i][0],keyPoint[0+i+i][1]])\n",
    "        ROI_slot[row][i].append([keyPoint[1+i+i][0],keyPoint[1+i+i][1]])\n",
    "        ROI_slot[row][i].append([keyPoint[2+i+i][0],keyPoint[2+i+i][1]])\n",
    "        ROI_slot[row][i].append([keyPoint[3+i+i][0],keyPoint[3+i+i][1]])\n",
    "    "
   ]
  },
  {
   "cell_type": "code",
   "execution_count": null,
   "metadata": {},
   "outputs": [],
   "source": [
    "type(ROI_slot)"
   ]
  },
  {
   "cell_type": "code",
   "execution_count": null,
   "metadata": {},
   "outputs": [],
   "source": [
    "import numpy as np\n",
    "\n",
    "arr = np.array(ROI_slot)\n",
    "print(arr)"
   ]
  },
  {
   "cell_type": "code",
   "execution_count": 35,
   "metadata": {},
   "outputs": [
    {
     "name": "stdout",
     "output_type": "stream",
     "text": [
      "(3,)\n"
     ]
    }
   ],
   "source": [
    "print(arr.shape)"
   ]
  },
  {
   "cell_type": "code",
   "execution_count": 36,
   "metadata": {},
   "outputs": [
    {
     "data": {
      "text/plain": [
       "list"
      ]
     },
     "execution_count": 36,
     "metadata": {},
     "output_type": "execute_result"
    }
   ],
   "source": [
    "type(arr[0][0][0])"
   ]
  },
  {
   "cell_type": "code",
   "execution_count": 37,
   "metadata": {},
   "outputs": [],
   "source": [
    "#Export ke npy\n",
    "from numpy import save\n",
    "\n",
    "save(\"tes1.npy\",arr)"
   ]
  },
  {
   "cell_type": "code",
   "execution_count": null,
   "metadata": {},
   "outputs": [],
   "source": []
  }
 ],
 "metadata": {
  "kernelspec": {
   "display_name": "Python 3",
   "language": "python",
   "name": "python3"
  },
  "language_info": {
   "codemirror_mode": {
    "name": "ipython",
    "version": 3
   },
   "file_extension": ".py",
   "mimetype": "text/x-python",
   "name": "python",
   "nbconvert_exporter": "python",
   "pygments_lexer": "ipython3",
   "version": "3.8.5"
  }
 },
 "nbformat": 4,
 "nbformat_minor": 4
}
