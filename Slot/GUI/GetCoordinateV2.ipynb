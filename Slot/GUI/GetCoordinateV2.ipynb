{
 "cells": [
  {
   "cell_type": "code",
   "execution_count": 50,
   "metadata": {},
   "outputs": [],
   "source": [
    "#Import modul\n",
    "from PIL import Image                                   \n",
    "import cv2                                              \n",
    "import numpy as np                                      \n",
    "import matplotlib.pyplot as plt"
   ]
  },
  {
   "cell_type": "code",
   "execution_count": 51,
   "metadata": {},
   "outputs": [
    {
     "data": {
      "text/plain": [
       "'C:\\\\Users\\\\LENOVO\\\\ParkingSlot\\\\Slot\\\\GUI'"
      ]
     },
     "execution_count": 51,
     "metadata": {},
     "output_type": "execute_result"
    }
   ],
   "source": [
    "import os\n",
    "import copy\n",
    "os.getcwd()"
   ]
  },
  {
   "cell_type": "code",
   "execution_count": 52,
   "metadata": {},
   "outputs": [],
   "source": [
    "image = cv2.imread(\"tes1.jpg\") \n",
    "image = cv2.resize(image, (image.shape[1],image.shape[0]), interpolation = cv2.INTER_AREA) \n",
    "state = 0 \n",
    "sum_rows = 0 \n",
    "sum_slots = []  \n",
    "font = cv2.FONT_HERSHEY_PLAIN"
   ]
  },
  {
   "cell_type": "code",
   "execution_count": 53,
   "metadata": {},
   "outputs": [],
   "source": [
    "ROI_slot =[]  \n",
    "imges = image.copy() \n",
    "original_clone = image.copy()  \n",
    "clone = Image.fromarray(original_clone)"
   ]
  },
  {
   "cell_type": "code",
   "execution_count": 54,
   "metadata": {},
   "outputs": [],
   "source": [
    "#PAKE INI DULU\n",
    "#Variabel dibawah nanti dipakai pas dengan program GUI tkinter, dibawah ini sebagai sample dulu, dimensi pertama = row/shaf,\n",
    "#dan dimensi kedua = jumlah slot pada row/shaf tsb\n",
    "jumlahSlot = [2,3,4]"
   ]
  },
  {
   "cell_type": "code",
   "execution_count": 55,
   "metadata": {},
   "outputs": [],
   "source": [
    "#PAKE INI\n",
    "def coordinate(event,x,y,flags,param):\n",
    "    global point,click,keyPoint,tAwal,tAkhir,indexClick,rowIndicator,cache,image,tAwalTemp,tAkhirTemp\n",
    "    global state,cache1,cache2,cache3\n",
    "    \n",
    "    if event==cv2.EVENT_LBUTTONDOWN:\n",
    "        cache = np.copy(image)\n",
    "        \n",
    "        tAwalTemp = tAwal\n",
    "        tAkhirTemp = tAkhir\n",
    "        \n",
    "        \n",
    "        rowIndicator = rowIndicator + 1\n",
    "        point=(x,y)\n",
    "        keyPoint.append(point)\n",
    "        print(keyPoint)\n",
    "        click = click + 1\n",
    "        if click==1:\n",
    "            tAkhir = tAwal + 1\n",
    "            cv2.line(image,keyPoint[tAwal],keyPoint[tAkhir],(0,0,255),2)\n",
    "            cache1 = np.copy(image)\n",
    "            state = 0\n",
    "        elif click==2:\n",
    "            tAwal = tAkhir\n",
    "            tAkhir = tAkhir + 1\n",
    "            cv2.line(image,keyPoint[tAwal],keyPoint[tAkhir],(0,0,255),2)\n",
    "            cache2 = np.copy(image)\n",
    "            state = 0\n",
    "        elif click==3:\n",
    "            tAwal = tAkhir\n",
    "            tAkhir = tAkhir + 1\n",
    "            cv2.line(image,keyPoint[tAwal],keyPoint[tAkhir],(0,0,255),2)\n",
    "            cv2.line(image,keyPoint[tAwal-2],keyPoint[tAkhir],(0,0,255),2)\n",
    "            cache3 = np.copy(image)\n",
    "            state = 0\n",
    "            click = 1\n",
    "        #Deteksi jika sudah memenuhi jumlah slot, maka move ke row/shaf berikutnya\n",
    "        #PAKAI ARITMATIKA a+(n-1)*b menjadi 2+2.n\n",
    "        if rowIndicator == (2+2*(jumlahSlot[row])):\n",
    "            print(rowIndicator)\n",
    "            print('DONE')\n",
    "        \n",
    "\n",
    "    if event == cv2.EVENT_RBUTTONDOWN:\n",
    "        image = np.copy(cache)\n",
    "        if click == 1:\n",
    "            click = 3\n",
    "        click = click - 1\n",
    "        tAwal = tAwalTemp\n",
    "        tAkhir = tAkhirTemp\n",
    "        del keyPoint[-1]\n",
    "        # HOW TO DELETE?\n",
    "        #if click==1:\n",
    "        #    click = 3\n",
    "        #click = click-1\n",
    "        #state = state+1\n",
    "        #if state==1:\n",
    "        #    del keyPoint[-1]\n",
    "        #    tAwal = tAwalTemp\n",
    "        #    tAkhir = tAkhirTemp\n"
   ]
  },
  {
   "cell_type": "code",
   "execution_count": 56,
   "metadata": {
    "scrolled": true
   },
   "outputs": [
    {
     "name": "stdout",
     "output_type": "stream",
     "text": [
      "[(681, 263)]\n",
      "[(681, 263), (666, 203)]\n",
      "[(681, 263), (666, 203), (602, 205)]\n",
      "[(681, 263), (666, 203), (602, 205), (602, 276)]\n",
      "[(681, 263), (666, 203), (602, 205), (602, 271)]\n",
      "[(681, 263), (666, 203), (602, 205), (602, 271), (507, 273)]\n",
      "6\n",
      "DONE\n",
      "[(681, 263), (666, 203), (602, 205), (602, 271), (507, 273), (526, 210)]\n",
      "[(681, 263), (666, 203), (602, 205), (602, 271), (507, 273), (526, 210), (446, 203)]\n",
      "[(681, 263), (666, 203), (602, 205), (602, 271), (507, 273), (526, 210), (446, 203), (425, 251)]\n"
     ]
    },
    {
     "ename": "IndexError",
     "evalue": "list assignment index out of range",
     "output_type": "error",
     "traceback": [
      "\u001b[1;31m---------------------------------------------------------------------------\u001b[0m",
      "\u001b[1;31mIndexError\u001b[0m                                Traceback (most recent call last)",
      "\u001b[1;32m<ipython-input-55-8402ca1e917f>\u001b[0m in \u001b[0;36mcoordinate\u001b[1;34m(event, x, y, flags, param)\u001b[0m\n\u001b[0;32m     55\u001b[0m         \u001b[0mtAwal\u001b[0m \u001b[1;33m=\u001b[0m \u001b[0mtAwalTemp\u001b[0m\u001b[1;33m\u001b[0m\u001b[1;33m\u001b[0m\u001b[0m\n\u001b[0;32m     56\u001b[0m         \u001b[0mtAkhir\u001b[0m \u001b[1;33m=\u001b[0m \u001b[0mtAkhirTemp\u001b[0m\u001b[1;33m\u001b[0m\u001b[1;33m\u001b[0m\u001b[0m\n\u001b[1;32m---> 57\u001b[1;33m         \u001b[1;32mdel\u001b[0m \u001b[0mkeyPoint\u001b[0m\u001b[1;33m[\u001b[0m\u001b[1;33m-\u001b[0m\u001b[1;36m1\u001b[0m\u001b[1;33m]\u001b[0m\u001b[1;33m\u001b[0m\u001b[1;33m\u001b[0m\u001b[0m\n\u001b[0m",
      "\u001b[1;31mIndexError\u001b[0m: list assignment index out of range"
     ]
    },
    {
     "ename": "IndexError",
     "evalue": "list index out of range",
     "output_type": "error",
     "traceback": [
      "\u001b[1;31m---------------------------------------------------------------------------\u001b[0m",
      "\u001b[1;31mIndexError\u001b[0m                                Traceback (most recent call last)",
      "\u001b[1;32m<ipython-input-56-e2b0f8b1b80e>\u001b[0m in \u001b[0;36m<module>\u001b[1;34m\u001b[0m\n\u001b[0;32m     46\u001b[0m     \u001b[1;32mfor\u001b[0m \u001b[0mi\u001b[0m \u001b[1;32min\u001b[0m \u001b[0mrange\u001b[0m\u001b[1;33m(\u001b[0m\u001b[0mjumlahSlot\u001b[0m\u001b[1;33m[\u001b[0m\u001b[0mrow\u001b[0m\u001b[1;33m]\u001b[0m\u001b[1;33m)\u001b[0m\u001b[1;33m:\u001b[0m\u001b[1;33m\u001b[0m\u001b[1;33m\u001b[0m\u001b[0m\n\u001b[0;32m     47\u001b[0m         \u001b[0mROI_slot\u001b[0m\u001b[1;33m[\u001b[0m\u001b[0mrow\u001b[0m\u001b[1;33m]\u001b[0m\u001b[1;33m.\u001b[0m\u001b[0mappend\u001b[0m\u001b[1;33m(\u001b[0m\u001b[1;33m[\u001b[0m\u001b[1;33m]\u001b[0m\u001b[1;33m)\u001b[0m\u001b[1;33m\u001b[0m\u001b[1;33m\u001b[0m\u001b[0m\n\u001b[1;32m---> 48\u001b[1;33m         \u001b[0mROI_slot\u001b[0m\u001b[1;33m[\u001b[0m\u001b[0mrow\u001b[0m\u001b[1;33m]\u001b[0m\u001b[1;33m[\u001b[0m\u001b[0mi\u001b[0m\u001b[1;33m]\u001b[0m\u001b[1;33m.\u001b[0m\u001b[0mappend\u001b[0m\u001b[1;33m(\u001b[0m\u001b[1;33m[\u001b[0m\u001b[0mkeyPoint\u001b[0m\u001b[1;33m[\u001b[0m\u001b[1;36m0\u001b[0m\u001b[1;33m+\u001b[0m\u001b[0mi\u001b[0m\u001b[1;33m+\u001b[0m\u001b[0mi\u001b[0m\u001b[1;33m]\u001b[0m\u001b[1;33m[\u001b[0m\u001b[1;36m0\u001b[0m\u001b[1;33m]\u001b[0m\u001b[1;33m,\u001b[0m\u001b[0mkeyPoint\u001b[0m\u001b[1;33m[\u001b[0m\u001b[1;36m0\u001b[0m\u001b[1;33m+\u001b[0m\u001b[0mi\u001b[0m\u001b[1;33m+\u001b[0m\u001b[0mi\u001b[0m\u001b[1;33m]\u001b[0m\u001b[1;33m[\u001b[0m\u001b[1;36m1\u001b[0m\u001b[1;33m]\u001b[0m\u001b[1;33m]\u001b[0m\u001b[1;33m)\u001b[0m\u001b[1;33m\u001b[0m\u001b[1;33m\u001b[0m\u001b[0m\n\u001b[0m\u001b[0;32m     49\u001b[0m         \u001b[0mROI_slot\u001b[0m\u001b[1;33m[\u001b[0m\u001b[0mrow\u001b[0m\u001b[1;33m]\u001b[0m\u001b[1;33m[\u001b[0m\u001b[0mi\u001b[0m\u001b[1;33m]\u001b[0m\u001b[1;33m.\u001b[0m\u001b[0mappend\u001b[0m\u001b[1;33m(\u001b[0m\u001b[1;33m[\u001b[0m\u001b[0mkeyPoint\u001b[0m\u001b[1;33m[\u001b[0m\u001b[1;36m1\u001b[0m\u001b[1;33m+\u001b[0m\u001b[0mi\u001b[0m\u001b[1;33m+\u001b[0m\u001b[0mi\u001b[0m\u001b[1;33m]\u001b[0m\u001b[1;33m[\u001b[0m\u001b[1;36m0\u001b[0m\u001b[1;33m]\u001b[0m\u001b[1;33m,\u001b[0m\u001b[0mkeyPoint\u001b[0m\u001b[1;33m[\u001b[0m\u001b[1;36m1\u001b[0m\u001b[1;33m+\u001b[0m\u001b[0mi\u001b[0m\u001b[1;33m+\u001b[0m\u001b[0mi\u001b[0m\u001b[1;33m]\u001b[0m\u001b[1;33m[\u001b[0m\u001b[1;36m1\u001b[0m\u001b[1;33m]\u001b[0m\u001b[1;33m]\u001b[0m\u001b[1;33m)\u001b[0m\u001b[1;33m\u001b[0m\u001b[1;33m\u001b[0m\u001b[0m\n\u001b[0;32m     50\u001b[0m         \u001b[0mROI_slot\u001b[0m\u001b[1;33m[\u001b[0m\u001b[0mrow\u001b[0m\u001b[1;33m]\u001b[0m\u001b[1;33m[\u001b[0m\u001b[0mi\u001b[0m\u001b[1;33m]\u001b[0m\u001b[1;33m.\u001b[0m\u001b[0mappend\u001b[0m\u001b[1;33m(\u001b[0m\u001b[1;33m[\u001b[0m\u001b[0mkeyPoint\u001b[0m\u001b[1;33m[\u001b[0m\u001b[1;36m2\u001b[0m\u001b[1;33m+\u001b[0m\u001b[0mi\u001b[0m\u001b[1;33m+\u001b[0m\u001b[0mi\u001b[0m\u001b[1;33m]\u001b[0m\u001b[1;33m[\u001b[0m\u001b[1;36m0\u001b[0m\u001b[1;33m]\u001b[0m\u001b[1;33m,\u001b[0m\u001b[0mkeyPoint\u001b[0m\u001b[1;33m[\u001b[0m\u001b[1;36m2\u001b[0m\u001b[1;33m+\u001b[0m\u001b[0mi\u001b[0m\u001b[1;33m+\u001b[0m\u001b[0mi\u001b[0m\u001b[1;33m]\u001b[0m\u001b[1;33m[\u001b[0m\u001b[1;36m1\u001b[0m\u001b[1;33m]\u001b[0m\u001b[1;33m]\u001b[0m\u001b[1;33m)\u001b[0m\u001b[1;33m\u001b[0m\u001b[1;33m\u001b[0m\u001b[0m\n",
      "\u001b[1;31mIndexError\u001b[0m: list index out of range"
     ]
    }
   ],
   "source": [
    "#Mulai plot slot\n",
    "#image = original_clone.copy()\n",
    "\n",
    "#image = original_clone.copy() \n",
    "#cache = copy.deepcopy(image)\n",
    "\n",
    "for row in range(len(jumlahSlot)):\n",
    "    #undoImage = image\n",
    "    #undoCheck = False\n",
    "    rowIndicator = 0\n",
    "    point = []\n",
    "    keyPoint = []\n",
    "    click = -1\n",
    "    tAkhir = 0\n",
    "    tAwal = 0\n",
    "    \n",
    "    tAkhirTemp = 0\n",
    "    tAwalTemp = 0\n",
    "    \n",
    "    global image  \n",
    "    global cache \n",
    "    \n",
    "    image = original_clone.copy()\n",
    "    cache = np.copy(image)\n",
    "    \n",
    "    cv2.namedWindow('image')\n",
    "    cv2.setMouseCallback('image',coordinate)\n",
    "\n",
    "    while True:\n",
    "        cv2.imshow('image',image)\n",
    "        if cv2.waitKey(1) == ord('c'):\n",
    "            break\n",
    "        #elif cv2.waitKey(1) == ord('z'):\n",
    "        #    row = row-1\n",
    "        #    image = undoImage\n",
    "        #    undoCheck = True\n",
    "            \n",
    "    #if undoCheck == True:\n",
    "        #cv2.destroyAllWindows()\n",
    "        #break\n",
    "    #else:\n",
    "        #cv2.destroyAllWindows()\n",
    "    cv2.destroyAllWindows()\n",
    "    \n",
    "    ROI_slot.append([])\n",
    "    for i in range(jumlahSlot[row]):\n",
    "        ROI_slot[row].append([])\n",
    "        ROI_slot[row][i].append([keyPoint[0+i+i][0],keyPoint[0+i+i][1]])\n",
    "        ROI_slot[row][i].append([keyPoint[1+i+i][0],keyPoint[1+i+i][1]])\n",
    "        ROI_slot[row][i].append([keyPoint[2+i+i][0],keyPoint[2+i+i][1]])\n",
    "        ROI_slot[row][i].append([keyPoint[3+i+i][0],keyPoint[3+i+i][1]])"
   ]
  },
  {
   "cell_type": "code",
   "execution_count": null,
   "metadata": {},
   "outputs": [],
   "source": []
  },
  {
   "cell_type": "code",
   "execution_count": null,
   "metadata": {},
   "outputs": [],
   "source": []
  }
 ],
 "metadata": {
  "kernelspec": {
   "display_name": "Python 3",
   "language": "python",
   "name": "python3"
  },
  "language_info": {
   "codemirror_mode": {
    "name": "ipython",
    "version": 3
   },
   "file_extension": ".py",
   "mimetype": "text/x-python",
   "name": "python",
   "nbconvert_exporter": "python",
   "pygments_lexer": "ipython3",
   "version": "3.8.5"
  }
 },
 "nbformat": 4,
 "nbformat_minor": 4
}
