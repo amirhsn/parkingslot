{
 "cells": [
  {
   "cell_type": "code",
   "execution_count": 1,
   "metadata": {},
   "outputs": [],
   "source": [
    "#Import modul\n",
    "from PIL import Image                                   \n",
    "import cv2                                              \n",
    "import numpy as np                                      \n",
    "import matplotlib.pyplot as plt "
   ]
  },
  {
   "cell_type": "code",
   "execution_count": 2,
   "metadata": {},
   "outputs": [],
   "source": [
    "#Load koodinat npy\n",
    "ROI_slot_1 = np.load('data/CNR/coordinate/cam1.npy',allow_pickle=True)\n",
    "ROI_slot_6 = np.load('data/CNR/coordinate/cam6.npy',allow_pickle=True)\n",
    "ROI_slot_7 = np.load('data/CNR/coordinate/cam7.npy',allow_pickle=True)\n",
    "ROI_slot_8 = np.load('data/CNR/coordinate/cam8.npy',allow_pickle=True)\n",
    "ROI_slot_9 = np.load('data/CNR/coordinate/cam9.npy',allow_pickle=True)"
   ]
  },
  {
   "cell_type": "code",
   "execution_count": 3,
   "metadata": {},
   "outputs": [],
   "source": [
    "#Untuk cam\n",
    "def shiftSlot(slotCamera,baris1,baris2,baris3,baris4):\n",
    "    blankArray = [[None, None], [None, None], [None, None], [None, None]]\n",
    "    ROI_slot_mul = slotCamera\n",
    "    for i in range(baris1):\n",
    "        ROI_slot_mul[0].insert(0,blankArray)\n",
    "    for i in range(baris2):\n",
    "        ROI_slot_mul[1].insert(0,blankArray)\n",
    "    for i in range(baris3):\n",
    "        ROI_slot_mul[2].insert(0,blankArray)\n",
    "    for i in range(baris4):\n",
    "        ROI_slot_mul[3].insert(0,blankArray)    "
   ]
  },
  {
   "cell_type": "code",
   "execution_count": 74,
   "metadata": {},
   "outputs": [
    {
     "data": {
      "text/plain": [
       "array([list([[[998, 50], [998, 100], [968, 98], [971, 41]], [[968, 98], [971, 41], [916, 42], [905, 92]], [[916, 42], [905, 92], [846, 78], [861, 33]], [[846, 78], [861, 33], [802, 30], [787, 69]], [[802, 30], [787, 69], [722, 73], [747, 27]], [[722, 73], [747, 27], [697, 22], [670, 69]], [[697, 22], [670, 69], [616, 68], [645, 21]], [[616, 68], [645, 21], [594, 18], [562, 62]]]),\n",
       "       list([[[998, 120], [998, 188], [951, 186], [961, 117]], [[951, 186], [961, 117], [891, 121], [878, 173]], [[891, 121], [878, 173], [796, 165], [819, 107]], [[796, 165], [819, 107], [741, 103], [728, 158]], [[741, 103], [728, 158], [661, 150], [684, 101]], [[661, 150], [684, 101], [614, 99], [594, 149]], [[614, 99], [594, 149], [536, 137], [559, 94]], [[536, 137], [559, 94], [495, 88], [455, 132]]]),\n",
       "       list([[[997, 202], [998, 280], [950, 271], [958, 196]], [[950, 271], [958, 196], [862, 190], [848, 259]], [[862, 190], [848, 259], [754, 245], [770, 179]], [[754, 245], [770, 179], [685, 175], [658, 238]], [[685, 175], [658, 238], [584, 222], [611, 166]], [[584, 222], [611, 166], [536, 156], [510, 216]], [[536, 156], [510, 216], [436, 201], [470, 144]], [[436, 201], [470, 144], [414, 141], [367, 187]]]),\n",
       "       list([[[999, 434], [996, 590], [926, 576], [934, 424]], [[926, 576], [934, 424], [809, 406], [779, 551]], [[809, 406], [779, 551], [619, 514], [679, 374]], [[619, 514], [679, 374], [580, 359], [495, 488]], [[580, 359], [495, 488], [377, 451], [457, 336]], [[377, 451], [457, 336], [378, 320], [281, 429]], [[378, 320], [281, 429], [169, 410], [302, 305]], [[169, 410], [302, 305], [212, 293], [82, 384]]]),\n",
       "       list([[[800, 716], [791, 740], [476, 743], [531, 638]], [[476, 743], [531, 638], [250, 554], [183, 639]], [[250, 554], [183, 639], [2, 575], [29, 474]]])],\n",
       "      dtype=object)"
      ]
     },
     "execution_count": 74,
     "metadata": {},
     "output_type": "execute_result"
    }
   ],
   "source": [
    "ROI_slot_9"
   ]
  },
  {
   "cell_type": "code",
   "execution_count": 75,
   "metadata": {},
   "outputs": [],
   "source": [
    "#shiftSlot(ROI_slot_6,7,5,10,18)\n",
    "#shiftSlot(ROI_slot_7,13,11,17,25)\n",
    "#shiftSlot(ROI_slot_8,16,18,23,31)\n",
    "shiftSlot(ROI_slot_9,27,27,30,37)"
   ]
  },
  {
   "cell_type": "code",
   "execution_count": 76,
   "metadata": {},
   "outputs": [],
   "source": [
    "#Export ke npy\n",
    "#from numpy import save\n",
    "\n",
    "#save(\"data/CNR/coordinate/cam9mul.npy\",ROI_slot_9)"
   ]
  },
  {
   "cell_type": "code",
   "execution_count": 8,
   "metadata": {},
   "outputs": [],
   "source": [
    "ROI_slot_last = np.load('data/CNR/coordinate/cam7mul.npy',allow_pickle=True)"
   ]
  },
  {
   "cell_type": "code",
   "execution_count": 5,
   "metadata": {},
   "outputs": [
    {
     "data": {
      "text/plain": [
       "[[[None, None], [None, None], [None, None], [None, None]],\n",
       " [[None, None], [None, None], [None, None], [None, None]],\n",
       " [[None, None], [None, None], [None, None], [None, None]],\n",
       " [[None, None], [None, None], [None, None], [None, None]],\n",
       " [[None, None], [None, None], [None, None], [None, None]],\n",
       " [[None, None], [None, None], [None, None], [None, None]],\n",
       " [[None, None], [None, None], [None, None], [None, None]],\n",
       " [[820, 67], [801, 40], [747, 40], [758, 71]],\n",
       " [[747, 40], [758, 71], [691, 70], [683, 44]],\n",
       " [[691, 70], [683, 44], [631, 44], [632, 71]],\n",
       " [[631, 44], [632, 71], [576, 71], [576, 48]],\n",
       " [[576, 71], [576, 48], [524, 48], [524, 72]],\n",
       " [[524, 48], [524, 72], [471, 72], [475, 50]],\n",
       " [[471, 72], [475, 50], [421, 51], [413, 67]],\n",
       " [[421, 51], [413, 67], [358, 69], [360, 49]],\n",
       " [[358, 69], [360, 49], [317, 49], [307, 67]],\n",
       " [[317, 49], [307, 67], [253, 68], [260, 53]],\n",
       " [[253, 68], [260, 53], [215, 50], [196, 73]],\n",
       " [[215, 50], [196, 73], [141, 71], [157, 50]],\n",
       " [[141, 71], [157, 50], [114, 50], [86, 74]],\n",
       " [[114, 50], [86, 74], [30, 76], [52, 50]],\n",
       " [[30, 76], [52, 50], [3, 50], [2, 74]]]"
      ]
     },
     "execution_count": 5,
     "metadata": {},
     "output_type": "execute_result"
    }
   ],
   "source": [
    "ROI_slot_last[0]"
   ]
  },
  {
   "cell_type": "code",
   "execution_count": 9,
   "metadata": {},
   "outputs": [],
   "source": [
    "#CEK AWAL\n",
    "ROI_slot = ROI_slot_last\n",
    "#Load images\n",
    "image = cv2.imread(\"data/CNR/samples/cam7.jpg\")\n",
    "image = cv2.resize(image, (image.shape[1],image.shape[0]), interpolation = cv2.INTER_AREA)\n",
    "plottedImage = image.copy()\n",
    "\n",
    "def cobaPlot1(row,slots):\n",
    "    for titik in range (len(ROI_slot[row][slots])):\n",
    "        x1 = ROI_slot[row][slots][titik][0]\n",
    "        y1 = ROI_slot[row][slots][titik][1]\n",
    "        if titik==3:\n",
    "            x2 = ROI_slot[row][slots][0][0]\n",
    "            y2 = ROI_slot[row][slots][0][1]\n",
    "        else:\n",
    "            x2 = ROI_slot[row][slots][titik+1][0]\n",
    "            y2 = ROI_slot[row][slots][titik+1][1]\n",
    "        cv2.line(plottedImage,(x1,y1),(x2,y2),(0,0,255),2)"
   ]
  },
  {
   "cell_type": "code",
   "execution_count": 10,
   "metadata": {},
   "outputs": [],
   "source": [
    "cobaPlot1(2,17)\n",
    "\n",
    "cv2.imshow(\"Image\",plottedImage)\n",
    "cv2.waitKey(0)\n",
    "cv2.destroyAllWindows()"
   ]
  },
  {
   "cell_type": "code",
   "execution_count": null,
   "metadata": {},
   "outputs": [],
   "source": []
  }
 ],
 "metadata": {
  "kernelspec": {
   "display_name": "Python 3",
   "language": "python",
   "name": "python3"
  },
  "language_info": {
   "codemirror_mode": {
    "name": "ipython",
    "version": 3
   },
   "file_extension": ".py",
   "mimetype": "text/x-python",
   "name": "python",
   "nbconvert_exporter": "python",
   "pygments_lexer": "ipython3",
   "version": "3.8.5"
  }
 },
 "nbformat": 4,
 "nbformat_minor": 4
}
