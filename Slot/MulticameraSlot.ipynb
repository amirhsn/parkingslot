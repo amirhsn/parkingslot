{
 "cells": [
  {
   "cell_type": "code",
   "execution_count": 2,
   "metadata": {},
   "outputs": [],
   "source": [
    "#Import modul\n",
    "from PIL import Image                                   \n",
    "import cv2                                              \n",
    "import numpy as np                                      \n",
    "import matplotlib.pyplot as plt "
   ]
  },
  {
   "cell_type": "code",
   "execution_count": null,
   "metadata": {},
   "outputs": [],
   "source": [
    "#Load koodinat npy\n",
    "ROI_slot_1 = np.load('data/CNR/coordinate/cam1.npy',allow_pickle=True)\n",
    "ROI_slot_6 = np.load('data/CNR/coordinate/cam6.npy',allow_pickle=True)\n",
    "ROI_slot_7 = np.load('data/CNR/coordinate/cam7.npy',allow_pickle=True)\n",
    "ROI_slot_8 = np.load('data/CNR/coordinate/cam8.npy',allow_pickle=True)\n",
    "ROI_slot_9 = np.load('data/CNR/coordinate/cam9.npy',allow_pickle=True)"
   ]
  },
  {
   "cell_type": "code",
   "execution_count": null,
   "metadata": {},
   "outputs": [],
   "source": [
    "#Untuk cam\n",
    "def shiftSlot(slotCamera,baris1,baris2,baris3,baris4):\n",
    "    blankArray = [[None, None], [None, None], [None, None], [None, None]]\n",
    "    ROI_slot_mul = slotCamera\n",
    "    for i in range(baris1):\n",
    "        ROI_slot_mul[0].insert(0,blankArray)\n",
    "    for i in range(baris2):\n",
    "        ROI_slot_mul[1].insert(0,blankArray)\n",
    "    for i in range(baris3):\n",
    "        ROI_slot_mul[2].insert(0,blankArray)\n",
    "    for i in range(baris4):\n",
    "        ROI_slot_mul[3].insert(0,blankArray)    "
   ]
  },
  {
   "cell_type": "code",
   "execution_count": null,
   "metadata": {},
   "outputs": [],
   "source": [
    "ROI_slot_9"
   ]
  },
  {
   "cell_type": "code",
   "execution_count": null,
   "metadata": {},
   "outputs": [],
   "source": [
    "#shiftSlot(ROI_slot_6,7,5,10,18)\n",
    "#shiftSlot(ROI_slot_7,13,11,17,25)\n",
    "#shiftSlot(ROI_slot_8,16,18,23,31)\n",
    "#shiftSlot(ROI_slot_9,27,27,30,37)"
   ]
  },
  {
   "cell_type": "code",
   "execution_count": null,
   "metadata": {},
   "outputs": [],
   "source": [
    "#Export ke npy\n",
    "#from numpy import save\n",
    "\n",
    "#save(\"data/CNR/coordinate/cam9mul.npy\",ROI_slot_9)"
   ]
  },
  {
   "cell_type": "code",
   "execution_count": 3,
   "metadata": {},
   "outputs": [],
   "source": [
    "ROI_slot_last = np.load('data/CNR/coordinate/cam6mul.npy',allow_pickle=True)"
   ]
  },
  {
   "cell_type": "code",
   "execution_count": 8,
   "metadata": {},
   "outputs": [
    {
     "data": {
      "text/plain": [
       "[[[None, None], [None, None], [None, None], [None, None]],\n",
       " [[None, None], [None, None], [None, None], [None, None]],\n",
       " [[None, None], [None, None], [None, None], [None, None]],\n",
       " [[None, None], [None, None], [None, None], [None, None]],\n",
       " [[None, None], [None, None], [None, None], [None, None]],\n",
       " [[None, None], [None, None], [None, None], [None, None]],\n",
       " [[None, None], [None, None], [None, None], [None, None]],\n",
       " [[None, None], [None, None], [None, None], [None, None]],\n",
       " [[None, None], [None, None], [None, None], [None, None]],\n",
       " [[None, None], [None, None], [None, None], [None, None]],\n",
       " [[None, None], [None, None], [None, None], [None, None]],\n",
       " [[None, None], [None, None], [None, None], [None, None]],\n",
       " [[None, None], [None, None], [None, None], [None, None]],\n",
       " [[None, None], [None, None], [None, None], [None, None]],\n",
       " [[None, None], [None, None], [None, None], [None, None]],\n",
       " [[None, None], [None, None], [None, None], [None, None]],\n",
       " [[None, None], [None, None], [None, None], [None, None]],\n",
       " [[None, None], [None, None], [None, None], [None, None]],\n",
       " [[997, 527], [998, 389], [898, 388], [930, 526]],\n",
       " [[898, 388], [930, 526], [797, 532], [755, 395]],\n",
       " [[797, 532], [755, 395], [628, 393], [644, 532]],\n",
       " [[628, 393], [644, 532], [500, 530], [507, 387]],\n",
       " [[500, 530], [507, 387], [393, 381], [358, 521]],\n",
       " [[393, 381], [358, 521], [216, 523], [275, 384]],\n",
       " [[216, 523], [275, 384], [162, 382], [78, 524]],\n",
       " [[162, 382], [78, 524], [3, 526], [29, 384]]]"
      ]
     },
     "execution_count": 8,
     "metadata": {},
     "output_type": "execute_result"
    }
   ],
   "source": [
    "ROI_slot_last[3]"
   ]
  },
  {
   "cell_type": "code",
   "execution_count": 5,
   "metadata": {},
   "outputs": [],
   "source": [
    "#CEK AWAL\n",
    "ROI_slot = ROI_slot_last\n",
    "#Load images\n",
    "image = cv2.imread(\"data/CNR/samples/cam6.jpg\")\n",
    "image = cv2.resize(image, (image.shape[1],image.shape[0]), interpolation = cv2.INTER_AREA)\n",
    "plottedImage = image.copy()\n",
    "\n",
    "def cobaPlot1(row,slots):\n",
    "    for titik in range (len(ROI_slot[row][slots])):\n",
    "        x1 = ROI_slot[row][slots][titik][0]\n",
    "        y1 = ROI_slot[row][slots][titik][1]\n",
    "        if titik==3:\n",
    "            x2 = ROI_slot[row][slots][0][0]\n",
    "            y2 = ROI_slot[row][slots][0][1]\n",
    "        else:\n",
    "            x2 = ROI_slot[row][slots][titik+1][0]\n",
    "            y2 = ROI_slot[row][slots][titik+1][1]\n",
    "        cv2.line(plottedImage,(x1,y1),(x2,y2),(0,0,255),2)"
   ]
  },
  {
   "cell_type": "code",
   "execution_count": 6,
   "metadata": {},
   "outputs": [
    {
     "ename": "TypeError",
     "evalue": "an integer is required (got type NoneType)",
     "output_type": "error",
     "traceback": [
      "\u001b[1;31m---------------------------------------------------------------------------\u001b[0m",
      "\u001b[1;31mTypeError\u001b[0m                                 Traceback (most recent call last)",
      "\u001b[1;32m<ipython-input-6-0ae9ca4751ea>\u001b[0m in \u001b[0;36m<module>\u001b[1;34m\u001b[0m\n\u001b[1;32m----> 1\u001b[1;33m \u001b[0mcobaPlot1\u001b[0m\u001b[1;33m(\u001b[0m\u001b[1;36m3\u001b[0m\u001b[1;33m,\u001b[0m\u001b[1;36m17\u001b[0m\u001b[1;33m)\u001b[0m\u001b[1;33m\u001b[0m\u001b[1;33m\u001b[0m\u001b[0m\n\u001b[0m\u001b[0;32m      2\u001b[0m \u001b[1;33m\u001b[0m\u001b[0m\n\u001b[0;32m      3\u001b[0m \u001b[0mcv2\u001b[0m\u001b[1;33m.\u001b[0m\u001b[0mimshow\u001b[0m\u001b[1;33m(\u001b[0m\u001b[1;34m\"Image\"\u001b[0m\u001b[1;33m,\u001b[0m\u001b[0mplottedImage\u001b[0m\u001b[1;33m)\u001b[0m\u001b[1;33m\u001b[0m\u001b[1;33m\u001b[0m\u001b[0m\n\u001b[0;32m      4\u001b[0m \u001b[0mcv2\u001b[0m\u001b[1;33m.\u001b[0m\u001b[0mwaitKey\u001b[0m\u001b[1;33m(\u001b[0m\u001b[1;36m0\u001b[0m\u001b[1;33m)\u001b[0m\u001b[1;33m\u001b[0m\u001b[1;33m\u001b[0m\u001b[0m\n\u001b[0;32m      5\u001b[0m \u001b[0mcv2\u001b[0m\u001b[1;33m.\u001b[0m\u001b[0mdestroyAllWindows\u001b[0m\u001b[1;33m(\u001b[0m\u001b[1;33m)\u001b[0m\u001b[1;33m\u001b[0m\u001b[1;33m\u001b[0m\u001b[0m\n",
      "\u001b[1;32m<ipython-input-5-4ad4f4e3d1a5>\u001b[0m in \u001b[0;36mcobaPlot1\u001b[1;34m(row, slots)\u001b[0m\n\u001b[0;32m     16\u001b[0m             \u001b[0mx2\u001b[0m \u001b[1;33m=\u001b[0m \u001b[0mROI_slot\u001b[0m\u001b[1;33m[\u001b[0m\u001b[0mrow\u001b[0m\u001b[1;33m]\u001b[0m\u001b[1;33m[\u001b[0m\u001b[0mslots\u001b[0m\u001b[1;33m]\u001b[0m\u001b[1;33m[\u001b[0m\u001b[0mtitik\u001b[0m\u001b[1;33m+\u001b[0m\u001b[1;36m1\u001b[0m\u001b[1;33m]\u001b[0m\u001b[1;33m[\u001b[0m\u001b[1;36m0\u001b[0m\u001b[1;33m]\u001b[0m\u001b[1;33m\u001b[0m\u001b[1;33m\u001b[0m\u001b[0m\n\u001b[0;32m     17\u001b[0m             \u001b[0my2\u001b[0m \u001b[1;33m=\u001b[0m \u001b[0mROI_slot\u001b[0m\u001b[1;33m[\u001b[0m\u001b[0mrow\u001b[0m\u001b[1;33m]\u001b[0m\u001b[1;33m[\u001b[0m\u001b[0mslots\u001b[0m\u001b[1;33m]\u001b[0m\u001b[1;33m[\u001b[0m\u001b[0mtitik\u001b[0m\u001b[1;33m+\u001b[0m\u001b[1;36m1\u001b[0m\u001b[1;33m]\u001b[0m\u001b[1;33m[\u001b[0m\u001b[1;36m1\u001b[0m\u001b[1;33m]\u001b[0m\u001b[1;33m\u001b[0m\u001b[1;33m\u001b[0m\u001b[0m\n\u001b[1;32m---> 18\u001b[1;33m         \u001b[0mcv2\u001b[0m\u001b[1;33m.\u001b[0m\u001b[0mline\u001b[0m\u001b[1;33m(\u001b[0m\u001b[0mplottedImage\u001b[0m\u001b[1;33m,\u001b[0m\u001b[1;33m(\u001b[0m\u001b[0mx1\u001b[0m\u001b[1;33m,\u001b[0m\u001b[0my1\u001b[0m\u001b[1;33m)\u001b[0m\u001b[1;33m,\u001b[0m\u001b[1;33m(\u001b[0m\u001b[0mx2\u001b[0m\u001b[1;33m,\u001b[0m\u001b[0my2\u001b[0m\u001b[1;33m)\u001b[0m\u001b[1;33m,\u001b[0m\u001b[1;33m(\u001b[0m\u001b[1;36m0\u001b[0m\u001b[1;33m,\u001b[0m\u001b[1;36m0\u001b[0m\u001b[1;33m,\u001b[0m\u001b[1;36m255\u001b[0m\u001b[1;33m)\u001b[0m\u001b[1;33m,\u001b[0m\u001b[1;36m2\u001b[0m\u001b[1;33m)\u001b[0m\u001b[1;33m\u001b[0m\u001b[1;33m\u001b[0m\u001b[0m\n\u001b[0m",
      "\u001b[1;31mTypeError\u001b[0m: an integer is required (got type NoneType)"
     ]
    }
   ],
   "source": [
    "cobaPlot1(3,17)\n",
    "\n",
    "cv2.imshow(\"Image\",plottedImage)\n",
    "cv2.waitKey(0)\n",
    "cv2.destroyAllWindows()"
   ]
  },
  {
   "cell_type": "code",
   "execution_count": null,
   "metadata": {},
   "outputs": [],
   "source": []
  }
 ],
 "metadata": {
  "kernelspec": {
   "display_name": "Python 3",
   "language": "python",
   "name": "python3"
  },
  "language_info": {
   "codemirror_mode": {
    "name": "ipython",
    "version": 3
   },
   "file_extension": ".py",
   "mimetype": "text/x-python",
   "name": "python",
   "nbconvert_exporter": "python",
   "pygments_lexer": "ipython3",
   "version": "3.8.5"
  }
 },
 "nbformat": 4,
 "nbformat_minor": 4
}
