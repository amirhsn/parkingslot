{
 "cells": [
  {
   "cell_type": "code",
   "execution_count": 22,
   "metadata": {},
   "outputs": [],
   "source": [
    "#Import modul\n",
    "from PIL import Image                                   \n",
    "import cv2                                              \n",
    "import numpy as np                                      \n",
    "import matplotlib.pyplot as plt "
   ]
  },
  {
   "cell_type": "code",
   "execution_count": 23,
   "metadata": {},
   "outputs": [
    {
     "data": {
      "text/plain": [
       "'C:\\\\Users\\\\Changcut\\\\Desktop\\\\ParkingSlot\\\\Slot'"
      ]
     },
     "execution_count": 23,
     "metadata": {},
     "output_type": "execute_result"
    }
   ],
   "source": [
    "import os\n",
    "os.getcwd()"
   ]
  },
  {
   "cell_type": "code",
   "execution_count": 24,
   "metadata": {},
   "outputs": [],
   "source": [
    "image = cv2.imread(\"Gambar/Tes1.jpg\") \n",
    "image = cv2.resize(image, (800,400), interpolation = cv2.INTER_AREA) \n",
    "state = 0 \n",
    "sum_rows = 0 \n",
    "sum_slots = []  \n",
    "font = cv2.FONT_HERSHEY_PLAIN "
   ]
  },
  {
   "cell_type": "code",
   "execution_count": 25,
   "metadata": {},
   "outputs": [],
   "source": [
    "ROI_slot =[]  \n",
    "imges = image.copy() \n",
    "original_clone = image.copy()  \n",
    "clone = Image.fromarray(original_clone)"
   ]
  },
  {
   "cell_type": "code",
   "execution_count": 26,
   "metadata": {},
   "outputs": [],
   "source": [
    "#PAKE INI\n",
    "def coordinate(event,x,y,flags,param):\n",
    "    global point,click,keyPoint,tAwal,tAkhir,indexClick\n",
    "    \n",
    "    if event==cv2.EVENT_LBUTTONDOWN:\n",
    "        point=(x,y)\n",
    "        keyPoint.append(point)\n",
    "        print(keyPoint)\n",
    "        click = click + 1\n",
    "        if click==1:\n",
    "            tAkhir = tAwal + 1\n",
    "            cv2.line(image,keyPoint[tAwal],keyPoint[tAkhir],(0,0,255),2)\n",
    "        elif click==2:\n",
    "            tAwal = tAkhir\n",
    "            tAkhir = tAkhir + 1\n",
    "            cv2.line(image,keyPoint[tAwal],keyPoint[tAkhir],(0,0,255),2)\n",
    "        elif click==3:\n",
    "            tAwal = tAkhir\n",
    "            tAkhir = tAkhir + 1\n",
    "            cv2.line(image,keyPoint[tAwal],keyPoint[tAkhir],(0,0,255),2)\n",
    "            cv2.line(image,keyPoint[tAwal-2],keyPoint[tAkhir],(0,0,255),2)\n",
    "            click = 1\n",
    "            "
   ]
  },
  {
   "cell_type": "code",
   "execution_count": 27,
   "metadata": {},
   "outputs": [],
   "source": [
    "#Ambil jumlah lahan dan slot parkir\n",
    "while True:                                             \n",
    "    # display the image and wait for a keypress \n",
    "    one = str(sum_rows) \n",
    "    two = str(sum_slots) \n",
    "    three = str(state+1) \n",
    "    cv2.putText(image,(one+\"=\"+two), (100,100), font, 2, (0,0,255),1) \n",
    "    cv2.putText(image,three, (30,30), font, 2, (0,0,255),1) \n",
    "    cv2.imshow(\"Image\",image)                          \n",
    "    key = cv2.waitKey(1) & 0xFF                         \n",
    "    if key == ord(\"p\"):  \n",
    "        sum_rows = sum_rows +1 \n",
    "        sum_slots.append(0) \n",
    "        image = original_clone.copy() \n",
    "    if key == ord(\"l\"): \n",
    "        state=state+1 \n",
    "        if state==sum_rows: \n",
    "            state = 0 \n",
    "        image = original_clone.copy() \n",
    "    if key == ord(\"o\"): \n",
    "        sum_slots[state] = sum_slots[state] +1 \n",
    "        image = original_clone.copy() \n",
    "    elif key == ord(\"c\"):                               \n",
    "        break                                           \n",
    "cv2.destroyAllWindows()"
   ]
  },
  {
   "cell_type": "code",
   "execution_count": 28,
   "metadata": {},
   "outputs": [
    {
     "name": "stdout",
     "output_type": "stream",
     "text": [
      "[(779, 389)]\n",
      "[(779, 389), (735, 295)]\n",
      "[(779, 389), (735, 295), (538, 271)]\n",
      "[(779, 389), (735, 295), (538, 271), (430, 327)]\n",
      "[(779, 389), (735, 295), (538, 271), (430, 327), (234, 297)]\n",
      "[(779, 389), (735, 295), (538, 271), (430, 327), (234, 297), (403, 256)]\n",
      "[(779, 389), (735, 295), (538, 271), (430, 327), (234, 297), (403, 256), (302, 249)]\n",
      "[(779, 389), (735, 295), (538, 271), (430, 327), (234, 297), (403, 256), (302, 249), (117, 276)]\n",
      "[(779, 389), (735, 295), (538, 271), (430, 327), (234, 297), (403, 256), (302, 249), (117, 276), (33, 264)]\n",
      "[(779, 389), (735, 295), (538, 271), (430, 327), (234, 297), (403, 256), (302, 249), (117, 276), (33, 264), (221, 243)]\n",
      "[(248, 169)]\n",
      "[(248, 169), (331, 169)]\n",
      "[(248, 169), (331, 169), (311, 118)]\n",
      "[(248, 169), (331, 169), (311, 118), (262, 121)]\n",
      "[(248, 169), (331, 169), (311, 118), (262, 121), (272, 64)]\n",
      "[(248, 169), (331, 169), (311, 118), (262, 121), (272, 64), (293, 65)]\n"
     ]
    }
   ],
   "source": [
    "#Mulai plot slot\n",
    "image = original_clone.copy()\n",
    "for row in range(sum_rows):\n",
    "    point = []\n",
    "    keyPoint = []\n",
    "    click = -1\n",
    "    tAkhir = 0\n",
    "    tAwal = 0\n",
    "\n",
    "    cv2.namedWindow('image')\n",
    "    cv2.setMouseCallback('image',coordinate)\n",
    "\n",
    "    while True:\n",
    "        cv2.imshow('image',image)\n",
    "        if cv2.waitKey(1) & 0xFF == ord('c'):\n",
    "            break\n",
    "    cv2.destroyAllWindows()\n",
    "    \n",
    "    ROI_slot.append([])\n",
    "    for i in range(sum_slots[row]):\n",
    "        ROI_slot[row].append([])\n",
    "        ROI_slot[row][i].append(keyPoint[0+i+i])\n",
    "        ROI_slot[row][i].append(keyPoint[1+i+i])\n",
    "        ROI_slot[row][i].append(keyPoint[2+i+i])\n",
    "        ROI_slot[row][i].append(keyPoint[3+i+i])"
   ]
  },
  {
   "cell_type": "code",
   "execution_count": 29,
   "metadata": {},
   "outputs": [
    {
     "data": {
      "text/plain": [
       "[[[(779, 389), (735, 295), (538, 271), (430, 327)],\n",
       "  [(538, 271), (430, 327), (234, 297), (403, 256)],\n",
       "  [(234, 297), (403, 256), (302, 249), (117, 276)],\n",
       "  [(302, 249), (117, 276), (33, 264), (221, 243)]],\n",
       " [[(248, 169), (331, 169), (311, 118), (262, 121)],\n",
       "  [(311, 118), (262, 121), (272, 64), (293, 65)]]]"
      ]
     },
     "execution_count": 29,
     "metadata": {},
     "output_type": "execute_result"
    }
   ],
   "source": [
    "ROI_slot"
   ]
  },
  {
   "cell_type": "code",
   "execution_count": 36,
   "metadata": {},
   "outputs": [
    {
     "data": {
      "text/plain": [
       "538"
      ]
     },
     "execution_count": 36,
     "metadata": {},
     "output_type": "execute_result"
    }
   ],
   "source": [
    "ROI_slot[0][1][0][0]"
   ]
  },
  {
   "cell_type": "code",
   "execution_count": 41,
   "metadata": {},
   "outputs": [
    {
     "name": "stdout",
     "output_type": "stream",
     "text": [
      "[list([[(779, 389), (735, 295), (538, 271), (430, 327)], [(538, 271), (430, 327), (234, 297), (403, 256)], [(234, 297), (403, 256), (302, 249), (117, 276)], [(302, 249), (117, 276), (33, 264), (221, 243)]])\n",
      " list([[(248, 169), (331, 169), (311, 118), (262, 121)], [(311, 118), (262, 121), (272, 64), (293, 65)]])]\n"
     ]
    }
   ],
   "source": [
    "import numpy as np\n",
    "\n",
    "arr = np.array(ROI_slot,dtype=object)\n",
    "print(arr)"
   ]
  },
  {
   "cell_type": "code",
   "execution_count": null,
   "metadata": {},
   "outputs": [],
   "source": []
  }
 ],
 "metadata": {
  "kernelspec": {
   "display_name": "Python 3",
   "language": "python",
   "name": "python3"
  },
  "language_info": {
   "codemirror_mode": {
    "name": "ipython",
    "version": 3
   },
   "file_extension": ".py",
   "mimetype": "text/x-python",
   "name": "python",
   "nbconvert_exporter": "python",
   "pygments_lexer": "ipython3",
   "version": "3.8.5"
  }
 },
 "nbformat": 4,
 "nbformat_minor": 4
}
