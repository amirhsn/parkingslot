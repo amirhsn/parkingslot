{
 "cells": [
  {
   "cell_type": "code",
   "execution_count": 35,
   "metadata": {},
   "outputs": [],
   "source": [
    "#Import modul\n",
    "from PIL import Image                                   \n",
    "import cv2                                              \n",
    "import numpy as np                                      \n",
    "import matplotlib.pyplot as plt "
   ]
  },
  {
   "cell_type": "code",
   "execution_count": 36,
   "metadata": {},
   "outputs": [
    {
     "data": {
      "text/plain": [
       "'C:\\\\Users\\\\LENOVO\\\\ParkingSlot\\\\Slot'"
      ]
     },
     "execution_count": 36,
     "metadata": {},
     "output_type": "execute_result"
    }
   ],
   "source": [
    "import os\n",
    "os.getcwd()"
   ]
  },
  {
   "cell_type": "code",
   "execution_count": 37,
   "metadata": {},
   "outputs": [],
   "source": [
    "image = cv2.imread(\"data/CNR/samples/cam8.jpg\") \n",
    "image = cv2.resize(image, (image.shape[1],image.shape[0]), interpolation = cv2.INTER_AREA) \n",
    "state = 0 \n",
    "sum_rows = 0 \n",
    "sum_slots = []  \n",
    "font = cv2.FONT_HERSHEY_PLAIN"
   ]
  },
  {
   "cell_type": "code",
   "execution_count": 38,
   "metadata": {},
   "outputs": [],
   "source": [
    "ROI_slot =[]  \n",
    "imges = image.copy() \n",
    "original_clone = image.copy()  \n",
    "clone = Image.fromarray(original_clone)"
   ]
  },
  {
   "cell_type": "code",
   "execution_count": 39,
   "metadata": {},
   "outputs": [],
   "source": [
    "#PAKE INI\n",
    "def coordinate(event,x,y,flags,param):\n",
    "    global point,click,keyPoint,tAwal,tAkhir,indexClick\n",
    "    \n",
    "    if event==cv2.EVENT_LBUTTONDOWN:\n",
    "        point=(x,y)\n",
    "        keyPoint.append(point)\n",
    "        print(keyPoint)\n",
    "        click = click + 1\n",
    "        if click==1:\n",
    "            tAkhir = tAwal + 1\n",
    "            cv2.line(image,keyPoint[tAwal],keyPoint[tAkhir],(0,0,255),2)\n",
    "        elif click==2:\n",
    "            tAwal = tAkhir\n",
    "            tAkhir = tAkhir + 1\n",
    "            cv2.line(image,keyPoint[tAwal],keyPoint[tAkhir],(0,0,255),2)\n",
    "        elif click==3:\n",
    "            tAwal = tAkhir\n",
    "            tAkhir = tAkhir + 1\n",
    "            cv2.line(image,keyPoint[tAwal],keyPoint[tAkhir],(0,0,255),2)\n",
    "            cv2.line(image,keyPoint[tAwal-2],keyPoint[tAkhir],(0,0,255),2)\n",
    "            click = 1\n",
    "            "
   ]
  },
  {
   "cell_type": "code",
   "execution_count": 40,
   "metadata": {},
   "outputs": [],
   "source": [
    "#Ambil jumlah lahan dan slot parkir\n",
    "while True:                                             \n",
    "    # display the image and wait for a keypress \n",
    "    one = str(sum_rows) \n",
    "    two = str(sum_slots) \n",
    "    three = str(state+1) \n",
    "    cv2.putText(image,(one+\"=\"+two), (100,100), font, 2, (0,0,255),1) \n",
    "    cv2.putText(image,three, (30,30), font, 2, (0,0,255),1) \n",
    "    cv2.imshow(\"Image\",image)                          \n",
    "    key = cv2.waitKey(1) & 0xFF                         \n",
    "    if key == ord(\"p\"):  \n",
    "        sum_rows = sum_rows +1 \n",
    "        sum_slots.append(0) \n",
    "        image = original_clone.copy() \n",
    "    if key == ord(\"l\"): \n",
    "        state=state+1 \n",
    "        if state==sum_rows: \n",
    "            state = 0 \n",
    "        image = original_clone.copy() \n",
    "    if key == ord(\"o\"): \n",
    "        sum_slots[state] = sum_slots[state] +1 \n",
    "        image = original_clone.copy() \n",
    "    elif key == ord(\"c\"):                               \n",
    "        break                                           \n",
    "cv2.destroyAllWindows()"
   ]
  },
  {
   "cell_type": "code",
   "execution_count": 41,
   "metadata": {},
   "outputs": [
    {
     "name": "stdout",
     "output_type": "stream",
     "text": [
      "[(734, 98)]\n",
      "[(734, 98), (714, 72)]\n",
      "[(734, 98), (714, 72), (663, 70)]\n",
      "[(734, 98), (714, 72), (663, 70), (678, 98)]\n",
      "[(734, 98), (714, 72), (663, 70), (678, 98), (624, 98)]\n",
      "[(734, 98), (714, 72), (663, 70), (678, 98), (624, 98), (610, 68)]\n",
      "[(802, 178)]\n",
      "[(802, 178), (767, 139)]\n",
      "[(802, 178), (767, 139), (708, 140)]\n",
      "[(802, 178), (767, 139), (708, 140), (731, 181)]\n",
      "[(802, 178), (767, 139), (708, 140), (731, 181), (657, 178)]\n",
      "[(802, 178), (767, 139), (708, 140), (731, 181), (657, 178), (641, 142)]\n",
      "[(802, 178), (767, 139), (708, 140), (731, 181), (657, 178), (641, 142), (577, 141)]\n",
      "[(802, 178), (767, 139), (708, 140), (731, 181), (657, 178), (641, 142), (577, 141), (583, 176)]\n",
      "[(879, 280)]\n",
      "[(879, 280), (827, 215)]\n",
      "[(879, 280), (827, 215), (752, 213)]\n",
      "[(879, 280), (827, 215), (752, 213), (784, 278)]\n",
      "[(879, 280), (827, 215), (752, 213), (784, 278), (695, 278)]\n",
      "[(879, 280), (827, 215), (752, 213), (784, 278), (695, 278), (672, 212)]\n",
      "[(879, 280), (827, 215), (752, 213), (784, 278), (695, 278), (672, 212), (591, 214)]\n",
      "[(879, 280), (827, 215), (752, 213), (784, 278), (695, 278), (672, 212), (591, 214), (607, 282)]\n",
      "[(879, 280), (827, 215), (752, 213), (784, 278), (695, 278), (672, 212), (591, 214), (607, 282), (514, 281)]\n",
      "[(879, 280), (827, 215), (752, 213), (784, 278), (695, 278), (672, 212), (591, 214), (607, 282), (514, 281), (512, 217)]\n"
     ]
    }
   ],
   "source": [
    "#Mulai plot slot\n",
    "image = original_clone.copy()\n",
    "for row in range(sum_rows):\n",
    "    point = []\n",
    "    keyPoint = []\n",
    "    click = -1\n",
    "    tAkhir = 0\n",
    "    tAwal = 0\n",
    "\n",
    "    cv2.namedWindow('image')\n",
    "    cv2.setMouseCallback('image',coordinate)\n",
    "\n",
    "    while True:\n",
    "        cv2.imshow('image',image)\n",
    "        if cv2.waitKey(1) & 0xFF == ord('c'):\n",
    "            break\n",
    "    cv2.destroyAllWindows()\n",
    "    \n",
    "    ROI_slot.append([])\n",
    "    for i in range(sum_slots[row]):\n",
    "        ROI_slot[row].append([])\n",
    "        ROI_slot[row][i].append([keyPoint[0+i+i][0],keyPoint[0+i+i][1]])\n",
    "        ROI_slot[row][i].append([keyPoint[1+i+i][0],keyPoint[1+i+i][1]])\n",
    "        ROI_slot[row][i].append([keyPoint[2+i+i][0],keyPoint[2+i+i][1]])\n",
    "        ROI_slot[row][i].append([keyPoint[3+i+i][0],keyPoint[3+i+i][1]])"
   ]
  },
  {
   "cell_type": "code",
   "execution_count": 42,
   "metadata": {},
   "outputs": [
    {
     "data": {
      "text/plain": [
       "list"
      ]
     },
     "execution_count": 42,
     "metadata": {},
     "output_type": "execute_result"
    }
   ],
   "source": [
    "type(ROI_slot)"
   ]
  },
  {
   "cell_type": "code",
   "execution_count": 43,
   "metadata": {},
   "outputs": [
    {
     "name": "stdout",
     "output_type": "stream",
     "text": [
      "[list([[[734, 98], [714, 72], [663, 70], [678, 98]], [[663, 70], [678, 98], [624, 98], [610, 68]]])\n",
      " list([[[802, 178], [767, 139], [708, 140], [731, 181]], [[708, 140], [731, 181], [657, 178], [641, 142]], [[657, 178], [641, 142], [577, 141], [583, 176]]])\n",
      " list([[[879, 280], [827, 215], [752, 213], [784, 278]], [[752, 213], [784, 278], [695, 278], [672, 212]], [[695, 278], [672, 212], [591, 214], [607, 282]], [[591, 214], [607, 282], [514, 281], [512, 217]]])]\n"
     ]
    },
    {
     "name": "stderr",
     "output_type": "stream",
     "text": [
      "<ipython-input-43-c03a040142ce>:3: VisibleDeprecationWarning: Creating an ndarray from ragged nested sequences (which is a list-or-tuple of lists-or-tuples-or ndarrays with different lengths or shapes) is deprecated. If you meant to do this, you must specify 'dtype=object' when creating the ndarray\n",
      "  arr = np.array(ROI_slot)\n"
     ]
    }
   ],
   "source": [
    "import numpy as np\n",
    "\n",
    "arr = np.array(ROI_slot)\n",
    "print(arr)"
   ]
  },
  {
   "cell_type": "code",
   "execution_count": 44,
   "metadata": {},
   "outputs": [
    {
     "name": "stdout",
     "output_type": "stream",
     "text": [
      "(3,)\n"
     ]
    }
   ],
   "source": [
    "print(arr.shape)"
   ]
  },
  {
   "cell_type": "code",
   "execution_count": 46,
   "metadata": {},
   "outputs": [
    {
     "data": {
      "text/plain": [
       "list"
      ]
     },
     "execution_count": 46,
     "metadata": {},
     "output_type": "execute_result"
    }
   ],
   "source": [
    "type(arr[0][0][0])"
   ]
  },
  {
   "cell_type": "code",
   "execution_count": 45,
   "metadata": {},
   "outputs": [],
   "source": [
    "#Export ke npy\n",
    "from numpy import save\n",
    "\n",
    "save(\"data/CNR/coordinate/cam8coba.npy\",arr)"
   ]
  },
  {
   "cell_type": "code",
   "execution_count": null,
   "metadata": {},
   "outputs": [],
   "source": []
  }
 ],
 "metadata": {
  "kernelspec": {
   "display_name": "Python 3",
   "language": "python",
   "name": "python3"
  },
  "language_info": {
   "codemirror_mode": {
    "name": "ipython",
    "version": 3
   },
   "file_extension": ".py",
   "mimetype": "text/x-python",
   "name": "python",
   "nbconvert_exporter": "python",
   "pygments_lexer": "ipython3",
   "version": "3.8.5"
  }
 },
 "nbformat": 4,
 "nbformat_minor": 4
}
