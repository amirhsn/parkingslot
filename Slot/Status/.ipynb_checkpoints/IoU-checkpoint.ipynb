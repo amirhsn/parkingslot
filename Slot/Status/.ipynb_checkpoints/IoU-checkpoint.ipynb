{
 "cells": [
  {
   "cell_type": "code",
   "execution_count": 1,
   "metadata": {},
   "outputs": [
    {
     "data": {
      "text/plain": [
       "'4.5.1'"
      ]
     },
     "execution_count": 1,
     "metadata": {},
     "output_type": "execute_result"
    }
   ],
   "source": [
    "import cv2\n",
    "cv2.__version__"
   ]
  },
  {
   "cell_type": "code",
   "execution_count": 3,
   "metadata": {},
   "outputs": [
    {
     "data": {
      "text/plain": [
       "'C:\\\\Users\\\\Changcut\\\\Desktop\\\\ParkingSlot\\\\Slot\\\\Status'"
      ]
     },
     "execution_count": 3,
     "metadata": {},
     "output_type": "execute_result"
    }
   ],
   "source": [
    "import os\n",
    "os.getcwd()"
   ]
  },
  {
   "cell_type": "code",
   "execution_count": 2,
   "metadata": {},
   "outputs": [
    {
     "ename": "AttributeError",
     "evalue": "'NoneType' object has no attribute 'shape'",
     "output_type": "error",
     "traceback": [
      "\u001b[1;31m---------------------------------------------------------------------------\u001b[0m",
      "\u001b[1;31mAttributeError\u001b[0m                            Traceback (most recent call last)",
      "\u001b[1;32m<ipython-input-2-f80554be2aa0>\u001b[0m in \u001b[0;36m<module>\u001b[1;34m\u001b[0m\n\u001b[0;32m     23\u001b[0m \u001b[0mimage\u001b[0m \u001b[1;33m=\u001b[0m \u001b[0mcv2\u001b[0m\u001b[1;33m.\u001b[0m\u001b[0mimread\u001b[0m\u001b[1;33m(\u001b[0m\u001b[1;34m\"data/CNR/samples/cam8.jpg\"\u001b[0m\u001b[1;33m)\u001b[0m\u001b[1;33m\u001b[0m\u001b[1;33m\u001b[0m\u001b[0m\n\u001b[0;32m     24\u001b[0m \u001b[1;31m#img = cv2.resize(imges, None, fx=1, fy=1)\u001b[0m\u001b[1;33m\u001b[0m\u001b[1;33m\u001b[0m\u001b[1;33m\u001b[0m\u001b[0m\n\u001b[1;32m---> 25\u001b[1;33m \u001b[0mheight\u001b[0m\u001b[1;33m,\u001b[0m \u001b[0mwidth\u001b[0m\u001b[1;33m,\u001b[0m \u001b[0mchannels\u001b[0m \u001b[1;33m=\u001b[0m \u001b[0mimage\u001b[0m\u001b[1;33m.\u001b[0m\u001b[0mshape\u001b[0m\u001b[1;33m\u001b[0m\u001b[1;33m\u001b[0m\u001b[0m\n\u001b[0m\u001b[0;32m     26\u001b[0m \u001b[1;33m\u001b[0m\u001b[0m\n\u001b[0;32m     27\u001b[0m \u001b[1;31m# Detecting objects\u001b[0m\u001b[1;33m\u001b[0m\u001b[1;33m\u001b[0m\u001b[1;33m\u001b[0m\u001b[0m\n",
      "\u001b[1;31mAttributeError\u001b[0m: 'NoneType' object has no attribute 'shape'"
     ]
    }
   ],
   "source": [
    "#program deteksi objek\n",
    "\n",
    "import matplotlib.pyplot as plt\n",
    "import cv2\n",
    "import numpy as np\n",
    "\n",
    "box=[]\n",
    "\n",
    "# Load Yolo\n",
    "net = cv2.dnn.readNet(\"yolov4-obj_best.weights\",\"yolov4-obj.cfg\")\n",
    "#net = cv2.dnn.readNet(\"20_yolov3.weights\",\"20_yolov3.cfg\")\n",
    "classes = []\n",
    "with open(\"obj.names\", \"r\") as f:\n",
    "    classes = [line.strip() for line in f.readlines()]\n",
    "layer_names = net.getLayerNames()\n",
    "output_layers = [layer_names[i[0] - 1] for i in net.getUnconnectedOutLayers()]\n",
    "\n",
    "color_blue = (255,0,0)\n",
    "color_red = (0,0,255)\n",
    "#colors = np.random.uniform(0, 255, size=(len(classes), 3))\n",
    "\n",
    "# Loading image\n",
    "image = cv2.imread(\"data/CNR/samples/cam8.jpg\") \n",
    "#img = cv2.resize(imges, None, fx=1, fy=1)\n",
    "height, width, channels = image.shape\n",
    "\n",
    "# Detecting objects\n",
    "#blob = cv2.dnn.blobFromImage(img, 0.00392, (416, 416), (0, 0, 0), True, crop=False)\n",
    "blob = cv2.dnn.blobFromImage(image, 0.00392, (608, 608), (0, 0, 0), True, crop=False)\n",
    "net.setInput(blob)\n",
    "outs = net.forward(output_layers)\n",
    "\n",
    "# Showing informations on the screen\n",
    "class_ids = []\n",
    "confidences = []\n",
    "boxes = []\n",
    "for out in outs:\n",
    "    for detection in out:\n",
    "        scores = detection[5:]\n",
    "        class_id = np.argmax(scores)\n",
    "        confidence = scores[class_id]\n",
    "        if confidence > 0.45:\n",
    "            #if class_id == 2:\n",
    "                # Object detected\n",
    "                center_x = int(detection[0] * width)\n",
    "                center_y = int(detection[1] * height)\n",
    "                w = int(detection[2] * width)\n",
    "                h = int(detection[3] * height)\n",
    "\n",
    "                # Rectangle coordinates\n",
    "                x = int(center_x - w / 2)\n",
    "                y = int(center_y - h / 2)\n",
    "\n",
    "                boxes.append([x, y, w, h])\n",
    "                confidences.append(float(confidence))\n",
    "                class_ids.append(class_id)\n",
    "\n",
    "indexes = cv2.dnn.NMSBoxes(boxes, confidences, 0.45, 0.4)\n",
    "\n",
    "#print(indexes)\n",
    "font = cv2.FONT_HERSHEY_PLAIN\n",
    "for i in range(len(boxes)):\n",
    "    if i in indexes:\n",
    "        x, y, w, h = boxes[i]\n",
    "        \n",
    "        box.append(boxes[i])\n",
    "        #print(boxes[i])\n",
    "        label = str(classes[class_ids[i]])\n",
    "        #color = colors[i]\n",
    "        cv2.rectangle(image, (x, y), (x + w, y + h), color_blue, 2)\n",
    "        cv2.putText(image, label, (x, y + 30), font, 2, color_blue, 2)\n",
    "        cv2.putText(image, str(\"{:.2f}\".format(confidences[i])), (x, y + 50), font, 2, color_red, 2)\n",
    "        \n",
    "cv2.imshow(\"output1\",image)\n",
    "cv2.waitKey(0)\n",
    "cv2.destroyAllWindows()\n",
    "#cv2.imwrite(\"output1.jpg\", image)\n"
   ]
  },
  {
   "cell_type": "code",
   "execution_count": 205,
   "metadata": {},
   "outputs": [],
   "source": [
    "#Load koodinat npy\n",
    "ROI_slot = np.load('data/CNR/coordinate/cam8.npy',allow_pickle=True)"
   ]
  },
  {
   "cell_type": "code",
   "execution_count": 206,
   "metadata": {},
   "outputs": [],
   "source": [
    "#inisialisasi array\n",
    "diagonal_slot = []                      \n",
    "centroid_slot_x = []\n",
    "centroid_slot_y = []\n",
    "for i in range (len(ROI_slot)):            \n",
    "    new = []\n",
    "    new1 = []\n",
    "    new2 = []\n",
    "    new3 = [0,0]\n",
    "    for j in (ROI_slot[i]):\n",
    "        new.append(0)\n",
    "        new1.append(0)\n",
    "        new2.append(new3)\n",
    "    diagonal_slot.append(new1)    \n",
    "    centroid_slot_x.append(new)\n",
    "    centroid_slot_y.append(new1)\n",
    "\n",
    "\n",
    "area_slot = []                      \n",
    "for i in range (len(ROI_slot)):            \n",
    "    new = []\n",
    "    for j in (ROI_slot[i]):\n",
    "        new.append(0)\n",
    "    area_slot.append(new)\n",
    "\n",
    "    \n",
    "for row in range(len(ROI_slot)):\n",
    "    for slots in range(len(ROI_slot[row])):\n",
    "        x1 = ROI_slot[row][slots][0][0]\n",
    "        y1 = ROI_slot[row][slots][0][1]\n",
    "        x2 = ROI_slot[row][slots][1][0]\n",
    "        y2 = ROI_slot[row][slots][1][1]\n",
    "        x3 = ROI_slot[row][slots][2][0]\n",
    "        y3 = ROI_slot[row][slots][2][1]\n",
    "        x4 = ROI_slot[row][slots][3][0]\n",
    "        y4 = ROI_slot[row][slots][3][1]\n",
    "        \n",
    "        centroid_slot_x[row][slots] = (x3+x1)/2\n",
    "        centroid_slot_y[row][slots] = (y3+y1)/2\n",
    "        \n",
    "        \n",
    "        area_slot[row][slots] = (abs(((x1*y2-y1*x2) + (x2*y3-y2*x3) + (x3*y4-y3*x4) + (x4*y1-y4*x1))/2))"
   ]
  },
  {
   "cell_type": "code",
   "execution_count": 207,
   "metadata": {},
   "outputs": [],
   "source": [
    "import numpy as np\n",
    "\n",
    "arr = np.array(area_slot)\n",
    "#print(arr)"
   ]
  },
  {
   "cell_type": "code",
   "execution_count": 208,
   "metadata": {},
   "outputs": [],
   "source": [
    "#Export ke npy\n",
    "from numpy import save\n",
    "\n",
    "save(\"data/CNR/area8.npy\",arr)"
   ]
  },
  {
   "cell_type": "code",
   "execution_count": 209,
   "metadata": {},
   "outputs": [],
   "source": [
    "boxess = []\n",
    "for i in range(len(indexes)):\n",
    "    boxess.append([])\n",
    "    boxess[i].append(box[i][0])\n",
    "    boxess[i].append(box[i][1])\n",
    "    boxess[i].append(box[i][2]+box[i][0])\n",
    "    boxess[i].append(box[i][3]+box[i][1])"
   ]
  },
  {
   "cell_type": "code",
   "execution_count": 210,
   "metadata": {},
   "outputs": [],
   "source": [
    "ROI_car = []\n",
    "for i in range(len(indexes)):\n",
    "    ROI_car.append([(boxess[i][0],boxess[i][3]), (boxess[i][0],boxess[i][1]), (boxess[i][2],boxess[i][1]), (boxess[i][2],boxess[i][3])])    \n"
   ]
  },
  {
   "cell_type": "code",
   "execution_count": 211,
   "metadata": {},
   "outputs": [],
   "source": [
    "#Load images\n",
    "image = cv2.imread(\"data/CNR/samples/cam8.jpg\")\n",
    "image = cv2.resize(image, (image.shape[1],image.shape[0]), interpolation = cv2.INTER_AREA)\n",
    "plottedImage = image.copy()"
   ]
  },
  {
   "cell_type": "code",
   "execution_count": 212,
   "metadata": {},
   "outputs": [
    {
     "name": "stdout",
     "output_type": "stream",
     "text": [
      "[[89.2290446407889, 78.32546908728621, 2.8462623750538167, 92.659922093252, 88.7004609473395, 90.4716518326442, 86.80191816508153, 99.11362850224835, 78.26070226070225, 69.7031539888683, 71.81892924505487, 5.213764337851937, 88.99203199798437, 84.35101103871995, 84.4379359351004, 77.91289475435114, 91.69961530872995, 86.93560690644291], [91.28555164106403, 84.16544622277662, 79.2247534852091, 89.17871158908093, 92.51852085273178, 85.0784640018576, 81.22687838682785, 79.94712007809957, 85.76030181216362, 87.54585296650961, 85.7067452404208, 84.89151660946963, 73.36647727272727, 77.19757760135819], [94.7516792788963, 94.7995334003685, 95.53288135311055, 91.53165171403646, 93.67344154719133, 93.7094555260568, 100.0, 96.88715375708816, 95.48434259088664, 83.81003806566837, 90.40911307578435, 95.37215475542389], [81.35163566045306, 79.93017267950312, 77.79924413503291, 87.67477634504594, 82.42922411152571, 83.8046336926668, 81.11338074535088, 83.48504154557538], [52.3984851672627, 42.94281561039901, 0.0]]\n"
     ]
    }
   ],
   "source": [
    "#Menghitung RoI\n",
    "\n",
    "from shapely.geometry import Polygon\n",
    "\n",
    "IoU = []\n",
    "Status = []\n",
    "for i in range (len(ROI_slot)):            \n",
    "    new = []\n",
    "    new1 = []\n",
    "    for j in (ROI_slot[i]):\n",
    "        new.append(0)\n",
    "        new1.append(0)\n",
    "    IoU.append(new)\n",
    "    Status.append(new1)\n",
    "\n",
    "intersect=[]\n",
    "count=0\n",
    "\n",
    "for row in range(len(ROI_slot)):\n",
    "    for slots in range(len(ROI_slot[row])):\n",
    "        intersect=[]\n",
    "        for car in range(len(ROI_car)):\n",
    "            p = Polygon(ROI_slot[row][slots])\n",
    "            q = Polygon(ROI_car[car])\n",
    "            intersect.append(q.intersection(p).area)\n",
    "        \n",
    "        max_intrsct=max(intersect)   \n",
    "        IoU[row][slots] = ((max_intrsct/area_slot[row][slots])*100)\n",
    "        if IoU[row][slots] > 50:\n",
    "            Status[row][slots] = 'OCCUPIED'\n",
    "        else:\n",
    "            Status[row][slots] = 'VACANT'\n",
    "        #draw ROI_slot\n",
    "        mod = cv2.polylines(plottedImage, np.int32([ROI_slot[row][slots]]), True, (255,0,0), thickness=2)\n",
    "        #draw Status_slot\n",
    "        mod = cv2.putText(plottedImage, Status[row][slots], (int(centroid_slot_x[row][slots])-10, int(centroid_slot_y[row][slots])),\n",
    "                          cv2.FONT_HERSHEY_SIMPLEX, 0.3, (0, 0, 255), 1, cv2.LINE_AA)\n",
    "\n",
    "print(IoU)"
   ]
  },
  {
   "cell_type": "code",
   "execution_count": 213,
   "metadata": {},
   "outputs": [],
   "source": [
    "for car in range(len(ROI_car)):\n",
    "    mod = cv2.polylines(plottedImage, np.int32([ROI_car[car]]), True, (0,255,0), thickness=2)"
   ]
  },
  {
   "cell_type": "code",
   "execution_count": 214,
   "metadata": {},
   "outputs": [],
   "source": [
    "cv2.imshow('Shapes', mod)\n",
    "cv2.waitKey(0)\n",
    "cv2.destroyAllWindows()"
   ]
  },
  {
   "cell_type": "code",
   "execution_count": 134,
   "metadata": {},
   "outputs": [
    {
     "data": {
      "text/plain": [
       "[[76.5,\n",
       "  77.0,\n",
       "  78.0,\n",
       "  78.0,\n",
       "  78.0,\n",
       "  77.5,\n",
       "  75.5,\n",
       "  72.5,\n",
       "  75.0,\n",
       "  79.0,\n",
       "  79.5,\n",
       "  77.5,\n",
       "  78.5,\n",
       "  79.0,\n",
       "  78.5,\n",
       "  78.5,\n",
       "  77.5,\n",
       "  76.0],\n",
       " [156.5,\n",
       "  155.0,\n",
       "  156.0,\n",
       "  154.5,\n",
       "  156.0,\n",
       "  156.5,\n",
       "  158.0,\n",
       "  158.0,\n",
       "  158.0,\n",
       "  158.0,\n",
       "  156.5,\n",
       "  155.5,\n",
       "  154.5,\n",
       "  154.0],\n",
       " [229.5,\n",
       "  228.0,\n",
       "  233.0,\n",
       "  234.0,\n",
       "  234.5,\n",
       "  236.0,\n",
       "  236.0,\n",
       "  236.0,\n",
       "  234.5,\n",
       "  236.0,\n",
       "  235.0,\n",
       "  234.0],\n",
       " [474.5, 474.5, 476.0, 474.0, 472.5, 473.0, 472.5, 471.0],\n",
       " [714.0, 713.5, 717.0]]"
      ]
     },
     "execution_count": 134,
     "metadata": {},
     "output_type": "execute_result"
    }
   ],
   "source": [
    "centroid_slot_x"
   ]
  },
  {
   "cell_type": "code",
   "execution_count": null,
   "metadata": {},
   "outputs": [],
   "source": []
  }
 ],
 "metadata": {
  "kernelspec": {
   "display_name": "Python 3",
   "language": "python",
   "name": "python3"
  },
  "language_info": {
   "codemirror_mode": {
    "name": "ipython",
    "version": 3
   },
   "file_extension": ".py",
   "mimetype": "text/x-python",
   "name": "python",
   "nbconvert_exporter": "python",
   "pygments_lexer": "ipython3",
   "version": "3.8.5"
  }
 },
 "nbformat": 4,
 "nbformat_minor": 4
}
