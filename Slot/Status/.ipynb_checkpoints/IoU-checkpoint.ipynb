{
 "cells": [
  {
   "cell_type": "code",
   "execution_count": 10,
   "metadata": {},
   "outputs": [
    {
     "data": {
      "text/plain": [
       "'4.5.1'"
      ]
     },
     "execution_count": 10,
     "metadata": {},
     "output_type": "execute_result"
    }
   ],
   "source": [
    "import cv2\n",
    "cv2.__version__"
   ]
  },
  {
   "cell_type": "code",
   "execution_count": 11,
   "metadata": {},
   "outputs": [],
   "source": [
    "#program deteksi objek\n",
    "\n",
    "import matplotlib.pyplot as plt\n",
    "import cv2\n",
    "import numpy as np\n",
    "\n",
    "box=[]\n",
    "\n",
    "# Load Yolo\n",
    "net = cv2.dnn.readNet(\"yolov4-obj_best.weights\",\"yolov4-obj.cfg\")\n",
    "#net = cv2.dnn.readNet(\"20_yolov3.weights\",\"20_yolov3.cfg\")\n",
    "classes = []\n",
    "with open(\"obj.names\", \"r\") as f:\n",
    "    classes = [line.strip() for line in f.readlines()]\n",
    "layer_names = net.getLayerNames()\n",
    "output_layers = [layer_names[i[0] - 1] for i in net.getUnconnectedOutLayers()]\n",
    "\n",
    "color_blue = (255,0,0)\n",
    "color_red = (0,0,255)\n",
    "#colors = np.random.uniform(0, 255, size=(len(classes), 3))\n",
    "\n",
    "# Loading image\n",
    "image = cv2.imread(\"sampelGambar/SUNNY/camera8.jpg\") \n",
    "#img = cv2.resize(imges, None, fx=1, fy=1)\n",
    "height, width, channels = image.shape\n",
    "\n",
    "# Detecting objects\n",
    "#blob = cv2.dnn.blobFromImage(img, 0.00392, (416, 416), (0, 0, 0), True, crop=False)\n",
    "blob = cv2.dnn.blobFromImage(image, 0.00392, (608, 608), (0, 0, 0), True, crop=False)\n",
    "net.setInput(blob)\n",
    "outs = net.forward(output_layers)\n",
    "\n",
    "# Showing informations on the screen\n",
    "class_ids = []\n",
    "confidences = []\n",
    "boxes = []\n",
    "for out in outs:\n",
    "    for detection in out:\n",
    "        scores = detection[5:]\n",
    "        class_id = np.argmax(scores)\n",
    "        confidence = scores[class_id]\n",
    "        if confidence > 0.45:\n",
    "            if class_id == 1:\n",
    "                # Object detected\n",
    "                center_x = int(detection[0] * width)\n",
    "                center_y = int(detection[1] * height)\n",
    "                w = int(detection[2] * width)\n",
    "                h = int(detection[3] * height)\n",
    "\n",
    "                # Rectangle coordinates\n",
    "                x = int(center_x - w / 2)\n",
    "                y = int(center_y - h / 2)\n",
    "\n",
    "                boxes.append([x, y, w, h])\n",
    "                confidences.append(float(confidence))\n",
    "                class_ids.append(class_id)\n",
    "\n",
    "indexes = cv2.dnn.NMSBoxes(boxes, confidences, 0.45, 0.4)\n",
    "\n",
    "#print(indexes)\n",
    "font = cv2.FONT_HERSHEY_PLAIN\n",
    "for i in range(len(boxes)):\n",
    "    if i in indexes:\n",
    "        x, y, w, h = boxes[i]\n",
    "        \n",
    "        box.append(boxes[i])\n",
    "        #print(boxes[i])\n",
    "        label = str(classes[class_ids[i]])\n",
    "        #color = colors[i]\n",
    "        cv2.rectangle(image, (x, y), (x + w, y + h), color_blue, 2)\n",
    "        cv2.putText(image, label, (x, y + 30), font, 2, color_blue, 2)\n",
    "        cv2.putText(image, str(\"{:.2f}\".format(confidences[i])), (x, y + 50), font, 2, color_red, 2)\n",
    "        \n",
    "cv2.imshow(\"output1\",image)\n",
    "cv2.waitKey(0)\n",
    "cv2.destroyAllWindows()\n",
    "#cv2.imwrite(\"output1.jpg\", image)\n"
   ]
  },
  {
   "cell_type": "code",
   "execution_count": 12,
   "metadata": {},
   "outputs": [],
   "source": [
    "#Load koodinat npy\n",
    "ROI_slot = np.load('coordinate/camera8.npy',allow_pickle=True)"
   ]
  },
  {
   "cell_type": "code",
   "execution_count": 13,
   "metadata": {},
   "outputs": [],
   "source": [
    "#inisialisasi array\n",
    "diagonal_slot = []                      \n",
    "centroid_slot_x = []\n",
    "centroid_slot_y = []\n",
    "for i in range (len(ROI_slot)):            \n",
    "    new = []\n",
    "    new1 = []\n",
    "    new2 = []\n",
    "    new3 = [0,0]\n",
    "    for j in (ROI_slot[i]):\n",
    "        new.append(0)\n",
    "        new1.append(0)\n",
    "        new2.append(new3)\n",
    "    diagonal_slot.append(new1)    \n",
    "    centroid_slot_x.append(new)\n",
    "    centroid_slot_y.append(new1)\n",
    "\n",
    "\n",
    "area_slot = []                      \n",
    "for i in range (len(ROI_slot)):            \n",
    "    new = []\n",
    "    for j in (ROI_slot[i]):\n",
    "        new.append(0)\n",
    "    area_slot.append(new)\n",
    "\n",
    "    \n",
    "for row in range(len(ROI_slot)):\n",
    "    for slots in range(len(ROI_slot[row])):\n",
    "        x1 = ROI_slot[row][slots][0][0]\n",
    "        y1 = ROI_slot[row][slots][0][1]\n",
    "        x2 = ROI_slot[row][slots][1][0]\n",
    "        y2 = ROI_slot[row][slots][1][1]\n",
    "        x3 = ROI_slot[row][slots][2][0]\n",
    "        y3 = ROI_slot[row][slots][2][1]\n",
    "        x4 = ROI_slot[row][slots][3][0]\n",
    "        y4 = ROI_slot[row][slots][3][1]\n",
    "        \n",
    "        centroid_slot_x[row][slots] = (x3+x1)/2\n",
    "        centroid_slot_y[row][slots] = (y3+y1)/2\n",
    "        \n",
    "        \n",
    "        area_slot[row][slots] = (abs(((x1*y2-y1*x2) + (x2*y3-y2*x3) + (x3*y4-y3*x4) + (x4*y1-y4*x1))/2))"
   ]
  },
  {
   "cell_type": "code",
   "execution_count": 14,
   "metadata": {},
   "outputs": [],
   "source": [
    "#import numpy as np\n",
    "\n",
    "#arr = np.array(area_slot)\n",
    "#print(arr)"
   ]
  },
  {
   "cell_type": "code",
   "execution_count": 15,
   "metadata": {},
   "outputs": [],
   "source": [
    "#Export ke npy\n",
    "#from numpy import save\n",
    "\n",
    "#save(\"areaCNR/area8.npy\",arr)"
   ]
  },
  {
   "cell_type": "code",
   "execution_count": 16,
   "metadata": {},
   "outputs": [],
   "source": [
    "boxess = []\n",
    "for i in range(len(indexes)):\n",
    "    boxess.append([])\n",
    "    boxess[i].append(box[i][0])\n",
    "    boxess[i].append(box[i][1])\n",
    "    boxess[i].append(box[i][2]+box[i][0])\n",
    "    boxess[i].append(box[i][3]+box[i][1])"
   ]
  },
  {
   "cell_type": "code",
   "execution_count": 17,
   "metadata": {},
   "outputs": [],
   "source": [
    "ROI_car = []\n",
    "for i in range(len(indexes)):\n",
    "    ROI_car.append([(boxess[i][0],boxess[i][3]), (boxess[i][0],boxess[i][1]), (boxess[i][2],boxess[i][1]), (boxess[i][2],boxess[i][3])])    \n"
   ]
  },
  {
   "cell_type": "code",
   "execution_count": 18,
   "metadata": {},
   "outputs": [],
   "source": [
    "#Load images\n",
    "image = cv2.imread(\"sampelGambar/SUNNY/camera8.jpg\")\n",
    "image = cv2.resize(image, (image.shape[1],image.shape[0]), interpolation = cv2.INTER_AREA)\n",
    "plottedImage = image.copy()"
   ]
  },
  {
   "cell_type": "code",
   "execution_count": 19,
   "metadata": {},
   "outputs": [
    {
     "name": "stdout",
     "output_type": "stream",
     "text": [
      "[[27.9222481453325, 38.536610165331744, 0.0, 0.0, 0.0, 0.0, 0.0, 0.0, 0.0, 0.0, 0.0, 0.0, 0.0, 0.0, 0.6256994859706625, 77.06109061425275, 8.061631661044002, 0.0], [0.0, 7.3410781815192365, 90.45701915828643, 2.3269818545409104, 0.0, 82.3793029692603, 9.739261507132372, 0.0, 0.0, 0.0, 0.0, 0.0, 0.0, 0.021485446845522057], [0.0, 0.0, 0.0, 5.68638261668982, 83.01384038008727, 77.08509191521291, 86.40678537369125, 77.38855112514804, 79.85489949888506, 74.37045810116352, 88.43136123503922, 82.03300778236428], [84.3707896651552, 92.07412349389328, 89.61775171502138, 98.72616152939602, 96.95055362087852, 85.91428982000203, 86.48169950437095], [0.0, 35.5618285893515, 35.98848929108484]]\n"
     ]
    }
   ],
   "source": [
    "#Menghitung RoI\n",
    "\n",
    "from shapely.geometry import Polygon\n",
    "\n",
    "IoU = []\n",
    "Status = []\n",
    "for i in range (len(ROI_slot)):            \n",
    "    new = []\n",
    "    new1 = []\n",
    "    for j in (ROI_slot[i]):\n",
    "        new.append(0)\n",
    "        new1.append(0)\n",
    "    IoU.append(new)\n",
    "    Status.append(new1)\n",
    "\n",
    "intersect=[]\n",
    "count=0\n",
    "\n",
    "for row in range(len(ROI_slot)):\n",
    "    for slots in range(len(ROI_slot[row])):\n",
    "        intersect=[]\n",
    "        for car in range(len(ROI_car)):\n",
    "            p = Polygon(ROI_slot[row][slots])\n",
    "            q = Polygon(ROI_car[car])\n",
    "            intersect.append(q.intersection(p).area)\n",
    "        \n",
    "        max_intrsct=max(intersect)   \n",
    "        IoU[row][slots] = ((max_intrsct/area_slot[row][slots])*100)\n",
    "        if IoU[row][slots] > 50:\n",
    "            Status[row][slots] = 'OCCUPIED'\n",
    "        else:\n",
    "            Status[row][slots] = 'VACANT'\n",
    "        #draw ROI_slot\n",
    "        mod = cv2.polylines(plottedImage, np.int32([ROI_slot[row][slots]]), True, (255,0,0), thickness=2)\n",
    "        #draw Status_slot\n",
    "        mod = cv2.putText(plottedImage, Status[row][slots], (int(centroid_slot_x[row][slots])-10, int(centroid_slot_y[row][slots])),\n",
    "                          cv2.FONT_HERSHEY_SIMPLEX, 0.3, (0, 0, 255), 1, cv2.LINE_AA)\n",
    "\n",
    "print(IoU)"
   ]
  },
  {
   "cell_type": "code",
   "execution_count": 20,
   "metadata": {},
   "outputs": [],
   "source": [
    "for car in range(len(ROI_car)):\n",
    "    mod = cv2.polylines(plottedImage, np.int32([ROI_car[car]]), True, (0,255,0), thickness=2)"
   ]
  },
  {
   "cell_type": "code",
   "execution_count": 24,
   "metadata": {},
   "outputs": [],
   "source": [
    "cv2.imshow('Shapes', mod)\n",
    "cv2.waitKey(0)\n",
    "cv2.destroyAllWindows()"
   ]
  },
  {
   "cell_type": "code",
   "execution_count": 33,
   "metadata": {},
   "outputs": [
    {
     "ename": "TypeError",
     "evalue": "Expected Ptr<cv::UMat> for argument 'src1'",
     "output_type": "error",
     "traceback": [
      "\u001b[1;31m---------------------------------------------------------------------------\u001b[0m",
      "\u001b[1;31mTypeError\u001b[0m                                 Traceback (most recent call last)",
      "\u001b[1;32m<ipython-input-33-45b0c61b8ca5>\u001b[0m in \u001b[0;36m<module>\u001b[1;34m\u001b[0m\n\u001b[0;32m      5\u001b[0m         \u001b[1;32melse\u001b[0m\u001b[1;33m:\u001b[0m\u001b[1;33m\u001b[0m\u001b[1;33m\u001b[0m\u001b[0m\n\u001b[0;32m      6\u001b[0m             \u001b[1;32mfor\u001b[0m \u001b[0mcar\u001b[0m \u001b[1;32min\u001b[0m \u001b[0mROI_car\u001b[0m\u001b[1;33m:\u001b[0m\u001b[1;33m\u001b[0m\u001b[1;33m\u001b[0m\u001b[0m\n\u001b[1;32m----> 7\u001b[1;33m                 \u001b[0mmod\u001b[0m \u001b[1;33m=\u001b[0m \u001b[0mcv2\u001b[0m\u001b[1;33m.\u001b[0m\u001b[0mbitwise_and\u001b[0m\u001b[1;33m(\u001b[0m\u001b[0mROI_slot\u001b[0m\u001b[1;33m[\u001b[0m\u001b[0mrow\u001b[0m\u001b[1;33m]\u001b[0m\u001b[1;33m[\u001b[0m\u001b[0mslots\u001b[0m\u001b[1;33m]\u001b[0m\u001b[1;33m,\u001b[0m\u001b[0mcar\u001b[0m\u001b[1;33m)\u001b[0m\u001b[1;33m\u001b[0m\u001b[1;33m\u001b[0m\u001b[0m\n\u001b[0m",
      "\u001b[1;31mTypeError\u001b[0m: Expected Ptr<cv::UMat> for argument 'src1'"
     ]
    }
   ],
   "source": [
    "#MASIH ERROR\n",
    "for row in range(len(ROI_slot)):\n",
    "    for slots in range(len(ROI_slot[row])):\n",
    "        if Status[row][slots] == 'VACANT':\n",
    "            continue\n",
    "        else:\n",
    "            for car in ROI_car:\n",
    "                mod = cv2.bitwise_and(ROI_slot[row][slots],car)"
   ]
  },
  {
   "cell_type": "code",
   "execution_count": 37,
   "metadata": {},
   "outputs": [
    {
     "data": {
      "text/plain": [
       "[[662, 68], [676, 95], [625, 101], [614, 65]]"
      ]
     },
     "execution_count": 37,
     "metadata": {},
     "output_type": "execute_result"
    }
   ],
   "source": [
    "#MASIH ERROR\n",
    "ROI_slot[0][6]"
   ]
  },
  {
   "cell_type": "code",
   "execution_count": null,
   "metadata": {},
   "outputs": [],
   "source": [
    "#cv2.imwrite('27April/Hasil_ED/SUNNY/camera1.jpg',mod)"
   ]
  }
 ],
 "metadata": {
  "kernelspec": {
   "display_name": "Python 3",
   "language": "python",
   "name": "python3"
  },
  "language_info": {
   "codemirror_mode": {
    "name": "ipython",
    "version": 3
   },
   "file_extension": ".py",
   "mimetype": "text/x-python",
   "name": "python",
   "nbconvert_exporter": "python",
   "pygments_lexer": "ipython3",
   "version": "3.8.5"
  }
 },
 "nbformat": 4,
 "nbformat_minor": 4
}
