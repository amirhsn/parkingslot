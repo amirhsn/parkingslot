{
 "cells": [
  {
   "cell_type": "code",
   "execution_count": 207,
   "metadata": {},
   "outputs": [
    {
     "data": {
      "text/plain": [
       "'4.5.1'"
      ]
     },
     "execution_count": 207,
     "metadata": {},
     "output_type": "execute_result"
    }
   ],
   "source": [
    "import cv2\n",
    "cv2.__version__"
   ]
  },
  {
   "cell_type": "code",
   "execution_count": 208,
   "metadata": {},
   "outputs": [],
   "source": [
    "#DETEKSI OBJEK DHULU\n",
    "#program deteksi objek\n",
    "\n",
    "import matplotlib.pyplot as plt\n",
    "import cv2\n",
    "import numpy as np\n",
    "import math\n",
    "\n",
    "box=[]\n",
    "\n",
    "# Load Yolo\n",
    "net = cv2.dnn.readNet(\"yolov4-obj_best.weights\",\"yolov4-obj.cfg\")\n",
    "#net = cv2.dnn.readNet(\"20_yolov3.weights\",\"20_yolov3.cfg\")\n",
    "classes = []\n",
    "with open(\"obj.names\", \"r\") as f:\n",
    "    classes = [line.strip() for line in f.readlines()]\n",
    "layer_names = net.getLayerNames()\n",
    "output_layers = [layer_names[i[0] - 1] for i in net.getUnconnectedOutLayers()]\n",
    "\n",
    "color_blue = (255,0,0)\n",
    "color_red = (0,0,255)\n",
    "#colors = np.random.uniform(0, 255, size=(len(classes), 3))\n",
    "\n",
    "# Loading image\n",
    "image = cv2.imread(\"../data/CNR/samples/cam8.jpg\") \n",
    "#img = cv2.resize(imges, None, fx=1, fy=1)\n",
    "height, width, channels = image.shape\n",
    "\n",
    "# Detecting objects\n",
    "#blob = cv2.dnn.blobFromImage(img, 0.00392, (416, 416), (0, 0, 0), True, crop=False)\n",
    "blob = cv2.dnn.blobFromImage(image, 0.00392, (608, 608), (0, 0, 0), True, crop=False)\n",
    "net.setInput(blob)\n",
    "outs = net.forward(output_layers)\n",
    "\n",
    "# Showing informations on the screen\n",
    "class_ids = []\n",
    "confidences = []\n",
    "boxes = []\n",
    "for out in outs:\n",
    "    for detection in out:\n",
    "        scores = detection[5:]\n",
    "        class_id = np.argmax(scores)\n",
    "        confidence = scores[class_id]\n",
    "        if confidence > 0.45:\n",
    "            #if class_id == 2:\n",
    "                # Object detected\n",
    "                center_x = int(detection[0] * width)\n",
    "                center_y = int(detection[1] * height)\n",
    "                w = int(detection[2] * width)\n",
    "                h = int(detection[3] * height)\n",
    "\n",
    "                # Rectangle coordinates\n",
    "                x = int(center_x - w / 2)\n",
    "                y = int(center_y - h / 2)\n",
    "\n",
    "                boxes.append([x, y, w, h])\n",
    "                confidences.append(float(confidence))\n",
    "                class_ids.append(class_id)\n",
    "\n",
    "indexes = cv2.dnn.NMSBoxes(boxes, confidences, 0.45, 0.4)\n",
    "\n",
    "#print(indexes)\n",
    "font = cv2.FONT_HERSHEY_PLAIN\n",
    "for i in range(len(boxes)):\n",
    "    if i in indexes:\n",
    "        x, y, w, h = boxes[i]\n",
    "        \n",
    "        box.append(boxes[i])\n",
    "        #print(boxes[i])\n",
    "        label = str(classes[class_ids[i]])\n",
    "        #color = colors[i]\n",
    "        cv2.rectangle(image, (x, y), (x + w, y + h), color_blue, 2)\n",
    "        cv2.putText(image, label, (x, y + 30), font, 2, color_blue, 2)\n",
    "        cv2.putText(image, str(\"{:.2f}\".format(confidences[i])), (x, y + 50), font, 2, color_red, 2)\n",
    "        \n",
    "cv2.imshow(\"output1\",image)\n",
    "cv2.waitKey(0)\n",
    "cv2.destroyAllWindows()"
   ]
  },
  {
   "cell_type": "code",
   "execution_count": 209,
   "metadata": {},
   "outputs": [],
   "source": [
    "#Load koodinat npy\n",
    "ROI_slot = np.load('../data/CNR/coordinate/cam8.npy',allow_pickle=True)"
   ]
  },
  {
   "cell_type": "code",
   "execution_count": 210,
   "metadata": {},
   "outputs": [],
   "source": [
    "boxess = []\n",
    "for i in range(len(indexes)):\n",
    "    boxess.append([])\n",
    "    boxess[i].append(box[i][0])\n",
    "    boxess[i].append(box[i][1])\n",
    "    boxess[i].append(box[i][2]+box[i][0])\n",
    "    boxess[i].append(box[i][3]+box[i][1])"
   ]
  },
  {
   "cell_type": "code",
   "execution_count": 211,
   "metadata": {},
   "outputs": [
    {
     "data": {
      "text/plain": [
       "[[125, 35, 172, 85],\n",
       " [373, 109, 433, 171],\n",
       " [289, 38, 345, 87],\n",
       " [396, 38, 448, 89]]"
      ]
     },
     "execution_count": 211,
     "metadata": {},
     "output_type": "execute_result"
    }
   ],
   "source": [
    "boxess"
   ]
  },
  {
   "cell_type": "code",
   "execution_count": 212,
   "metadata": {},
   "outputs": [],
   "source": [
    "ROI_car = []\n",
    "for i in range(len(indexes)):\n",
    "    ROI_car.append([(boxess[i][0],boxess[i][3]), (boxess[i][0],boxess[i][1]), (boxess[i][2],boxess[i][1]), (boxess[i][2],boxess[i][3])])    "
   ]
  },
  {
   "cell_type": "code",
   "execution_count": 213,
   "metadata": {},
   "outputs": [],
   "source": [
    "#inisialisasi array\n",
    "diagonal_slot = []                      \n",
    "centroid_slot_x = []\n",
    "centroid_slot_y = []\n",
    "for i in range (len(ROI_slot)):            \n",
    "    new = []\n",
    "    new1 = []\n",
    "    new2 = []\n",
    "    new3 = [0,0]\n",
    "    for j in (ROI_slot[i]):\n",
    "        new.append(0)\n",
    "        new1.append(0)\n",
    "        new2.append(0)\n",
    "    diagonal_slot.append(new)    \n",
    "    centroid_slot_x.append(new1)\n",
    "    centroid_slot_y.append(new2)    \n",
    "    \n",
    "#print(centroid_slot)\n",
    "#print(diagonal_slot)\n",
    "area_slot = []\n",
    "for i in range (len(ROI_slot)):            \n",
    "    new = []\n",
    "    for j in (ROI_slot[i]):\n",
    "        new.append(0)\n",
    "    area_slot.append(new)\n",
    "    \n",
    "for row in range(len(ROI_slot)):\n",
    "    for slots in range(len(ROI_slot[row])):\n",
    "        x1 = ROI_slot[row][slots][0][0]\n",
    "        y1 = ROI_slot[row][slots][0][1]\n",
    "        x2 = ROI_slot[row][slots][1][0]\n",
    "        y2 = ROI_slot[row][slots][1][1]\n",
    "        x3 = ROI_slot[row][slots][2][0]\n",
    "        y3 = ROI_slot[row][slots][2][1]\n",
    "        x4 = ROI_slot[row][slots][3][0]\n",
    "        y4 = ROI_slot[row][slots][3][1]\n",
    "        \n",
    "        #menghitung centroid slot        \n",
    "        centroid_slot_x[row][slots] = (x3+x1)/2\n",
    "        centroid_slot_y[row][slots] = (y3+y1)/2        \n",
    "        \n",
    "        #print((x3+x1)/2)\n",
    "        #menghitung diagonal slot\n",
    "        d1 = math.sqrt(((y3-y1)**2)+((x3-x1)**2))\n",
    "        d2 = math.sqrt(((y4-y2)**2)+((x4-x2)**2))\n",
    "        if d1<d2:\n",
    "            diagonal_slot[row][slots] = d1\n",
    "        else:\n",
    "            diagonal_slot[row][slots] = d2\n",
    "            \n",
    "        area_slot[row][slots] = (abs(((x1*y2-y1*x2) + (x2*y3-y2*x3) + (x3*y4-y3*x4) + (x4*y1-y4*x1))/2))    "
   ]
  },
  {
   "cell_type": "code",
   "execution_count": 214,
   "metadata": {},
   "outputs": [
    {
     "name": "stderr",
     "output_type": "stream",
     "text": [
      "<ipython-input-214-68a3b4d53db3>:3: VisibleDeprecationWarning: Creating an ndarray from ragged nested sequences (which is a list-or-tuple of lists-or-tuples-or ndarrays with different lengths or shapes) is deprecated. If you meant to do this, you must specify 'dtype=object' when creating the ndarray\n",
      "  arr = np.array(area_slot)\n"
     ]
    }
   ],
   "source": [
    "import numpy as np\n",
    "\n",
    "arr = np.array(area_slot)\n",
    "#print(arr)"
   ]
  },
  {
   "cell_type": "code",
   "execution_count": 215,
   "metadata": {},
   "outputs": [],
   "source": [
    "#Export ke npy\n",
    "from numpy import save\n",
    "\n",
    "save(\"areaCNR/area8.npy\",arr)"
   ]
  },
  {
   "cell_type": "code",
   "execution_count": 216,
   "metadata": {},
   "outputs": [
    {
     "name": "stdout",
     "output_type": "stream",
     "text": [
      "[[964.0, 910.0, 857.5, 805.5, 752.5, 694.5, 640.0, 589.0, 537.5, 477.5, 421.0, 366.0, 318.0, 259.5, 205.0, 148.5, 92.5, 42.0], [961.5, 901.5, 833.5, 762.0, 694.0, 617.0, 545.5, 473.0, 401.5, 324.0, 257.0, 183.5, 112.0, 47.5], [960.0, 891.5, 811.0, 724.0, 639.5, 547.0, 465.0, 382.5, 300.5, 205.5, 119.5, 47.0], [947.5, 856.0, 730.5, 593.5, 471.0, 315.5, 188.5, 76.5], [150.5, 480.0, 826.0]]\n"
     ]
    }
   ],
   "source": [
    "print(centroid_slot_x)"
   ]
  },
  {
   "cell_type": "code",
   "execution_count": 217,
   "metadata": {},
   "outputs": [],
   "source": [
    "#Load images\n",
    "image = cv2.imread(\"../data/CNR/samples/cam8.jpg\")\n",
    "image = cv2.resize(image, (image.shape[1],image.shape[0]), interpolation = cv2.INTER_AREA)\n",
    "plottedImage = image.copy()"
   ]
  },
  {
   "cell_type": "code",
   "execution_count": 218,
   "metadata": {},
   "outputs": [
    {
     "name": "stdout",
     "output_type": "stream",
     "text": [
      "[[1396.1224247657105, 1008.3403261352688, 955.4260527679222, 827.0915021905495, 651.5497429162116, 503.3997757657231, 428.0980890592822, 354.5530498649523, 187.8970289840907, 93.36761300249779, 25.786465156206734, 101.34025595740673, 34.139901578923656, 120.48751544998488, 144.83183741013727, 43.30522446256831, 141.71499164335464, 237.85884315764397], [1022.6145799882115, 741.242779213236, 644.5410838580761, 515.7618705028842, 436.20246566908133, 259.42637739546024, 192.97336192218955, 90.74443417043818, 24.040488433999446, 120.71742626203405, 188.90304801537175, 154.037779829102, 180.9865858859907, 229.13179379987918], [780.4785776342882, 619.2454929547304, 465.50745530196946, 388.51044641357726, 277.46735044649523, 171.2270882191707, 131.15760835618912, 109.85417555691122, 158.56936402811053, 196.17677114515666, 230.13940872854494, 263.3714675406771], [438.30476759307624, 343.10179826002314, 279.6200916855852, 224.2304378012147, 174.5293378737442, 200.51252795790222, 245.95208307607686, 285.59287551729676], [213.22794738506096, 157.5359420144469, 218.53750248876852]]\n"
     ]
    }
   ],
   "source": [
    "#Menghitung ED, kemudian IoU bila ED mobil < th\n",
    "from shapely.geometry import Polygon\n",
    "\n",
    "ED = []\n",
    "perc_ED = []\n",
    "temp = []\n",
    "IoU = []\n",
    "Status = []\n",
    "for i in range (len(ROI_slot)):            \n",
    "    new = []\n",
    "    new1 = []\n",
    "    new2 = []\n",
    "    for j in (ROI_slot[i]):\n",
    "        new.append(0)\n",
    "        new1.append(0)\n",
    "        new2.append(0)\n",
    "    ED.append(new)\n",
    "    perc_ED.append(new)\n",
    "    IoU.append(new2)\n",
    "    Status.append(new1)\n",
    "    \n",
    "intersect=[]\n",
    "count=0\n",
    "    \n",
    "for row in range(len(ROI_slot)):\n",
    "    for slots in range(len(ROI_slot[row])):\n",
    "        centroid_slot_xx = centroid_slot_x[row][slots]\n",
    "        centroid_slot_yy = centroid_slot_y[row][slots]\n",
    "        temp = []\n",
    "        intersect=[]\n",
    "        for car in range(len(ROI_car)):\n",
    "            x1 = ROI_car[car][0][0]\n",
    "            y1 = ROI_car[car][0][1]\n",
    "            x3 = ROI_car[car][2][0]\n",
    "            y3 = ROI_car[car][2][1]\n",
    "            \n",
    "            #print(x1)\n",
    "            \n",
    "            centroid_car_x = (x1+x3)/2\n",
    "            centroid_car_y = (y1+y3)/2\n",
    "            temp.append(math.sqrt(((centroid_slot_yy-centroid_car_y)**2)+((centroid_slot_xx-centroid_car_x)**2)))\n",
    "            p = Polygon(ROI_slot[row][slots])\n",
    "            q = Polygon(ROI_car[car])\n",
    "            intersect.append(q.intersection(p).area)\n",
    "        \n",
    "        min_ed=min(temp) \n",
    "        ED[row][slots] = min_ed\n",
    "        perc_ED[row][slots] = (ED[row][slots]/diagonal_slot[row][slots])*100\n",
    "        \n",
    "        max_intrsct=max(intersect)  \n",
    "        IoU[row][slots] = ((max_intrsct/area_slot[row][slots])*100)\n",
    "        \n",
    "        if perc_ED[row][slots] < 50:\n",
    "            if IoU[row][slots] == 0:\n",
    "                Status[row][slots] = 'VACANT'\n",
    "            elif IoU[row][slots] > 0:\n",
    "                Status[row][slots] = 'OCCUPIED'\n",
    "        else:\n",
    "            Status[row][slots] = 'VACANT'\n",
    "        #draw ROI_slot\n",
    "        mod = cv2.polylines(plottedImage, np.int32([ROI_slot[row][slots]]), True, (255,0,0), thickness=2)\n",
    "        #draw Status_slot\n",
    "        mod = cv2.putText(plottedImage, Status[row][slots], (int(centroid_slot_x[row][slots])-10, int(centroid_slot_y[row][slots])),\n",
    "                          cv2.FONT_HERSHEY_SIMPLEX, 0.3, (255, 255, 255), 1, cv2.LINE_AA)\n",
    "\n",
    "print(perc_ED)"
   ]
  },
  {
   "cell_type": "code",
   "execution_count": 219,
   "metadata": {},
   "outputs": [
    {
     "name": "stdout",
     "output_type": "stream",
     "text": [
      "[[0.0, 0.0, 0.0, 0.0, 0.0, 0.0, 0.0, 0.0, 0.0, 0.0, 82.0476858345021, 4.70542231491138, 85.39934492315444, 3.3073400173288796, 0.06415764449790817, 62.875978847048145, 1.139109791021262, 0.0], [0.0, 0.0, 0.0, 0.0, 0.0, 0.0, 0.0, 0.0, 69.3875802782054, 0.0, 0.0, 0.0, 0.0, 0.0], [0.0, 0.0, 0.0, 0.0, 0.0, 0.0, 0.0, 0.0, 0.0, 0.0, 0.0, 0.0], [0.0, 0.0, 0.0, 0.0, 0.0, 0.0, 0.0, 0.0], [0.0, 0.0, 0.0]]\n"
     ]
    }
   ],
   "source": [
    "print(IoU)"
   ]
  },
  {
   "cell_type": "code",
   "execution_count": 220,
   "metadata": {},
   "outputs": [],
   "source": [
    "cv2.imshow('Shapes', mod)\n",
    "cv2.waitKey(0)\n",
    "cv2.destroyAllWindows()"
   ]
  },
  {
   "cell_type": "code",
   "execution_count": null,
   "metadata": {},
   "outputs": [],
   "source": []
  }
 ],
 "metadata": {
  "kernelspec": {
   "display_name": "Python 3",
   "language": "python",
   "name": "python3"
  },
  "language_info": {
   "codemirror_mode": {
    "name": "ipython",
    "version": 3
   },
   "file_extension": ".py",
   "mimetype": "text/x-python",
   "name": "python",
   "nbconvert_exporter": "python",
   "pygments_lexer": "ipython3",
   "version": "3.8.5"
  }
 },
 "nbformat": 4,
 "nbformat_minor": 4
}
