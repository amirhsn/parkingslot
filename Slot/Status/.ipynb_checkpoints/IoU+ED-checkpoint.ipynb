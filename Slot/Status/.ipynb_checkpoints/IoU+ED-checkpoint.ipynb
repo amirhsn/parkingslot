{
 "cells": [
  {
   "cell_type": "code",
   "execution_count": 21,
   "metadata": {},
   "outputs": [
    {
     "data": {
      "text/plain": [
       "'4.5.1'"
      ]
     },
     "execution_count": 21,
     "metadata": {},
     "output_type": "execute_result"
    }
   ],
   "source": [
    "import cv2\n",
    "cv2.__version__"
   ]
  },
  {
   "cell_type": "code",
   "execution_count": 22,
   "metadata": {},
   "outputs": [],
   "source": [
    "#DETEKSI OBJEK DHULU\n",
    "#program deteksi objek\n",
    "\n",
    "import matplotlib.pyplot as plt\n",
    "import cv2\n",
    "import numpy as np\n",
    "import math\n",
    "\n",
    "box=[]\n",
    "\n",
    "# Load Yolo\n",
    "net = cv2.dnn.readNet(\"yolov4-obj_best.weights\",\"yolov4-obj.cfg\")\n",
    "#net = cv2.dnn.readNet(\"20_yolov3.weights\",\"20_yolov3.cfg\")\n",
    "classes = []\n",
    "with open(\"obj.names\", \"r\") as f:\n",
    "    classes = [line.strip() for line in f.readlines()]\n",
    "layer_names = net.getLayerNames()\n",
    "output_layers = [layer_names[i[0] - 1] for i in net.getUnconnectedOutLayers()]\n",
    "\n",
    "color_blue = (255,0,0)\n",
    "color_red = (0,0,255)\n",
    "#colors = np.random.uniform(0, 255, size=(len(classes), 3))\n",
    "\n",
    "# Loading image\n",
    "image = cv2.imread(\"sampelGambar/OVERCAST/camera1.jpg\") \n",
    "#img = cv2.resize(imges, None, fx=1, fy=1)\n",
    "height, width, channels = image.shape\n",
    "\n",
    "# Detecting objects\n",
    "#blob = cv2.dnn.blobFromImage(img, 0.00392, (416, 416), (0, 0, 0), True, crop=False)\n",
    "blob = cv2.dnn.blobFromImage(image, 0.00392, (608, 608), (0, 0, 0), True, crop=False)\n",
    "net.setInput(blob)\n",
    "outs = net.forward(output_layers)\n",
    "\n",
    "# Showing informations on the screen\n",
    "class_ids = []\n",
    "confidences = []\n",
    "boxes = []\n",
    "for out in outs:\n",
    "    for detection in out:\n",
    "        scores = detection[5:]\n",
    "        class_id = np.argmax(scores)\n",
    "        confidence = scores[class_id]\n",
    "        if confidence > 0.45:\n",
    "            if class_id == 1:\n",
    "                # Object detected\n",
    "                center_x = int(detection[0] * width)\n",
    "                center_y = int(detection[1] * height)\n",
    "                w = int(detection[2] * width)\n",
    "                h = int(detection[3] * height)\n",
    "\n",
    "                # Rectangle coordinates\n",
    "                x = int(center_x - w / 2)\n",
    "                y = int(center_y - h / 2)\n",
    "\n",
    "                boxes.append([x, y, w, h])\n",
    "                confidences.append(float(confidence))\n",
    "                class_ids.append(class_id)\n",
    "\n",
    "indexes = cv2.dnn.NMSBoxes(boxes, confidences, 0.45, 0.4)\n",
    "\n",
    "#print(indexes)\n",
    "font = cv2.FONT_HERSHEY_PLAIN\n",
    "for i in range(len(boxes)):\n",
    "    if i in indexes:\n",
    "        x, y, w, h = boxes[i]\n",
    "        \n",
    "        box.append(boxes[i])\n",
    "        #print(boxes[i])\n",
    "        label = str(classes[class_ids[i]])\n",
    "        #color = colors[i]\n",
    "        cv2.rectangle(image, (x, y), (x + w, y + h), color_blue, 2)\n",
    "        cv2.putText(image, label, (x, y + 30), font, 2, color_blue, 2)\n",
    "        cv2.putText(image, str(\"{:.2f}\".format(confidences[i])), (x, y + 50), font, 2, color_red, 2)\n",
    "        \n",
    "cv2.imshow(\"output1\",image)\n",
    "cv2.waitKey(0)\n",
    "cv2.destroyAllWindows()"
   ]
  },
  {
   "cell_type": "code",
   "execution_count": 23,
   "metadata": {},
   "outputs": [],
   "source": [
    "#Load koodinat npy\n",
    "ROI_slot = np.load('coordinate/camera1.npy',allow_pickle=True)"
   ]
  },
  {
   "cell_type": "code",
   "execution_count": 24,
   "metadata": {},
   "outputs": [],
   "source": [
    "boxess = []\n",
    "for i in range(len(indexes)):\n",
    "    boxess.append([])\n",
    "    boxess[i].append(box[i][0])\n",
    "    boxess[i].append(box[i][1])\n",
    "    boxess[i].append(box[i][2]+box[i][0])\n",
    "    boxess[i].append(box[i][3]+box[i][1])"
   ]
  },
  {
   "cell_type": "code",
   "execution_count": 25,
   "metadata": {},
   "outputs": [
    {
     "data": {
      "text/plain": [
       "[[491, 146, 520, 171],\n",
       " [372, 172, 400, 199],\n",
       " [594, 179, 629, 213],\n",
       " [404, 185, 432, 212],\n",
       " [162, 235, 195, 262],\n",
       " [507, 237, 539, 269],\n",
       " [195, 255, 228, 286],\n",
       " [582, 267, 621, 300],\n",
       " [224, 275, 257, 308],\n",
       " [303, 321, 333, 355],\n",
       " [779, 646, 872, 723],\n",
       " [7, 265, 64, 317],\n",
       " [65, 313, 124, 375],\n",
       " [341, 348, 383, 385],\n",
       " [117, 364, 188, 435],\n",
       " [479, 440, 539, 501],\n",
       " [542, 487, 601, 543],\n",
       " [624, 520, 684, 575],\n",
       " [280, 514, 371, 609],\n",
       " [388, 629, 495, 726]]"
      ]
     },
     "execution_count": 25,
     "metadata": {},
     "output_type": "execute_result"
    }
   ],
   "source": [
    "boxess"
   ]
  },
  {
   "cell_type": "code",
   "execution_count": 26,
   "metadata": {},
   "outputs": [],
   "source": [
    "ROI_car = []\n",
    "for i in range(len(indexes)):\n",
    "    ROI_car.append([(boxess[i][0],boxess[i][3]), (boxess[i][0],boxess[i][1]), (boxess[i][2],boxess[i][1]), (boxess[i][2],boxess[i][3])])    "
   ]
  },
  {
   "cell_type": "code",
   "execution_count": 27,
   "metadata": {},
   "outputs": [],
   "source": [
    "#inisialisasi array\n",
    "diagonal_slot = []                      \n",
    "centroid_slot_x = []\n",
    "centroid_slot_y = []\n",
    "for i in range (len(ROI_slot)):            \n",
    "    new = []\n",
    "    new1 = []\n",
    "    new2 = []\n",
    "    new3 = [0,0]\n",
    "    for j in (ROI_slot[i]):\n",
    "        new.append(0)\n",
    "        new1.append(0)\n",
    "        new2.append(0)\n",
    "    diagonal_slot.append(new)    \n",
    "    centroid_slot_x.append(new1)\n",
    "    centroid_slot_y.append(new2)    \n",
    "    \n",
    "#print(centroid_slot)\n",
    "#print(diagonal_slot)\n",
    "area_slot = []\n",
    "for i in range (len(ROI_slot)):            \n",
    "    new = []\n",
    "    for j in (ROI_slot[i]):\n",
    "        new.append(0)\n",
    "    area_slot.append(new)\n",
    "    \n",
    "for row in range(len(ROI_slot)):\n",
    "    for slots in range(len(ROI_slot[row])):\n",
    "        x1 = ROI_slot[row][slots][0][0]\n",
    "        y1 = ROI_slot[row][slots][0][1]\n",
    "        x2 = ROI_slot[row][slots][1][0]\n",
    "        y2 = ROI_slot[row][slots][1][1]\n",
    "        x3 = ROI_slot[row][slots][2][0]\n",
    "        y3 = ROI_slot[row][slots][2][1]\n",
    "        x4 = ROI_slot[row][slots][3][0]\n",
    "        y4 = ROI_slot[row][slots][3][1]\n",
    "        \n",
    "        #menghitung centroid slot        \n",
    "        centroid_slot_x[row][slots] = (x3+x1)/2\n",
    "        centroid_slot_y[row][slots] = (y3+y1)/2        \n",
    "        \n",
    "        #print((x3+x1)/2)\n",
    "        #menghitung diagonal slot\n",
    "        d1 = math.sqrt(((y3-y1)**2)+((x3-x1)**2))\n",
    "        d2 = math.sqrt(((y4-y2)**2)+((x4-x2)**2))\n",
    "        if d1<d2:\n",
    "            diagonal_slot[row][slots] = d1\n",
    "        else:\n",
    "            diagonal_slot[row][slots] = d2\n",
    "            \n",
    "        area_slot[row][slots] = (abs(((x1*y2-y1*x2) + (x2*y3-y2*x3) + (x3*y4-y3*x4) + (x4*y1-y4*x1))/2))    "
   ]
  },
  {
   "cell_type": "code",
   "execution_count": 28,
   "metadata": {},
   "outputs": [
    {
     "name": "stderr",
     "output_type": "stream",
     "text": [
      "<ipython-input-28-68a3b4d53db3>:3: VisibleDeprecationWarning: Creating an ndarray from ragged nested sequences (which is a list-or-tuple of lists-or-tuples-or ndarrays with different lengths or shapes) is deprecated. If you meant to do this, you must specify 'dtype=object' when creating the ndarray\n",
      "  arr = np.array(area_slot)\n"
     ]
    }
   ],
   "source": [
    "import numpy as np\n",
    "\n",
    "arr = np.array(area_slot)\n",
    "#print(arr)"
   ]
  },
  {
   "cell_type": "code",
   "execution_count": 29,
   "metadata": {},
   "outputs": [],
   "source": [
    "#Export ke npy\n",
    "from numpy import save\n",
    "\n",
    "save(\"areaCNR/area1.npy\",arr)"
   ]
  },
  {
   "cell_type": "code",
   "execution_count": 30,
   "metadata": {},
   "outputs": [
    {
     "name": "stdout",
     "output_type": "stream",
     "text": [
      "[[622.0, 571.0, 534.0, 499.5, 473.5, 443.5], [666.5, 616.0, 573.5, 522.5, 482.0, 441.0, 413.0, 383.5, 361.5, 332.0], [846.0, 741.5, 659.0, 585.5, 524.0, 463.5, 416.5, 365.5, 325.5, 288.5, 258.0, 222.0, 187.0], [442.5, 316.0, 226.5, 152.0, 96.5, 42.0]]\n"
     ]
    }
   ],
   "source": [
    "print(centroid_slot_x)"
   ]
  },
  {
   "cell_type": "code",
   "execution_count": 31,
   "metadata": {},
   "outputs": [],
   "source": [
    "#Load images\n",
    "image = cv2.imread(\"sampelGambar/OVERCAST/camera1.jpg\")\n",
    "image = cv2.resize(image, (image.shape[1],image.shape[0]), interpolation = cv2.INTER_AREA)\n",
    "plottedImage = image.copy()"
   ]
  },
  {
   "cell_type": "code",
   "execution_count": 32,
   "metadata": {},
   "outputs": [
    {
     "name": "stdout",
     "output_type": "stream",
     "text": [
      "[[25.422979628184304, 84.21171932988915, 60.679393066875285, 11.297239823409415, 65.28992052857575, 132.92332185169735], [99.01623083918034, 26.107574177634234, 45.225538971793554, 2.4414947304543655, 73.6802983101808, 49.36731029411321, 9.357578070857068, 4.974336870755163, 45.95042227856028, 111.44521867135386], [16.697488083038184, 63.65705409862071, 3.54886720493838, 11.892026685532787, 12.86196007082149, 53.31681014219153, 60.17442773049167, 4.856429311786321, 8.935539205568473, 45.267314691302175, 24.364147821279293, 14.100630225924645, 15.095663528272818], [2.208662209847779, 6.799431056453215, 97.5738828449812, 9.191511963556371, 9.214590773028739, 11.925710401420687]]\n"
     ]
    }
   ],
   "source": [
    "#Menghitung ED, kemudian IoU bila ED mobil < th\n",
    "from shapely.geometry import Polygon\n",
    "\n",
    "carX = 0\n",
    "carY = 0\n",
    "ED = []\n",
    "perc_ED = []\n",
    "temp = []\n",
    "IoU = []\n",
    "Status = []\n",
    "allCentroidCar = []\n",
    "for i in range (len(ROI_slot)):            \n",
    "    new = []\n",
    "    new1 = []\n",
    "    new2 = []\n",
    "    for j in (ROI_slot[i]):\n",
    "        new.append(0)\n",
    "        new1.append(0)\n",
    "        new2.append(0)\n",
    "    ED.append(new)\n",
    "    perc_ED.append(new)\n",
    "    IoU.append(new2)\n",
    "    Status.append(new1)\n",
    "    \n",
    "#gambar titik centroid di mobil\n",
    "for car in range(len(ROI_car)):\n",
    "    x1 = ROI_car[car][0][0]\n",
    "    y1 = ROI_car[car][0][1]\n",
    "    x3 = ROI_car[car][2][0]\n",
    "    y3 = ROI_car[car][2][1]\n",
    "    centroid_car_x = (x1+x3)/2\n",
    "    centroid_car_y = (y1+y3)/2\n",
    "    allCentroidCar.append((int(centroid_car_x),int(centroid_car_y)))\n",
    "    mod = cv2.circle(plottedImage, (int(centroid_car_x),int(centroid_car_y)), 4, (0,0,255), -1)\n",
    "    \n",
    "    \n",
    "intersect=[]\n",
    "count=0\n",
    "    \n",
    "for row in range(len(ROI_slot)):\n",
    "    for slots in range(len(ROI_slot[row])):\n",
    "        centroid_slot_xx = centroid_slot_x[row][slots]\n",
    "        centroid_slot_yy = centroid_slot_y[row][slots]\n",
    "        #titik di slot\n",
    "        mod = cv2.circle(plottedImage, (int(centroid_slot_xx),int(centroid_slot_yy)), 4, (0,0,255), -1)\n",
    "        temp = []\n",
    "        intersect=[]\n",
    "        for car in range(len(ROI_car)):\n",
    "            x1 = ROI_car[car][0][0]\n",
    "            y1 = ROI_car[car][0][1]\n",
    "            x3 = ROI_car[car][2][0]\n",
    "            y3 = ROI_car[car][2][1]\n",
    "            \n",
    "            #print(x1)\n",
    "            \n",
    "            centroid_car_x = (x1+x3)/2\n",
    "            centroid_car_y = (y1+y3)/2\n",
    "            temp.append(math.sqrt(((centroid_slot_yy-centroid_car_y)**2)+((centroid_slot_xx-centroid_car_x)**2)))\n",
    "            p = Polygon(ROI_slot[row][slots])\n",
    "            q = Polygon(ROI_car[car])\n",
    "            intersect.append(q.intersection(p).area)\n",
    "        \n",
    "        min_ed=min(temp) \n",
    "        ED[row][slots] = min_ed\n",
    "        perc_ED[row][slots] = (ED[row][slots]/diagonal_slot[row][slots])*100\n",
    "        \n",
    "        max_intrsct=max(intersect)  \n",
    "        IoU[row][slots] = ((max_intrsct/area_slot[row][slots])*100)\n",
    "        \n",
    "        if perc_ED[row][slots] < 50:\n",
    "            if IoU[row][slots] == 0:\n",
    "                Status[row][slots] = 'VACANT'\n",
    "            elif IoU[row][slots] > 0:\n",
    "                for i in allCentroidCar:\n",
    "                    carX = i[0]\n",
    "                    carY = i[1]\n",
    "                    eucTest = math.sqrt(((centroid_slot_yy-carY)**2)+((centroid_slot_xx-carX)**2))/diagonal_slot[row][slots]*100\n",
    "                    if eucTest<50:\n",
    "                        break\n",
    "                    else:\n",
    "                        continue\n",
    "                mod = cv2.line(plottedImage,(int(centroid_slot_xx),int(centroid_slot_yy)),(carX,carY),(255,255,255),1)\n",
    "                Status[row][slots] = 'OCCUPIED'\n",
    "        else:\n",
    "            Status[row][slots] = 'VACANT'\n",
    "        #draw ROI_slot\n",
    "        mod = cv2.polylines(plottedImage, np.int32([ROI_slot[row][slots]]), True, (255,0,0), thickness=2)\n",
    "        #draw Status_slot\n",
    "        mod = cv2.putText(plottedImage, Status[row][slots], (int(centroid_slot_x[row][slots])-10, int(centroid_slot_y[row][slots])),\n",
    "                          cv2.FONT_HERSHEY_SIMPLEX, 0.3, (255, 255, 255), 1, cv2.LINE_AA)\n",
    "\n",
    "print(perc_ED)"
   ]
  },
  {
   "cell_type": "code",
   "execution_count": 33,
   "metadata": {},
   "outputs": [
    {
     "name": "stdout",
     "output_type": "stream",
     "text": [
      "[[40.71471248670439, 6.109211584875314, 3.512661019940009, 42.01944316826536, 0.16894608344785308, 0.0], [0.0, 26.52927211193613, 12.961796809403884, 30.836833352670457, 0.0, 2.8627253417569856, 40.83352663917822, 46.15196414617522, 3.1306288819875676, 0.0], [40.69442151920052, 0.6146506048971065, 27.39733847477952, 32.5084375, 39.85162629165791, 2.6418390956227813, 0.0, 27.98987460310492, 24.616672257745336, 1.0186370937092764, 31.21344670949217, 32.80515075103978, 30.225088472647897], [52.54790485400787, 64.87226828760834, 0.0, 74.99503996660934, 70.80746069100876, 65.28148289211394]]\n"
     ]
    }
   ],
   "source": [
    "print(IoU)"
   ]
  },
  {
   "cell_type": "code",
   "execution_count": 34,
   "metadata": {},
   "outputs": [],
   "source": [
    "cv2.imshow('Shapes', mod)\n",
    "cv2.waitKey(0)\n",
    "cv2.destroyAllWindows()"
   ]
  },
  {
   "cell_type": "code",
   "execution_count": null,
   "metadata": {},
   "outputs": [],
   "source": [
    "cv2.imwrite('27April/Hasil_Gabungan/OVERCAST/camera1.jpg',mod)"
   ]
  }
 ],
 "metadata": {
  "kernelspec": {
   "display_name": "Python 3",
   "language": "python",
   "name": "python3"
  },
  "language_info": {
   "codemirror_mode": {
    "name": "ipython",
    "version": 3
   },
   "file_extension": ".py",
   "mimetype": "text/x-python",
   "name": "python",
   "nbconvert_exporter": "python",
   "pygments_lexer": "ipython3",
   "version": "3.8.5"
  }
 },
 "nbformat": 4,
 "nbformat_minor": 4
}
