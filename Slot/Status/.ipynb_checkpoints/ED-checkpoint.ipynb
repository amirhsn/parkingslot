{
 "cells": [
  {
   "cell_type": "code",
   "execution_count": 44,
   "metadata": {},
   "outputs": [
    {
     "data": {
      "text/plain": [
       "'4.5.1'"
      ]
     },
     "execution_count": 44,
     "metadata": {},
     "output_type": "execute_result"
    }
   ],
   "source": [
    "import cv2\n",
    "cv2.__version__"
   ]
  },
  {
   "cell_type": "code",
   "execution_count": 45,
   "metadata": {},
   "outputs": [],
   "source": [
    "#program deteksi objek\n",
    "\n",
    "import matplotlib.pyplot as plt\n",
    "import cv2\n",
    "import numpy as np\n",
    "import math\n",
    "\n",
    "box=[]\n",
    "\n",
    "# Load Yolo\n",
    "net = cv2.dnn.readNet(\"yolov4-obj_best.weights\",\"yolov4-obj.cfg\")\n",
    "#net = cv2.dnn.readNet(\"20_yolov3.weights\",\"20_yolov3.cfg\")\n",
    "classes = []\n",
    "with open(\"obj.names\", \"r\") as f:\n",
    "    classes = [line.strip() for line in f.readlines()]\n",
    "layer_names = net.getLayerNames()\n",
    "output_layers = [layer_names[i[0] - 1] for i in net.getUnconnectedOutLayers()]\n",
    "\n",
    "color_blue = (255,0,0)\n",
    "color_red = (0,0,255)\n",
    "#colors = np.random.uniform(0, 255, size=(len(classes), 3))\n",
    "\n",
    "# Loading image\n",
    "image = cv2.imread(\"../data/CNR/samples/cam8.jpg\") \n",
    "#img = cv2.resize(imges, None, fx=1, fy=1)\n",
    "height, width, channels = image.shape\n",
    "\n",
    "# Detecting objects\n",
    "#blob = cv2.dnn.blobFromImage(img, 0.00392, (416, 416), (0, 0, 0), True, crop=False)\n",
    "blob = cv2.dnn.blobFromImage(image, 0.00392, (608, 608), (0, 0, 0), True, crop=False)\n",
    "net.setInput(blob)\n",
    "outs = net.forward(output_layers)\n",
    "\n",
    "# Showing informations on the screen\n",
    "class_ids = []\n",
    "confidences = []\n",
    "boxes = []\n",
    "for out in outs:\n",
    "    for detection in out:\n",
    "        scores = detection[5:]\n",
    "        class_id = np.argmax(scores)\n",
    "        confidence = scores[class_id]\n",
    "        if confidence > 0.45:\n",
    "            #if class_id == 2:\n",
    "                # Object detected\n",
    "                center_x = int(detection[0] * width)\n",
    "                center_y = int(detection[1] * height)\n",
    "                w = int(detection[2] * width)\n",
    "                h = int(detection[3] * height)\n",
    "\n",
    "                # Rectangle coordinates\n",
    "                x = int(center_x - w / 2)\n",
    "                y = int(center_y - h / 2)\n",
    "\n",
    "                boxes.append([x, y, w, h])\n",
    "                confidences.append(float(confidence))\n",
    "                class_ids.append(class_id)\n",
    "\n",
    "indexes = cv2.dnn.NMSBoxes(boxes, confidences, 0.45, 0.4)\n",
    "\n",
    "#print(indexes)\n",
    "font = cv2.FONT_HERSHEY_PLAIN\n",
    "for i in range(len(boxes)):\n",
    "    if i in indexes:\n",
    "        x, y, w, h = boxes[i]\n",
    "        \n",
    "        box.append(boxes[i])\n",
    "        #print(boxes[i])\n",
    "        label = str(classes[class_ids[i]])\n",
    "        #color = colors[i]\n",
    "        cv2.rectangle(image, (x, y), (x + w, y + h), color_blue, 2)\n",
    "        cv2.putText(image, label, (x, y + 30), font, 2, color_blue, 2)\n",
    "        cv2.putText(image, str(\"{:.2f}\".format(confidences[i])), (x, y + 50), font, 2, color_red, 2)\n",
    "        \n",
    "cv2.imshow(\"output1\",image)\n",
    "cv2.waitKey(0)\n",
    "cv2.destroyAllWindows()\n",
    "#cv2.imwrite(\"output1.jpg\", image)\n"
   ]
  },
  {
   "cell_type": "code",
   "execution_count": 46,
   "metadata": {},
   "outputs": [],
   "source": [
    "#Load koodinat npy\n",
    "ROI_slot = np.load('../data/CNR/coordinate/cam8.npy',allow_pickle=True)"
   ]
  },
  {
   "cell_type": "code",
   "execution_count": 47,
   "metadata": {},
   "outputs": [],
   "source": [
    "boxess = []\n",
    "for i in range(len(indexes)):\n",
    "    boxess.append([])\n",
    "    boxess[i].append(box[i][0])\n",
    "    boxess[i].append(box[i][1])\n",
    "    boxess[i].append(box[i][2]+box[i][0])\n",
    "    boxess[i].append(box[i][3]+box[i][1])"
   ]
  },
  {
   "cell_type": "code",
   "execution_count": 48,
   "metadata": {},
   "outputs": [],
   "source": [
    "ROI_car = []\n",
    "for i in range(len(indexes)):\n",
    "    ROI_car.append([(boxess[i][0],boxess[i][3]), (boxess[i][0],boxess[i][1]), (boxess[i][2],boxess[i][1]), (boxess[i][2],boxess[i][3])])    \n"
   ]
  },
  {
   "cell_type": "code",
   "execution_count": 49,
   "metadata": {},
   "outputs": [],
   "source": [
    "#inisialisasi array\n",
    "diagonal_slot = []                      \n",
    "centroid_slot_x = []\n",
    "centroid_slot_y = []\n",
    "for i in range (len(ROI_slot)):            \n",
    "    new = []\n",
    "    new1 = []\n",
    "    new2 = []\n",
    "    new3 = [0,0]\n",
    "    for j in (ROI_slot[i]):\n",
    "        new.append(0)\n",
    "        new1.append(0)\n",
    "        new2.append(0)\n",
    "    diagonal_slot.append(new)    \n",
    "    centroid_slot_x.append(new1)\n",
    "    centroid_slot_y.append(new2)\n",
    "\n",
    "    \n",
    "#print(centroid_slot)\n",
    "#print(diagonal_slot)\n",
    "    \n",
    "for row in range(len(ROI_slot)):\n",
    "    for slots in range(len(ROI_slot[row])):\n",
    "        x1 = ROI_slot[row][slots][0][0]\n",
    "        y1 = ROI_slot[row][slots][0][1]\n",
    "        x2 = ROI_slot[row][slots][1][0]\n",
    "        y2 = ROI_slot[row][slots][1][1]\n",
    "        x3 = ROI_slot[row][slots][2][0]\n",
    "        y3 = ROI_slot[row][slots][2][1]\n",
    "        x4 = ROI_slot[row][slots][3][0]\n",
    "        y4 = ROI_slot[row][slots][3][1]\n",
    "        \n",
    "        #menghitung centroid slot        \n",
    "        centroid_slot_x[row][slots] = (x3+x1)/2\n",
    "        centroid_slot_y[row][slots] = (y3+y1)/2        \n",
    "        \n",
    "        #print((x3+x1)/2)\n",
    "        #menghitung diagonal slot\n",
    "        d1 = math.sqrt(((y3-y1)**2)+((x3-x1)**2))\n",
    "        d2 = math.sqrt(((y4-y2)**2)+((x4-x2)**2))\n",
    "        if d1<d2:\n",
    "            diagonal_slot[row][slots] = d1\n",
    "        else:\n",
    "            diagonal_slot[row][slots] = d2\n",
    "        \n"
   ]
  },
  {
   "cell_type": "code",
   "execution_count": 50,
   "metadata": {},
   "outputs": [
    {
     "data": {
      "text/plain": [
       "array([list([[[999, 91], [971, 60], [929, 62], [949, 92]], [[929, 62], [949, 92], [891, 92], [873, 63]], [[891, 92], [873, 63], [824, 64], [837, 91]], [[824, 64], [837, 91], [787, 92], [770, 64]], [[787, 92], [770, 64], [718, 64], [727, 91]], [[718, 64], [727, 91], [671, 91], [661, 65]], [[671, 91], [661, 65], [609, 60], [616, 89]], [[609, 60], [616, 89], [569, 85], [560, 65]], [[569, 85], [560, 65], [506, 65], [506, 95]], [[506, 65], [506, 95], [449, 93], [451, 67]], [[449, 93], [451, 67], [393, 66], [391, 89]], [[393, 66], [391, 89], [339, 89], [345, 68]], [[339, 89], [345, 68], [297, 68], [281, 90]], [[297, 68], [281, 90], [222, 90], [237, 67]], [[222, 90], [237, 67], [188, 67], [166, 90]], [[188, 67], [166, 90], [109, 90], [130, 67]], [[109, 90], [130, 67], [76, 65], [57, 87]], [[76, 65], [57, 87], [8, 87], [18, 64]]]),\n",
       "       list([[[997, 180], [977, 133], [926, 133], [948, 178]], [[926, 133], [948, 178], [877, 177], [858, 134]], [[877, 177], [858, 134], [790, 135], [807, 175]], [[790, 135], [807, 175], [734, 174], [717, 138]], [[734, 174], [717, 138], [654, 138], [660, 171]], [[654, 138], [660, 171], [580, 175], [575, 138]], [[580, 175], [575, 138], [511, 141], [511, 176]], [[511, 141], [511, 176], [435, 175], [441, 138]], [[435, 175], [441, 138], [368, 141], [354, 175]], [[368, 141], [354, 175], [280, 175], [298, 138]], [[280, 175], [298, 138], [234, 138], [211, 175]], [[234, 138], [211, 175], [133, 173], [157, 137]], [[133, 173], [157, 137], [91, 136], [67, 172]], [[91, 136], [67, 172], [4, 172], [18, 137]]]),\n",
       "       list([[[998, 257], [993, 201], [922, 202], [943, 253]], [[922, 202], [943, 253], [861, 254], [848, 214]], [[861, 254], [848, 214], [761, 212], [768, 255]], [[761, 212], [768, 255], [687, 256], [675, 212]], [[687, 256], [675, 212], [592, 213], [595, 257]], [[592, 213], [595, 257], [502, 259], [502, 213]], [[502, 259], [502, 213], [428, 213], [426, 259]], [[428, 213], [426, 259], [337, 259], [350, 212]], [[337, 259], [350, 212], [264, 210], [251, 261]], [[264, 210], [251, 261], [147, 262], [173, 208]], [[147, 262], [173, 208], [92, 208], [60, 257]], [[92, 208], [60, 257], [2, 260], [3, 206]]]),\n",
       "       list([[[997, 545], [998, 404], [898, 404], [954, 543]], [[898, 404], [954, 543], [814, 545], [764, 404]], [[814, 545], [764, 404], [647, 407], [670, 543]], [[647, 407], [670, 543], [540, 541], [530, 406]], [[540, 541], [530, 406], [402, 404], [378, 544]], [[402, 404], [378, 544], [229, 542], [280, 403]], [[229, 542], [280, 403], [148, 403], [91, 539]], [[148, 403], [91, 539], [5, 539], [46, 400]]]),\n",
       "       list([[[4, 733], [3, 696], [297, 695], [295, 731]], [[297, 695], [295, 731], [663, 732], [661, 700]], [[663, 732], [661, 700], [989, 702], [988, 727]]])],\n",
       "      dtype=object)"
      ]
     },
     "execution_count": 50,
     "metadata": {},
     "output_type": "execute_result"
    }
   ],
   "source": [
    "ROI_slot"
   ]
  },
  {
   "cell_type": "code",
   "execution_count": 51,
   "metadata": {},
   "outputs": [],
   "source": [
    "#Load images\n",
    "image = cv2.imread(\"../data/CNR/samples/cam8.jpg\")\n",
    "image = cv2.resize(image, (image.shape[1],image.shape[0]), interpolation = cv2.INTER_AREA)\n",
    "plottedImage = image.copy()"
   ]
  },
  {
   "cell_type": "code",
   "execution_count": 52,
   "metadata": {},
   "outputs": [
    {
     "name": "stdout",
     "output_type": "stream",
     "text": [
      "[[1396.1224247657105, 1008.3403261352688, 955.4260527679222, 827.0915021905495, 651.5497429162116, 503.3997757657231, 428.0980890592822, 354.5530498649523, 187.8970289840907, 93.36761300249779, 25.786465156206734, 101.34025595740673, 34.139901578923656, 120.48751544998488, 144.83183741013727, 43.30522446256831, 141.71499164335464, 237.85884315764397], [1022.6145799882115, 741.242779213236, 644.5410838580761, 515.7618705028842, 436.20246566908133, 259.42637739546024, 192.97336192218955, 90.74443417043818, 24.040488433999446, 120.71742626203405, 188.90304801537175, 154.037779829102, 180.9865858859907, 229.13179379987918], [780.4785776342882, 619.2454929547304, 465.50745530196946, 388.51044641357726, 277.46735044649523, 171.2270882191707, 131.15760835618912, 109.85417555691122, 158.56936402811053, 196.17677114515666, 230.13940872854494, 263.3714675406771], [438.30476759307624, 343.10179826002314, 279.6200916855852, 224.2304378012147, 174.5293378737442, 200.51252795790222, 245.95208307607686, 285.59287551729676], [213.22794738506096, 157.5359420144469, 218.53750248876852]]\n"
     ]
    }
   ],
   "source": [
    "#Menghitung ED\n",
    "\n",
    "ED = []\n",
    "perc_ED = []\n",
    "temp = []\n",
    "Status = []\n",
    "for i in range (len(ROI_slot)):            \n",
    "    new = []\n",
    "    new1 = []\n",
    "    for j in (ROI_slot[i]):\n",
    "        new.append(0)\n",
    "        new1.append(0)\n",
    "    ED.append(new)\n",
    "    perc_ED.append(new)\n",
    "    Status.append(new1)\n",
    "\n",
    "for row in range(len(ROI_slot)):\n",
    "    for slots in range(len(ROI_slot[row])):\n",
    "        centroid_slot_xx = centroid_slot_x[row][slots]\n",
    "        centroid_slot_yy = centroid_slot_y[row][slots]\n",
    "        temp = []\n",
    "        for car in range(len(ROI_car)):\n",
    "            x1 = ROI_car[car][0][0]\n",
    "            y1 = ROI_car[car][0][1]\n",
    "            x3 = ROI_car[car][2][0]\n",
    "            y3 = ROI_car[car][2][1]\n",
    "            \n",
    "            #print(x1)\n",
    "            \n",
    "            centroid_car_x = (x1+x3)/2\n",
    "            centroid_car_y = (y1+y3)/2\n",
    "            temp.append(math.sqrt(((centroid_slot_yy-centroid_car_y)**2)+((centroid_slot_xx-centroid_car_x)**2)))\n",
    "        \n",
    "        min_ed=min(temp) \n",
    "        ED[row][slots] = min_ed\n",
    "        perc_ED[row][slots] = (ED[row][slots]/diagonal_slot[row][slots])*100\n",
    "\n",
    "        if perc_ED[row][slots] < 50:\n",
    "            #slotXisi = int(centroid_slot_x[row][slots])\n",
    "            #slotYisi = int(centroid_slot_y[row][slots])\n",
    "            #draw ED line\n",
    "            #mod = cv2.line(plottedImage, (int(centroid_car_x),int(centroid_car_y)),(slotXisi,slotYisi),(0,255,255),1)\n",
    "            \n",
    "            Status[row][slots] = 'OCCUPIED'\n",
    "        else:\n",
    "            Status[row][slots] = 'VACANT'\n",
    "        #draw ROI_slot\n",
    "        mod = cv2.polylines(plottedImage, np.int32([ROI_slot[row][slots]]), True, (255,0,0), thickness=2)\n",
    "        #draw Status_slot\n",
    "        mod = cv2.putText(plottedImage, Status[row][slots], (int(centroid_slot_x[row][slots])-10, int(centroid_slot_y[row][slots])),\n",
    "                          cv2.FONT_HERSHEY_SIMPLEX, 0.3, (0, 0, 255), 1, cv2.LINE_AA)\n",
    "\n",
    "print(perc_ED)"
   ]
  },
  {
   "cell_type": "code",
   "execution_count": 53,
   "metadata": {},
   "outputs": [],
   "source": [
    "cv2.imshow('Shapes', mod)\n",
    "cv2.waitKey(0)\n",
    "cv2.destroyAllWindows()"
   ]
  },
  {
   "cell_type": "code",
   "execution_count": null,
   "metadata": {},
   "outputs": [],
   "source": []
  }
 ],
 "metadata": {
  "kernelspec": {
   "display_name": "Python 3",
   "language": "python",
   "name": "python3"
  },
  "language_info": {
   "codemirror_mode": {
    "name": "ipython",
    "version": 3
   },
   "file_extension": ".py",
   "mimetype": "text/x-python",
   "name": "python",
   "nbconvert_exporter": "python",
   "pygments_lexer": "ipython3",
   "version": "3.8.5"
  }
 },
 "nbformat": 4,
 "nbformat_minor": 4
}
