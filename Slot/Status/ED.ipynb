{
 "cells": [
  {
   "cell_type": "code",
   "execution_count": 88,
   "metadata": {},
   "outputs": [
    {
     "data": {
      "text/plain": [
       "'4.5.1'"
      ]
     },
     "execution_count": 88,
     "metadata": {},
     "output_type": "execute_result"
    }
   ],
   "source": [
    "import cv2\n",
    "cv2.__version__"
   ]
  },
  {
   "cell_type": "code",
   "execution_count": 89,
   "metadata": {},
   "outputs": [],
   "source": [
    "#program deteksi objek\n",
    "\n",
    "import matplotlib.pyplot as plt\n",
    "import cv2\n",
    "import numpy as np\n",
    "import math\n",
    "\n",
    "box=[]\n",
    "\n",
    "# Load Yolo\n",
    "net = cv2.dnn.readNet(\"yolov4-obj_best.weights\",\"yolov4-obj.cfg\")\n",
    "#net = cv2.dnn.readNet(\"20_yolov3.weights\",\"20_yolov3.cfg\")\n",
    "classes = []\n",
    "with open(\"obj.names\", \"r\") as f:\n",
    "    classes = [line.strip() for line in f.readlines()]\n",
    "layer_names = net.getLayerNames()\n",
    "output_layers = [layer_names[i[0] - 1] for i in net.getUnconnectedOutLayers()]\n",
    "\n",
    "color_white = (255,255,255)\n",
    "color_red = (0,0,255)\n",
    "#colors = np.random.uniform(0, 255, size=(len(classes), 3))\n",
    "\n",
    "# Loading image\n",
    "image = cv2.imread(\"sampelGambar/OVERCAST/camera1.jpg\") \n",
    "#img = cv2.resize(imges, None, fx=1, fy=1)\n",
    "height, width, channels = image.shape\n",
    "\n",
    "# Detecting objects\n",
    "#blob = cv2.dnn.blobFromImage(img, 0.00392, (416, 416), (0, 0, 0), True, crop=False)\n",
    "blob = cv2.dnn.blobFromImage(image, 0.00392, (608, 608), (0, 0, 0), True, crop=False)\n",
    "net.setInput(blob)\n",
    "outs = net.forward(output_layers)\n",
    "\n",
    "# Showing informations on the screen\n",
    "class_ids = []\n",
    "confidences = []\n",
    "boxes = []\n",
    "for out in outs:\n",
    "    for detection in out:\n",
    "        scores = detection[5:]\n",
    "        class_id = np.argmax(scores)\n",
    "        confidence = scores[class_id]\n",
    "        if confidence > 0.45:\n",
    "            if class_id == 1:\n",
    "                # Object detected\n",
    "                center_x = int(detection[0] * width)\n",
    "                center_y = int(detection[1] * height)\n",
    "                w = int(detection[2] * width)\n",
    "                h = int(detection[3] * height)\n",
    "\n",
    "                # Rectangle coordinates\n",
    "                x = int(center_x - w / 2)\n",
    "                y = int(center_y - h / 2)\n",
    "\n",
    "                boxes.append([x, y, w, h])\n",
    "                confidences.append(float(confidence))\n",
    "                class_ids.append(class_id)\n",
    "\n",
    "indexes = cv2.dnn.NMSBoxes(boxes, confidences, 0.45, 0.4)\n",
    "\n",
    "#print(indexes)\n",
    "font = cv2.FONT_HERSHEY_PLAIN\n",
    "for i in range(len(boxes)):\n",
    "    if i in indexes:\n",
    "        x, y, w, h = boxes[i]\n",
    "        \n",
    "        box.append(boxes[i])\n",
    "        #print(boxes[i])\n",
    "        label = str(classes[class_ids[i]])\n",
    "        #color = colors[i]\n",
    "        cv2.rectangle(image, (x, y), (x + w, y + h), (255,0,0), 2)\n",
    "        cv2.putText(image, label, (x, y + 30), font, 1, color_white, 2)\n",
    "        cv2.putText(image, str(\"{:.2f}\".format(confidences[i])), (x, y + 50), font, 1, color_red, 2)\n",
    "        \n",
    "cv2.imshow(\"output1\",image)\n",
    "cv2.waitKey(0)\n",
    "cv2.destroyAllWindows()\n",
    "#cv2.imwrite(\"output1.jpg\", image)\n"
   ]
  },
  {
   "cell_type": "code",
   "execution_count": 90,
   "metadata": {},
   "outputs": [],
   "source": [
    "#Load koodinat npy\n",
    "ROI_slot = np.load('coordinate/camera1.npy',allow_pickle=True)"
   ]
  },
  {
   "cell_type": "code",
   "execution_count": 91,
   "metadata": {},
   "outputs": [],
   "source": [
    "boxess = []\n",
    "for i in range(len(indexes)):\n",
    "    boxess.append([])\n",
    "    boxess[i].append(box[i][0])\n",
    "    boxess[i].append(box[i][1])\n",
    "    boxess[i].append(box[i][2]+box[i][0])\n",
    "    boxess[i].append(box[i][3]+box[i][1])"
   ]
  },
  {
   "cell_type": "code",
   "execution_count": 92,
   "metadata": {},
   "outputs": [],
   "source": [
    "ROI_car = []\n",
    "for i in range(len(indexes)):\n",
    "    ROI_car.append([(boxess[i][0],boxess[i][3]), (boxess[i][0],boxess[i][1]), (boxess[i][2],boxess[i][1]), (boxess[i][2],boxess[i][3])])    \n"
   ]
  },
  {
   "cell_type": "code",
   "execution_count": 93,
   "metadata": {},
   "outputs": [],
   "source": [
    "#inisialisasi array\n",
    "diagonal_slot = []                      \n",
    "centroid_slot_x = []\n",
    "centroid_slot_y = []\n",
    "for i in range (len(ROI_slot)):            \n",
    "    new = []\n",
    "    new1 = []\n",
    "    new2 = []\n",
    "    new3 = [0,0]\n",
    "    for j in (ROI_slot[i]):\n",
    "        new.append(0)\n",
    "        new1.append(0)\n",
    "        new2.append(0)\n",
    "    diagonal_slot.append(new)    \n",
    "    centroid_slot_x.append(new1)\n",
    "    centroid_slot_y.append(new2)\n",
    "\n",
    "    \n",
    "#print(centroid_slot)\n",
    "#print(diagonal_slot)\n",
    "    \n",
    "for row in range(len(ROI_slot)):\n",
    "    for slots in range(len(ROI_slot[row])):\n",
    "        x1 = ROI_slot[row][slots][0][0]\n",
    "        y1 = ROI_slot[row][slots][0][1]\n",
    "        x2 = ROI_slot[row][slots][1][0]\n",
    "        y2 = ROI_slot[row][slots][1][1]\n",
    "        x3 = ROI_slot[row][slots][2][0]\n",
    "        y3 = ROI_slot[row][slots][2][1]\n",
    "        x4 = ROI_slot[row][slots][3][0]\n",
    "        y4 = ROI_slot[row][slots][3][1]\n",
    "        \n",
    "        #menghitung centroid slot        \n",
    "        centroid_slot_x[row][slots] = (x3+x1)/2\n",
    "        centroid_slot_y[row][slots] = (y3+y1)/2        \n",
    "        \n",
    "        #print((x3+x1)/2)\n",
    "        #menghitung diagonal slot\n",
    "        d1 = math.sqrt(((y3-y1)**2)+((x3-x1)**2))\n",
    "        d2 = math.sqrt(((y4-y2)**2)+((x4-x2)**2))\n",
    "        if d1<d2:\n",
    "            diagonal_slot[row][slots] = d1\n",
    "        else:\n",
    "            diagonal_slot[row][slots] = d2\n",
    "        \n"
   ]
  },
  {
   "cell_type": "code",
   "execution_count": 94,
   "metadata": {},
   "outputs": [
    {
     "data": {
      "text/plain": [
       "array([list([[[968, 65], [998, 101], [940, 105], [918, 68]], [[940, 105], [918, 68], [873, 66], [892, 104]], [[873, 66], [892, 104], [838, 102], [829, 66]], [[838, 102], [829, 66], [770, 68], [794, 102]], [[770, 68], [794, 102], [732, 98], [713, 65]], [[732, 98], [713, 65], [662, 68], [676, 95]], [[662, 68], [676, 95], [625, 101], [614, 65]], [[625, 101], [614, 65], [561, 63], [570, 96]], [[561, 63], [570, 96], [512, 96], [511, 64]], [[512, 96], [511, 64], [454, 62], [452, 98]], [[454, 62], [452, 98], [393, 92], [401, 55]], [[393, 92], [401, 55], [349, 57], [337, 96]], [[349, 57], [337, 96], [280, 90], [295, 53]], [[280, 90], [295, 53], [244, 58], [227, 88]], [[244, 58], [227, 88], [167, 90], [195, 59]], [[167, 90], [195, 59], [135, 54], [111, 88]], [[135, 54], [111, 88], [68, 85], [90, 52]], [[68, 85], [90, 52], [39, 54], [20, 85]]]),\n",
       "       list([[[971, 120], [994, 176], [935, 181], [913, 131]], [[935, 181], [913, 131], [849, 130], [873, 178]], [[849, 130], [873, 178], [806, 175], [785, 132]], [[806, 175], [785, 132], [721, 133], [740, 177]], [[721, 133], [740, 177], [661, 170], [651, 133]], [[661, 170], [651, 133], [578, 132], [591, 172]], [[578, 132], [591, 172], [514, 166], [517, 130]], [[514, 166], [517, 130], [457, 129], [447, 169]], [[457, 129], [447, 169], [371, 165], [376, 117]], [[371, 165], [376, 117], [320, 129], [301, 166]], [[320, 129], [301, 166], [232, 162], [252, 127]], [[232, 162], [252, 127], [189, 126], [149, 165]], [[189, 126], [149, 165], [82, 158], [117, 129]], [[82, 158], [117, 129], [47, 124], [13, 155]]]),\n",
       "       list([[[983, 214], [997, 263], [947, 265], [914, 214]], [[947, 265], [914, 214], [841, 212], [864, 265]], [[841, 212], [864, 265], [779, 269], [755, 207]], [[779, 269], [755, 207], [676, 215], [697, 274]], [[676, 215], [697, 274], [610, 264], [594, 213]], [[610, 264], [594, 213], [516, 212], [492, 270]], [[516, 212], [492, 270], [428, 267], [438, 208]], [[428, 267], [438, 208], [353, 209], [328, 262]], [[353, 209], [328, 262], [240, 269], [270, 206]], [[240, 269], [270, 206], [185, 209], [144, 259]], [[185, 209], [144, 259], [66, 253], [107, 210]], [[66, 253], [107, 210], [30, 207], [4, 240]]]),\n",
       "       list([[[872, 406], [954, 537], [813, 539], [751, 413]], [[813, 539], [751, 413], [644, 413], [673, 533]], [[644, 413], [673, 533], [533, 538], [512, 415]], [[533, 538], [512, 415], [408, 408], [386, 532]], [[408, 408], [386, 532], [246, 528], [283, 402]], [[246, 528], [283, 402], [161, 412], [95, 525]], [[161, 412], [95, 525], [6, 513], [35, 403]]]),\n",
       "       list([[[992, 678], [997, 743], [688, 743], [690, 686]], [[688, 743], [690, 686], [375, 692], [373, 743]], [[375, 692], [373, 743], [26, 741], [32, 684]]])],\n",
       "      dtype=object)"
      ]
     },
     "execution_count": 94,
     "metadata": {},
     "output_type": "execute_result"
    }
   ],
   "source": [
    "ROI_slot"
   ]
  },
  {
   "cell_type": "code",
   "execution_count": 95,
   "metadata": {},
   "outputs": [],
   "source": [
    "#Load images\n",
    "image = cv2.imread(\"sampelGambar/OVERCAST/camera1.jpg\")\n",
    "image = cv2.resize(image, (image.shape[1],image.shape[0]), interpolation = cv2.INTER_AREA)\n",
    "plottedImage = image.copy()"
   ]
  },
  {
   "cell_type": "code",
   "execution_count": 96,
   "metadata": {},
   "outputs": [
    {
     "name": "stdout",
     "output_type": "stream",
     "text": [
      "[[75.55721419857713, 59.25928860528159, 127.23604951705967, 127.41907543771703, 206.5480961930069, 218.05361198436285, 131.1059547039276, 113.44695043345598, 162.33433256734682, 210.55394701066498, 226.00835223703322, 263.3121353211863, 249.51239467306735, 238.2135379342921, 136.5065868644171, 23.671603823699964, 113.42016383172539, 109.89476350356735], [127.92521048556284, 100.89192677004446, 16.266050807731755, 107.46518241783598, 115.25999379774228, 19.325170488542856, 89.77101274702657, 115.22522055020994, 96.82166658053293, 129.55827917721646, 125.3094079897819, 134.9851313722142, 163.71232127708356, 118.86344025667188], [264.5229946109741, 160.18790426743652, 118.4231302733146, 98.13133713368777, 24.33821430277258, 18.58280452237528, 23.395240501146997, 23.496034417101644, 21.411714981792993, 25.668422712124368, 22.62601024313713, 24.8235272056739], [10.586263057247415, 12.222310982972864, 7.477392631005772, 10.1776873836986, 6.639012280434662, 13.307701455950752, 18.93193311107518], [80.66482429267202, 17.186227377022224, 19.30267191523192]]\n"
     ]
    }
   ],
   "source": [
    "#Menghitung ED\n",
    "carX = 0\n",
    "carY = 0\n",
    "ED = []\n",
    "perc_ED = []\n",
    "temp = []\n",
    "Status = []\n",
    "allCentroidCar = []\n",
    "for i in range (len(ROI_slot)):            \n",
    "    new = []\n",
    "    new1 = []\n",
    "    for j in (ROI_slot[i]):\n",
    "        new.append(0)\n",
    "        new1.append(0)\n",
    "    ED.append(new)\n",
    "    perc_ED.append(new)\n",
    "    Status.append(new1)\n",
    "\n",
    "#gambar titik centroid di mobil\n",
    "for car in range(len(ROI_car)):\n",
    "    x1 = ROI_car[car][0][0]\n",
    "    y1 = ROI_car[car][0][1]\n",
    "    x3 = ROI_car[car][2][0]\n",
    "    y3 = ROI_car[car][2][1]\n",
    "    centroid_car_x = (x1+x3)/2\n",
    "    centroid_car_y = (y1+y3)/2\n",
    "    allCentroidCar.append((int(centroid_car_x),int(centroid_car_y)))\n",
    "    mod = cv2.circle(plottedImage, (int(centroid_car_x),int(centroid_car_y)), 4, (0,0,255), -1)\n",
    "    \n",
    "for row in range(len(ROI_slot)):\n",
    "    for slots in range(len(ROI_slot[row])):\n",
    "        centroid_slot_xx = centroid_slot_x[row][slots]\n",
    "        centroid_slot_yy = centroid_slot_y[row][slots]\n",
    "        #titik di slot\n",
    "        mod = cv2.circle(plottedImage, (int(centroid_slot_xx),int(centroid_slot_yy)), 4, (0,0,255), -1)\n",
    "        temp = []\n",
    "        for car in range(len(ROI_car)):\n",
    "            x1 = ROI_car[car][0][0]\n",
    "            y1 = ROI_car[car][0][1]\n",
    "            x3 = ROI_car[car][2][0]\n",
    "            y3 = ROI_car[car][2][1]\n",
    "            \n",
    "            #print(x1)\n",
    "            \n",
    "            centroid_car_x = (x1+x3)/2\n",
    "            centroid_car_y = (y1+y3)/2\n",
    "            temp.append(math.sqrt(((centroid_slot_yy-centroid_car_y)**2)+((centroid_slot_xx-centroid_car_x)**2)))\n",
    "        \n",
    "        min_ed=min(temp) \n",
    "        ED[row][slots] = min_ed\n",
    "        perc_ED[row][slots] = (ED[row][slots]/diagonal_slot[row][slots])*100\n",
    "\n",
    "        if perc_ED[row][slots] < 50:\n",
    "            #slotXisi = int(centroid_slot_x[row][slots])\n",
    "            #slotYisi = int(centroid_slot_y[row][slots])\n",
    "            #draw ED line\n",
    "            for i in allCentroidCar:\n",
    "                carX = i[0]\n",
    "                carY = i[1]\n",
    "                eucTest = math.sqrt(((centroid_slot_yy-carY)**2)+((centroid_slot_xx-carX)**2))/diagonal_slot[row][slots]*100\n",
    "                if eucTest<50:\n",
    "                    break\n",
    "                else:\n",
    "                    continue\n",
    "            mod = cv2.line(plottedImage,(int(centroid_slot_xx),int(centroid_slot_yy)),(carX,carY),(255,255,255),1)        \n",
    "            Status[row][slots] = 'OCCUPIED'\n",
    "        else:\n",
    "            Status[row][slots] = 'VACANT'\n",
    "        #draw ROI_slot\n",
    "        mod = cv2.polylines(plottedImage, np.int32([ROI_slot[row][slots]]), True, (255,0,0), thickness=2)\n",
    "        #draw Status_slot\n",
    "        mod = cv2.putText(plottedImage, Status[row][slots], (int(centroid_slot_x[row][slots])-20, int(centroid_slot_y[row][slots])+25),\n",
    "                          cv2.FONT_HERSHEY_SIMPLEX, 0.3, (255, 255, 255), 1, cv2.LINE_AA)\n",
    "\n",
    "print(perc_ED)"
   ]
  },
  {
   "cell_type": "code",
   "execution_count": 97,
   "metadata": {},
   "outputs": [],
   "source": [
    "cv2.imshow('Shapes', mod)\n",
    "cv2.waitKey(0)\n",
    "cv2.destroyAllWindows()"
   ]
  },
  {
   "cell_type": "code",
   "execution_count": 98,
   "metadata": {},
   "outputs": [
    {
     "data": {
      "text/plain": [
       "True"
      ]
     },
     "execution_count": 98,
     "metadata": {},
     "output_type": "execute_result"
    }
   ],
   "source": [
    "cv2.imwrite('27April/Hasil_ED/OVERCAST/camera1.jpg',mod)"
   ]
  },
  {
   "cell_type": "code",
   "execution_count": null,
   "metadata": {},
   "outputs": [],
   "source": []
  }
 ],
 "metadata": {
  "kernelspec": {
   "display_name": "Python 3",
   "language": "python",
   "name": "python3"
  },
  "language_info": {
   "codemirror_mode": {
    "name": "ipython",
    "version": 3
   },
   "file_extension": ".py",
   "mimetype": "text/x-python",
   "name": "python",
   "nbconvert_exporter": "python",
   "pygments_lexer": "ipython3",
   "version": "3.8.5"
  }
 },
 "nbformat": 4,
 "nbformat_minor": 4
}
