{
 "cells": [
  {
   "cell_type": "code",
   "execution_count": 47,
   "metadata": {},
   "outputs": [],
   "source": [
    "#Import modul\n",
    "from PIL import Image                                   \n",
    "import cv2                                              \n",
    "import numpy as np                                      \n",
    "import matplotlib.pyplot as plt "
   ]
  },
  {
   "cell_type": "code",
   "execution_count": 48,
   "metadata": {},
   "outputs": [],
   "source": [
    "#Load images\n",
    "image = cv2.imread(\"data/CNR/samples/cam5.jpg\")\n",
    "image = cv2.resize(image, (image.shape[1],image.shape[0]), interpolation = cv2.INTER_AREA)\n",
    "plottedImage = image.copy()"
   ]
  },
  {
   "cell_type": "code",
   "execution_count": 49,
   "metadata": {},
   "outputs": [],
   "source": [
    "#Load koodinat npy\n",
    "ROI_slot = np.load('data/CNR/coordinate/cam5.npy',allow_pickle=True)"
   ]
  },
  {
   "cell_type": "code",
   "execution_count": 50,
   "metadata": {},
   "outputs": [
    {
     "data": {
      "text/plain": [
       "array([list([[[983, 108], [943, 73], [899, 70], [921, 107]], [[899, 70], [921, 107], [864, 104], [849, 68]], [[864, 104], [849, 68], [795, 64], [802, 100]], [[795, 64], [802, 100], [747, 98], [737, 62]], [[747, 98], [737, 62], [673, 62], [681, 96]], [[673, 62], [681, 96], [622, 94], [617, 66]], [[622, 94], [617, 66], [563, 62], [562, 88]], [[563, 62], [562, 88], [509, 85], [512, 57]], [[509, 85], [512, 57], [457, 55], [450, 81]], [[457, 55], [450, 81], [387, 76], [402, 50]], [[387, 76], [402, 50], [345, 49], [334, 71]], [[345, 49], [334, 71], [276, 69], [294, 48]], [[276, 69], [294, 48], [251, 44], [229, 67]], [[251, 44], [229, 67], [180, 68], [194, 40]], [[180, 68], [194, 40], [140, 39], [120, 63]], [[140, 39], [120, 63], [65, 60], [83, 36]]]),\n",
       "       list([[[999, 189], [997, 144], [936, 142], [948, 187]], [[936, 142], [948, 187], [880, 184], [859, 138]], [[880, 184], [859, 138], [790, 138], [802, 182]], [[790, 138], [802, 182], [723, 175], [713, 138]], [[723, 175], [713, 138], [638, 132], [641, 170]], [[638, 132], [641, 170], [565, 170], [564, 130]], [[565, 170], [564, 130], [491, 127], [487, 169]], [[491, 127], [487, 169], [411, 161], [422, 119]], [[411, 161], [422, 119], [355, 118], [341, 156]], [[355, 118], [341, 156], [269, 155], [287, 115]], [[269, 155], [287, 115], [223, 109], [196, 151]], [[223, 109], [196, 151], [132, 149], [157, 108]], [[132, 149], [157, 108], [96, 103], [70, 142]], [[96, 103], [70, 142], [6, 143], [15, 95]]]),\n",
       "       list([[[998, 282], [985, 214], [911, 209], [944, 281]], [[911, 209], [944, 281], [845, 273], [827, 217]], [[845, 273], [827, 217], [744, 214], [747, 268]], [[744, 214], [747, 268], [661, 268], [657, 213]], [[661, 268], [657, 213], [565, 208], [558, 264]], [[565, 208], [558, 264], [471, 258], [478, 202]], [[471, 258], [478, 202], [400, 197], [387, 256]], [[400, 197], [387, 256], [306, 248], [326, 191]], [[306, 248], [326, 191], [245, 188], [219, 239]], [[245, 188], [219, 239], [117, 234], [155, 184]], [[117, 234], [155, 184], [75, 179], [39, 230]], [[75, 179], [39, 230], [2, 229], [2, 179]]]),\n",
       "       list([[[998, 525], [937, 415], [817, 406], [872, 556]], [[817, 406], [872, 556], [715, 546], [686, 404]], [[715, 546], [686, 404], [564, 398], [565, 532]], [[564, 398], [565, 532], [423, 529], [450, 394]], [[423, 529], [450, 394], [334, 388], [283, 514]], [[334, 388], [283, 514], [144, 504], [191, 383]], [[144, 504], [191, 383], [75, 372], [14, 494]], [[75, 372], [14, 494], [0, 494], [1, 358]]]),\n",
       "       list([[[998, 732], [994, 706], [838, 706], [843, 733]], [[838, 706], [843, 733], [490, 732], [490, 688]], [[490, 732], [490, 688], [63, 657], [7, 731]]])],\n",
       "      dtype=object)"
      ]
     },
     "execution_count": 50,
     "metadata": {},
     "output_type": "execute_result"
    }
   ],
   "source": [
    "ROI_slot"
   ]
  },
  {
   "cell_type": "code",
   "execution_count": 51,
   "metadata": {},
   "outputs": [
    {
     "data": {
      "text/plain": [
       "[[983, 108], [943, 73], [899, 70], [921, 107]]"
      ]
     },
     "execution_count": 51,
     "metadata": {},
     "output_type": "execute_result"
    }
   ],
   "source": [
    "len(ROI_slot[0][0])\n",
    "ROI_slot[0][0]"
   ]
  },
  {
   "cell_type": "code",
   "execution_count": 52,
   "metadata": {},
   "outputs": [],
   "source": [
    "#Plotting\n",
    "for row in range(len(ROI_slot)):\n",
    "    for slots in range(len(ROI_slot[row])):\n",
    "        for titik in range (len(ROI_slot[row][slots])):\n",
    "            x1 = ROI_slot[row][slots][titik][0]\n",
    "            y1 = ROI_slot[row][slots][titik][1]\n",
    "            if titik==3:\n",
    "                x2 = ROI_slot[row][slots][0][0]\n",
    "                y2 = ROI_slot[row][slots][0][1]\n",
    "            else:\n",
    "                x2 = ROI_slot[row][slots][titik+1][0]\n",
    "                y2 = ROI_slot[row][slots][titik+1][1]\n",
    "            cv2.line(plottedImage,(x1,y1),(x2,y2),(0,0,255),1)"
   ]
  },
  {
   "cell_type": "code",
   "execution_count": 53,
   "metadata": {},
   "outputs": [],
   "source": [
    "cv2.imshow(\"Image\",plottedImage)\n",
    "cv2.waitKey(0)\n",
    "cv2.destroyAllWindows()"
   ]
  },
  {
   "cell_type": "code",
   "execution_count": null,
   "metadata": {},
   "outputs": [],
   "source": []
  }
 ],
 "metadata": {
  "kernelspec": {
   "display_name": "Python 3",
   "language": "python",
   "name": "python3"
  },
  "language_info": {
   "codemirror_mode": {
    "name": "ipython",
    "version": 3
   },
   "file_extension": ".py",
   "mimetype": "text/x-python",
   "name": "python",
   "nbconvert_exporter": "python",
   "pygments_lexer": "ipython3",
   "version": "3.8.5"
  }
 },
 "nbformat": 4,
 "nbformat_minor": 4
}
